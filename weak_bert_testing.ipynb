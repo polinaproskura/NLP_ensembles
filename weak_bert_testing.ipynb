{
  "nbformat": 4,
  "nbformat_minor": 0,
  "metadata": {
    "colab": {
      "provenance": [],
      "gpuType": "T4",
      "authorship_tag": "ABX9TyNhkF5i0o5F87Kds3H6xH7w"
    },
    "kernelspec": {
      "name": "python3",
      "display_name": "Python 3"
    },
    "language_info": {
      "name": "python"
    },
    "accelerator": "GPU"
  },
  "cells": [
    {
      "cell_type": "code",
      "execution_count": null,
      "metadata": {
        "id": "Bi9xqXXxNTbe"
      },
      "outputs": [],
      "source": [
        "from IPython.display import clear_output\n",
        "! pip install datasets\n",
        "! pip install transformers\n",
        "! pip install accelerate -U\n",
        "clear_output()"
      ]
    },
    {
      "cell_type": "code",
      "source": [
        "from IPython.display import clear_output\n",
        "! pip install datasets\n",
        "! pip install transformers[torch]\n",
        "! pip install bayesian-optimization\n",
        "! pip install cvxopt\n",
        "! pip install qpsolvers==3.4.0\n",
        "! pip install accelerate==0.20.3 -U\n",
        "! pip install git+https://github.com/simonzhang00/ripser-plusplus.git\n",
        "! pip install git+https://github.com/IlyaTrofimov/RTD.git\n",
        "clear_output()"
      ],
      "metadata": {
        "id": "LU5T68LZu_gL"
      },
      "execution_count": null,
      "outputs": []
    },
    {
      "cell_type": "code",
      "source": [
        "from transformers import AutoTokenizer, DataCollatorWithPadding, AutoModelForSequenceClassification, TrainingArguments, Trainer, set_seed\n",
        "from sklearn.metrics import accuracy_score\n",
        "from datasets import load_dataset\n",
        "import numpy as np"
      ],
      "metadata": {
        "id": "Op43r8bVNe1Q"
      },
      "execution_count": null,
      "outputs": []
    },
    {
      "cell_type": "code",
      "source": [
        "set_seed(42)\n",
        "imdb = load_dataset(\"imdb\")\n",
        "tokenizer = AutoTokenizer.from_pretrained(\"distilbert-base-uncased\")\n",
        "def preprocess_function(examples):\n",
        "    return tokenizer(examples[\"text\"], truncation=True)\n",
        "tokenized_imdb = imdb.map(preprocess_function, batched=True)\n",
        "data_collator = DataCollatorWithPadding(tokenizer=tokenizer)"
      ],
      "metadata": {
        "id": "pqPTFE_HNhWa"
      },
      "execution_count": null,
      "outputs": []
    },
    {
      "cell_type": "code",
      "source": [
        "dataset = tokenized_imdb[\"test\"].train_test_split(test_size=0.5)\n",
        "train, val, test = tokenized_imdb[\"train\"], dataset['train'], dataset['test']"
      ],
      "metadata": {
        "id": "UtLq7mV0NkUc"
      },
      "execution_count": null,
      "outputs": []
    },
    {
      "cell_type": "code",
      "source": [
        "from google.colab import drive\n",
        "drive.mount('/content/gdrive')"
      ],
      "metadata": {
        "colab": {
          "base_uri": "https://localhost:8080/"
        },
        "id": "j4VYdvf2Nut0",
        "outputId": "3fcafccf-a769-4c01-e55e-0c93d6d6e215"
      },
      "execution_count": null,
      "outputs": [
        {
          "output_type": "stream",
          "name": "stdout",
          "text": [
            "Drive already mounted at /content/gdrive; to attempt to forcibly remount, call drive.mount(\"/content/gdrive\", force_remount=True).\n"
          ]
        }
      ]
    },
    {
      "cell_type": "code",
      "source": [
        "from torch import nn\n",
        "import copy\n",
        "\n",
        "weak_seeds = [123, 42, 43]\n",
        "\n",
        "def load_trainer_weak(number, seed):\n",
        "    model = AutoModelForSequenceClassification.from_pretrained(\"gdrive/MyDrive/results_bert_weak_\" + str(number) + \"/\")\n",
        "    oldModuleList = model.distilbert.transformer.layer\n",
        "    newModuleList = nn.ModuleList(oldModuleList[:1])\n",
        "\n",
        "    copyOfModel = copy.deepcopy(model)\n",
        "    copyOfModel.distilbert.transformer.layer = newModuleList\n",
        "\n",
        "    training_args = TrainingArguments(\n",
        "        output_dir=\"./results\",\n",
        "        learning_rate=2e-5,\n",
        "        per_device_train_batch_size=16,\n",
        "        per_device_eval_batch_size=16,\n",
        "        num_train_epochs=5,\n",
        "        weight_decay=0.01,\n",
        "        seed=seed,\n",
        "    )\n",
        "\n",
        "    trainer = Trainer(\n",
        "        model=copyOfModel,\n",
        "        args=training_args,\n",
        "        train_dataset=tokenized_imdb[\"train\"],\n",
        "        eval_dataset=tokenized_imdb[\"test\"],\n",
        "        tokenizer=tokenizer,\n",
        "        data_collator=data_collator,\n",
        "    )\n",
        "    return trainer, copyOfModel\n",
        "\n",
        "def load_trainer(number, seed):\n",
        "    model = AutoModelForSequenceClassification.from_pretrained(\"gdrive/MyDrive/results_bert_\" + str(number) + \"/\")\n",
        "    training_args = TrainingArguments(\n",
        "        output_dir=\"./results\",\n",
        "        learning_rate=2e-5,\n",
        "        per_device_train_batch_size=16,\n",
        "        per_device_eval_batch_size=16,\n",
        "        num_train_epochs=5,\n",
        "        weight_decay=0.01,\n",
        "        seed=seed,\n",
        "    )\n",
        "\n",
        "    trainer = Trainer(\n",
        "        model=model,\n",
        "        args=training_args,\n",
        "        train_dataset=tokenized_imdb[\"train\"],\n",
        "        eval_dataset=tokenized_imdb[\"test\"],\n",
        "        tokenizer=tokenizer,\n",
        "        data_collator=data_collator,\n",
        "    )\n",
        "    return trainer, model\n"
      ],
      "metadata": {
        "id": "tHy8x7J5NyTx"
      },
      "execution_count": null,
      "outputs": []
    },
    {
      "cell_type": "code",
      "source": [
        "models = []\n",
        "trainers = []\n",
        "for i in range(1, 6):\n",
        "    trainer, model = load_trainer(i, 123)\n",
        "    models.append(model)\n",
        "    trainers.append(trainer)\n",
        "\n",
        "weak_models = []\n",
        "weak_trainers = []\n",
        "for i in range(1, 4):\n",
        "    trainer, model = load_trainer_weak(i, 123)\n",
        "    weak_models.append(model)\n",
        "    weak_trainers.append(trainer)"
      ],
      "metadata": {
        "colab": {
          "base_uri": "https://localhost:8080/"
        },
        "id": "6xaLQVodN1W0",
        "outputId": "53deff22-ab04-4975-c068-21d5a52b005f"
      },
      "execution_count": null,
      "outputs": [
        {
          "output_type": "stream",
          "name": "stderr",
          "text": [
            "Some weights of DistilBertForSequenceClassification were not initialized from the model checkpoint at gdrive/MyDrive/results_bert_weak_1/ and are newly initialized: ['distilbert.transformer.layer.1.ffn.lin1.weight', 'distilbert.transformer.layer.3.ffn.lin2.bias', 'distilbert.transformer.layer.3.attention.k_lin.bias', 'distilbert.transformer.layer.4.ffn.lin2.bias', 'distilbert.transformer.layer.4.attention.out_lin.weight', 'distilbert.transformer.layer.1.attention.k_lin.bias', 'distilbert.transformer.layer.5.attention.v_lin.weight', 'distilbert.transformer.layer.4.attention.out_lin.bias', 'distilbert.transformer.layer.5.attention.k_lin.bias', 'distilbert.transformer.layer.3.attention.v_lin.bias', 'distilbert.transformer.layer.4.attention.k_lin.weight', 'distilbert.transformer.layer.2.attention.out_lin.bias', 'distilbert.transformer.layer.2.sa_layer_norm.weight', 'distilbert.transformer.layer.1.sa_layer_norm.weight', 'distilbert.transformer.layer.3.attention.v_lin.weight', 'distilbert.transformer.layer.5.ffn.lin2.bias', 'distilbert.transformer.layer.1.sa_layer_norm.bias', 'distilbert.transformer.layer.2.attention.q_lin.weight', 'distilbert.transformer.layer.4.ffn.lin1.weight', 'distilbert.transformer.layer.5.ffn.lin1.weight', 'distilbert.transformer.layer.5.output_layer_norm.bias', 'distilbert.transformer.layer.2.ffn.lin2.bias', 'distilbert.transformer.layer.2.attention.v_lin.weight', 'distilbert.transformer.layer.4.attention.q_lin.bias', 'distilbert.transformer.layer.1.output_layer_norm.weight', 'distilbert.transformer.layer.3.output_layer_norm.weight', 'distilbert.transformer.layer.5.attention.k_lin.weight', 'distilbert.transformer.layer.4.attention.q_lin.weight', 'distilbert.transformer.layer.3.ffn.lin2.weight', 'distilbert.transformer.layer.4.attention.k_lin.bias', 'distilbert.transformer.layer.2.output_layer_norm.bias', 'distilbert.transformer.layer.4.attention.v_lin.bias', 'distilbert.transformer.layer.4.attention.v_lin.weight', 'distilbert.transformer.layer.1.output_layer_norm.bias', 'distilbert.transformer.layer.3.attention.out_lin.bias', 'distilbert.transformer.layer.1.attention.q_lin.weight', 'distilbert.transformer.layer.5.attention.q_lin.weight', 'distilbert.transformer.layer.5.attention.out_lin.weight', 'distilbert.transformer.layer.2.output_layer_norm.weight', 'distilbert.transformer.layer.3.output_layer_norm.bias', 'distilbert.transformer.layer.3.attention.k_lin.weight', 'distilbert.transformer.layer.4.sa_layer_norm.weight', 'distilbert.transformer.layer.1.attention.q_lin.bias', 'distilbert.transformer.layer.3.attention.out_lin.weight', 'distilbert.transformer.layer.1.attention.k_lin.weight', 'distilbert.transformer.layer.2.attention.k_lin.weight', 'distilbert.transformer.layer.4.ffn.lin1.bias', 'distilbert.transformer.layer.1.ffn.lin2.weight', 'distilbert.transformer.layer.5.attention.v_lin.bias', 'distilbert.transformer.layer.1.ffn.lin2.bias', 'distilbert.transformer.layer.1.attention.out_lin.bias', 'distilbert.transformer.layer.4.output_layer_norm.weight', 'distilbert.transformer.layer.2.ffn.lin2.weight', 'distilbert.transformer.layer.1.attention.v_lin.bias', 'distilbert.transformer.layer.3.attention.q_lin.weight', 'distilbert.transformer.layer.5.sa_layer_norm.weight', 'distilbert.transformer.layer.3.sa_layer_norm.weight', 'distilbert.transformer.layer.2.sa_layer_norm.bias', 'distilbert.transformer.layer.2.attention.out_lin.weight', 'distilbert.transformer.layer.5.attention.out_lin.bias', 'distilbert.transformer.layer.1.attention.v_lin.weight', 'distilbert.transformer.layer.1.ffn.lin1.bias', 'distilbert.transformer.layer.3.attention.q_lin.bias', 'distilbert.transformer.layer.4.ffn.lin2.weight', 'distilbert.transformer.layer.4.sa_layer_norm.bias', 'distilbert.transformer.layer.2.ffn.lin1.bias', 'distilbert.transformer.layer.3.sa_layer_norm.bias', 'distilbert.transformer.layer.2.attention.v_lin.bias', 'distilbert.transformer.layer.3.ffn.lin1.bias', 'distilbert.transformer.layer.5.ffn.lin2.weight', 'distilbert.transformer.layer.2.attention.k_lin.bias', 'distilbert.transformer.layer.4.output_layer_norm.bias', 'distilbert.transformer.layer.2.attention.q_lin.bias', 'distilbert.transformer.layer.5.output_layer_norm.weight', 'distilbert.transformer.layer.1.attention.out_lin.weight', 'distilbert.transformer.layer.5.ffn.lin1.bias', 'distilbert.transformer.layer.3.ffn.lin1.weight', 'distilbert.transformer.layer.5.sa_layer_norm.bias', 'distilbert.transformer.layer.5.attention.q_lin.bias', 'distilbert.transformer.layer.2.ffn.lin1.weight']\n",
            "You should probably TRAIN this model on a down-stream task to be able to use it for predictions and inference.\n",
            "Some weights of DistilBertForSequenceClassification were not initialized from the model checkpoint at gdrive/MyDrive/results_bert_weak_2/ and are newly initialized: ['distilbert.transformer.layer.1.ffn.lin1.weight', 'distilbert.transformer.layer.3.ffn.lin2.bias', 'distilbert.transformer.layer.3.attention.k_lin.bias', 'distilbert.transformer.layer.4.ffn.lin2.bias', 'distilbert.transformer.layer.4.attention.out_lin.weight', 'distilbert.transformer.layer.1.attention.k_lin.bias', 'distilbert.transformer.layer.5.attention.v_lin.weight', 'distilbert.transformer.layer.4.attention.out_lin.bias', 'distilbert.transformer.layer.5.attention.k_lin.bias', 'distilbert.transformer.layer.3.attention.v_lin.bias', 'distilbert.transformer.layer.4.attention.k_lin.weight', 'distilbert.transformer.layer.2.attention.out_lin.bias', 'distilbert.transformer.layer.2.sa_layer_norm.weight', 'distilbert.transformer.layer.1.sa_layer_norm.weight', 'distilbert.transformer.layer.3.attention.v_lin.weight', 'distilbert.transformer.layer.5.ffn.lin2.bias', 'distilbert.transformer.layer.1.sa_layer_norm.bias', 'distilbert.transformer.layer.2.attention.q_lin.weight', 'distilbert.transformer.layer.4.ffn.lin1.weight', 'distilbert.transformer.layer.5.ffn.lin1.weight', 'distilbert.transformer.layer.5.output_layer_norm.bias', 'distilbert.transformer.layer.2.ffn.lin2.bias', 'distilbert.transformer.layer.2.attention.v_lin.weight', 'distilbert.transformer.layer.4.attention.q_lin.bias', 'distilbert.transformer.layer.1.output_layer_norm.weight', 'distilbert.transformer.layer.3.output_layer_norm.weight', 'distilbert.transformer.layer.5.attention.k_lin.weight', 'distilbert.transformer.layer.4.attention.q_lin.weight', 'distilbert.transformer.layer.3.ffn.lin2.weight', 'distilbert.transformer.layer.4.attention.k_lin.bias', 'distilbert.transformer.layer.2.output_layer_norm.bias', 'distilbert.transformer.layer.4.attention.v_lin.bias', 'distilbert.transformer.layer.4.attention.v_lin.weight', 'distilbert.transformer.layer.1.output_layer_norm.bias', 'distilbert.transformer.layer.3.attention.out_lin.bias', 'distilbert.transformer.layer.1.attention.q_lin.weight', 'distilbert.transformer.layer.5.attention.q_lin.weight', 'distilbert.transformer.layer.5.attention.out_lin.weight', 'distilbert.transformer.layer.2.output_layer_norm.weight', 'distilbert.transformer.layer.3.output_layer_norm.bias', 'distilbert.transformer.layer.3.attention.k_lin.weight', 'distilbert.transformer.layer.4.sa_layer_norm.weight', 'distilbert.transformer.layer.1.attention.q_lin.bias', 'distilbert.transformer.layer.3.attention.out_lin.weight', 'distilbert.transformer.layer.1.attention.k_lin.weight', 'distilbert.transformer.layer.2.attention.k_lin.weight', 'distilbert.transformer.layer.4.ffn.lin1.bias', 'distilbert.transformer.layer.1.ffn.lin2.weight', 'distilbert.transformer.layer.5.attention.v_lin.bias', 'distilbert.transformer.layer.1.ffn.lin2.bias', 'distilbert.transformer.layer.1.attention.out_lin.bias', 'distilbert.transformer.layer.4.output_layer_norm.weight', 'distilbert.transformer.layer.2.ffn.lin2.weight', 'distilbert.transformer.layer.1.attention.v_lin.bias', 'distilbert.transformer.layer.3.attention.q_lin.weight', 'distilbert.transformer.layer.5.sa_layer_norm.weight', 'distilbert.transformer.layer.3.sa_layer_norm.weight', 'distilbert.transformer.layer.2.sa_layer_norm.bias', 'distilbert.transformer.layer.2.attention.out_lin.weight', 'distilbert.transformer.layer.5.attention.out_lin.bias', 'distilbert.transformer.layer.1.attention.v_lin.weight', 'distilbert.transformer.layer.1.ffn.lin1.bias', 'distilbert.transformer.layer.3.attention.q_lin.bias', 'distilbert.transformer.layer.4.ffn.lin2.weight', 'distilbert.transformer.layer.4.sa_layer_norm.bias', 'distilbert.transformer.layer.2.ffn.lin1.bias', 'distilbert.transformer.layer.3.sa_layer_norm.bias', 'distilbert.transformer.layer.2.attention.v_lin.bias', 'distilbert.transformer.layer.3.ffn.lin1.bias', 'distilbert.transformer.layer.5.ffn.lin2.weight', 'distilbert.transformer.layer.2.attention.k_lin.bias', 'distilbert.transformer.layer.4.output_layer_norm.bias', 'distilbert.transformer.layer.2.attention.q_lin.bias', 'distilbert.transformer.layer.5.output_layer_norm.weight', 'distilbert.transformer.layer.1.attention.out_lin.weight', 'distilbert.transformer.layer.5.ffn.lin1.bias', 'distilbert.transformer.layer.3.ffn.lin1.weight', 'distilbert.transformer.layer.5.sa_layer_norm.bias', 'distilbert.transformer.layer.5.attention.q_lin.bias', 'distilbert.transformer.layer.2.ffn.lin1.weight']\n",
            "You should probably TRAIN this model on a down-stream task to be able to use it for predictions and inference.\n",
            "Some weights of DistilBertForSequenceClassification were not initialized from the model checkpoint at gdrive/MyDrive/results_bert_weak_3/ and are newly initialized: ['distilbert.transformer.layer.1.ffn.lin1.weight', 'distilbert.transformer.layer.3.ffn.lin2.bias', 'distilbert.transformer.layer.3.attention.k_lin.bias', 'distilbert.transformer.layer.4.ffn.lin2.bias', 'distilbert.transformer.layer.4.attention.out_lin.weight', 'distilbert.transformer.layer.1.attention.k_lin.bias', 'distilbert.transformer.layer.5.attention.v_lin.weight', 'distilbert.transformer.layer.4.attention.out_lin.bias', 'distilbert.transformer.layer.5.attention.k_lin.bias', 'distilbert.transformer.layer.3.attention.v_lin.bias', 'distilbert.transformer.layer.4.attention.k_lin.weight', 'distilbert.transformer.layer.2.attention.out_lin.bias', 'distilbert.transformer.layer.2.sa_layer_norm.weight', 'distilbert.transformer.layer.1.sa_layer_norm.weight', 'distilbert.transformer.layer.3.attention.v_lin.weight', 'distilbert.transformer.layer.5.ffn.lin2.bias', 'distilbert.transformer.layer.1.sa_layer_norm.bias', 'distilbert.transformer.layer.2.attention.q_lin.weight', 'distilbert.transformer.layer.4.ffn.lin1.weight', 'distilbert.transformer.layer.5.ffn.lin1.weight', 'distilbert.transformer.layer.5.output_layer_norm.bias', 'distilbert.transformer.layer.2.ffn.lin2.bias', 'distilbert.transformer.layer.2.attention.v_lin.weight', 'distilbert.transformer.layer.4.attention.q_lin.bias', 'distilbert.transformer.layer.1.output_layer_norm.weight', 'distilbert.transformer.layer.3.output_layer_norm.weight', 'distilbert.transformer.layer.5.attention.k_lin.weight', 'distilbert.transformer.layer.4.attention.q_lin.weight', 'distilbert.transformer.layer.3.ffn.lin2.weight', 'distilbert.transformer.layer.4.attention.k_lin.bias', 'distilbert.transformer.layer.2.output_layer_norm.bias', 'distilbert.transformer.layer.4.attention.v_lin.bias', 'distilbert.transformer.layer.4.attention.v_lin.weight', 'distilbert.transformer.layer.1.output_layer_norm.bias', 'distilbert.transformer.layer.3.attention.out_lin.bias', 'distilbert.transformer.layer.1.attention.q_lin.weight', 'distilbert.transformer.layer.5.attention.q_lin.weight', 'distilbert.transformer.layer.5.attention.out_lin.weight', 'distilbert.transformer.layer.2.output_layer_norm.weight', 'distilbert.transformer.layer.3.output_layer_norm.bias', 'distilbert.transformer.layer.3.attention.k_lin.weight', 'distilbert.transformer.layer.4.sa_layer_norm.weight', 'distilbert.transformer.layer.1.attention.q_lin.bias', 'distilbert.transformer.layer.3.attention.out_lin.weight', 'distilbert.transformer.layer.1.attention.k_lin.weight', 'distilbert.transformer.layer.2.attention.k_lin.weight', 'distilbert.transformer.layer.4.ffn.lin1.bias', 'distilbert.transformer.layer.1.ffn.lin2.weight', 'distilbert.transformer.layer.5.attention.v_lin.bias', 'distilbert.transformer.layer.1.ffn.lin2.bias', 'distilbert.transformer.layer.1.attention.out_lin.bias', 'distilbert.transformer.layer.4.output_layer_norm.weight', 'distilbert.transformer.layer.2.ffn.lin2.weight', 'distilbert.transformer.layer.1.attention.v_lin.bias', 'distilbert.transformer.layer.3.attention.q_lin.weight', 'distilbert.transformer.layer.5.sa_layer_norm.weight', 'distilbert.transformer.layer.3.sa_layer_norm.weight', 'distilbert.transformer.layer.2.sa_layer_norm.bias', 'distilbert.transformer.layer.2.attention.out_lin.weight', 'distilbert.transformer.layer.5.attention.out_lin.bias', 'distilbert.transformer.layer.1.attention.v_lin.weight', 'distilbert.transformer.layer.1.ffn.lin1.bias', 'distilbert.transformer.layer.3.attention.q_lin.bias', 'distilbert.transformer.layer.4.ffn.lin2.weight', 'distilbert.transformer.layer.4.sa_layer_norm.bias', 'distilbert.transformer.layer.2.ffn.lin1.bias', 'distilbert.transformer.layer.3.sa_layer_norm.bias', 'distilbert.transformer.layer.2.attention.v_lin.bias', 'distilbert.transformer.layer.3.ffn.lin1.bias', 'distilbert.transformer.layer.5.ffn.lin2.weight', 'distilbert.transformer.layer.2.attention.k_lin.bias', 'distilbert.transformer.layer.4.output_layer_norm.bias', 'distilbert.transformer.layer.2.attention.q_lin.bias', 'distilbert.transformer.layer.5.output_layer_norm.weight', 'distilbert.transformer.layer.1.attention.out_lin.weight', 'distilbert.transformer.layer.5.ffn.lin1.bias', 'distilbert.transformer.layer.3.ffn.lin1.weight', 'distilbert.transformer.layer.5.sa_layer_norm.bias', 'distilbert.transformer.layer.5.attention.q_lin.bias', 'distilbert.transformer.layer.2.ffn.lin1.weight']\n",
            "You should probably TRAIN this model on a down-stream task to be able to use it for predictions and inference.\n"
          ]
        }
      ]
    },
    {
      "cell_type": "markdown",
      "source": [
        "## Calculate predictions"
      ],
      "metadata": {
        "id": "wydRiWVNRl3p"
      }
    },
    {
      "cell_type": "code",
      "source": [
        "weak_single_predictions = []\n",
        "for trainer in weak_trainers:\n",
        "    predictions = trainer.predict(test)\n",
        "    weak_single_predictions.append(predictions)"
      ],
      "metadata": {
        "colab": {
          "base_uri": "https://localhost:8080/",
          "height": 131
        },
        "id": "C32fm5SCN4ka",
        "outputId": "244ede02-a309-49df-93f8-67789e02a75a"
      },
      "execution_count": null,
      "outputs": [
        {
          "output_type": "stream",
          "name": "stderr",
          "text": [
            "You're using a DistilBertTokenizerFast tokenizer. Please note that with a fast tokenizer, using the `__call__` method is faster than using a method to encode the text followed by a call to the `pad` method to get a padded encoding.\n"
          ]
        },
        {
          "output_type": "display_data",
          "data": {
            "text/plain": [
              "<IPython.core.display.HTML object>"
            ],
            "text/html": [
              "\n",
              "    <div>\n",
              "      \n",
              "      <progress value='60' max='782' style='width:300px; height:20px; vertical-align: middle;'></progress>\n",
              "      [ 60/782 00:03 < 00:37, 19.24 it/s]\n",
              "    </div>\n",
              "    "
            ]
          },
          "metadata": {}
        },
        {
          "output_type": "display_data",
          "data": {
            "text/plain": [],
            "text/html": [
              "<pre style=\"white-space:pre;overflow-x:auto;line-height:normal;font-family:Menlo,'DejaVu Sans Mono',consolas,'Courier New',monospace\"></pre>\n"
            ]
          },
          "metadata": {}
        },
        {
          "output_type": "stream",
          "name": "stderr",
          "text": [
            "\n",
            "KeyboardInterrupt\n",
            "\n"
          ]
        }
      ]
    },
    {
      "cell_type": "code",
      "source": [
        "np.savetxt(\"./gdrive/MyDrive/ens_predictions/weak_true_labels\" + \".csv\", weak_single_predictions[0].label_ids, delimiter=\",\")"
      ],
      "metadata": {
        "id": "hgBIX9j2jZtG"
      },
      "execution_count": null,
      "outputs": []
    },
    {
      "cell_type": "code",
      "source": [
        "for i in range(3):\n",
        "    np.savetxt(\"./gdrive/MyDrive/ens_predictions/weak_prediction_\" + str(i + 1) + \".csv\", weak_single_predictions[i].predictions, delimiter=\",\")"
      ],
      "metadata": {
        "id": "p1ZY32NRPwbU"
      },
      "execution_count": null,
      "outputs": []
    },
    {
      "cell_type": "code",
      "source": [
        "weak_single_predictions = []\n",
        "for trainer in weak_trainers:\n",
        "    predictions = trainer.predict(val)\n",
        "    weak_single_predictions.append(predictions)\n",
        "\n",
        "for i in range(3):\n",
        "    np.savetxt(\"./gdrive/MyDrive/ens_predictions/val_weak_prediction_\" + str(i + 1) + \".csv\", weak_single_predictions[i].predictions, delimiter=\",\")\n",
        "np.savetxt(\"./gdrive/MyDrive/ens_predictions/val_weak_true_labels\" + \".csv\", weak_single_predictions[0].label_ids, delimiter=\",\")"
      ],
      "metadata": {
        "colab": {
          "base_uri": "https://localhost:8080/",
          "height": 17
        },
        "id": "EaWEwhYpnMUq",
        "outputId": "1c5b728e-47b4-4345-f8aa-0c639fa831e8"
      },
      "execution_count": null,
      "outputs": [
        {
          "output_type": "display_data",
          "data": {
            "text/plain": [
              "<IPython.core.display.HTML object>"
            ],
            "text/html": []
          },
          "metadata": {}
        },
        {
          "output_type": "display_data",
          "data": {
            "text/plain": [
              "<IPython.core.display.HTML object>"
            ],
            "text/html": []
          },
          "metadata": {}
        },
        {
          "output_type": "display_data",
          "data": {
            "text/plain": [
              "<IPython.core.display.HTML object>"
            ],
            "text/html": []
          },
          "metadata": {}
        }
      ]
    },
    {
      "cell_type": "code",
      "source": [
        "single_predictions = []\n",
        "for trainer in trainers:\n",
        "    predictions = trainer.predict(test)\n",
        "    single_predictions.append(predictions)"
      ],
      "metadata": {
        "colab": {
          "base_uri": "https://localhost:8080/",
          "height": 17
        },
        "id": "2SlFxQ5FP9Ee",
        "outputId": "21a8b575-d3d0-406a-9ebd-a6d96c6a4e72"
      },
      "execution_count": null,
      "outputs": [
        {
          "output_type": "display_data",
          "data": {
            "text/plain": [
              "<IPython.core.display.HTML object>"
            ],
            "text/html": []
          },
          "metadata": {}
        },
        {
          "output_type": "display_data",
          "data": {
            "text/plain": [
              "<IPython.core.display.HTML object>"
            ],
            "text/html": []
          },
          "metadata": {}
        },
        {
          "output_type": "display_data",
          "data": {
            "text/plain": [
              "<IPython.core.display.HTML object>"
            ],
            "text/html": []
          },
          "metadata": {}
        },
        {
          "output_type": "display_data",
          "data": {
            "text/plain": [
              "<IPython.core.display.HTML object>"
            ],
            "text/html": []
          },
          "metadata": {}
        },
        {
          "output_type": "display_data",
          "data": {
            "text/plain": [
              "<IPython.core.display.HTML object>"
            ],
            "text/html": []
          },
          "metadata": {}
        }
      ]
    },
    {
      "cell_type": "code",
      "source": [
        "for i in range(5):\n",
        "    np.savetxt(\"./gdrive/MyDrive/ens_predictions/not_weak_prediction_\" + str(i + 1) + \".csv\", single_predictions[i].predictions, delimiter=\",\")"
      ],
      "metadata": {
        "id": "j5UFcONgQCsN"
      },
      "execution_count": null,
      "outputs": []
    },
    {
      "cell_type": "code",
      "source": [
        "single_predictions = []\n",
        "for trainer in trainers:\n",
        "    predictions = trainer.predict(val)\n",
        "    single_predictions.append(predictions)\n",
        "\n",
        "for i in range(3):\n",
        "    np.savetxt(\"./gdrive/MyDrive/ens_predictions/val_non_weak_prediction_\" + str(i + 1) + \".csv\", single_predictions[i].predictions, delimiter=\",\")"
      ],
      "metadata": {
        "colab": {
          "base_uri": "https://localhost:8080/",
          "height": 17
        },
        "id": "fviTn8osnaUi",
        "outputId": "7ed63d5a-6687-41b7-bc53-0276a35cffe6"
      },
      "execution_count": null,
      "outputs": [
        {
          "output_type": "display_data",
          "data": {
            "text/plain": [
              "<IPython.core.display.HTML object>"
            ],
            "text/html": []
          },
          "metadata": {}
        },
        {
          "output_type": "display_data",
          "data": {
            "text/plain": [
              "<IPython.core.display.HTML object>"
            ],
            "text/html": []
          },
          "metadata": {}
        },
        {
          "output_type": "display_data",
          "data": {
            "text/plain": [
              "<IPython.core.display.HTML object>"
            ],
            "text/html": []
          },
          "metadata": {}
        },
        {
          "output_type": "display_data",
          "data": {
            "text/plain": [
              "<IPython.core.display.HTML object>"
            ],
            "text/html": []
          },
          "metadata": {}
        },
        {
          "output_type": "display_data",
          "data": {
            "text/plain": [
              "<IPython.core.display.HTML object>"
            ],
            "text/html": []
          },
          "metadata": {}
        }
      ]
    },
    {
      "cell_type": "code",
      "source": [
        "for i in range(3, 5):\n",
        "    np.savetxt(\"./gdrive/MyDrive/ens_predictions/val_non_weak_prediction_\" + str(i + 1) + \".csv\", single_predictions[i].predictions, delimiter=\",\")"
      ],
      "metadata": {
        "id": "2HwD_QCHqwqV"
      },
      "execution_count": null,
      "outputs": []
    },
    {
      "cell_type": "markdown",
      "source": [
        "## Weak data read"
      ],
      "metadata": {
        "id": "vPKY3EGajpXw"
      }
    },
    {
      "cell_type": "code",
      "source": [
        "single_predictions = []\n",
        "for i in range(5):\n",
        "    single_predictions.append(np.genfromtxt(\"./gdrive/MyDrive/ens_predictions/not_weak_prediction_\" + str(i + 1) + \".csv\", delimiter=','))\n",
        "single_predictions = np.array(single_predictions)"
      ],
      "metadata": {
        "id": "CfKyjL6pN8Qv"
      },
      "execution_count": null,
      "outputs": []
    },
    {
      "cell_type": "code",
      "source": [
        "weak_single_predictions = []\n",
        "for i in range(3):\n",
        "    weak_single_predictions.append(np.genfromtxt(\"./gdrive/MyDrive/ens_predictions/weak_prediction_\" + str(i + 1) + \".csv\", delimiter=','))\n",
        "weak_single_predictions = np.array(weak_single_predictions)"
      ],
      "metadata": {
        "id": "wwIlVOc6jxb8"
      },
      "execution_count": null,
      "outputs": []
    },
    {
      "cell_type": "code",
      "source": [
        "true_labels = np.genfromtxt(\"./gdrive/MyDrive/ens_predictions/weak_true_labels.csv\", delimiter=',')"
      ],
      "metadata": {
        "id": "PCMvaWQXjQtx"
      },
      "execution_count": null,
      "outputs": []
    },
    {
      "cell_type": "code",
      "source": [
        "val_single_predictions = []\n",
        "for i in range(5):\n",
        "    val_single_predictions.append(np.genfromtxt(\"./gdrive/MyDrive/ens_predictions/val_non_weak_prediction_\" + str(i + 1) + \".csv\", delimiter=','))\n",
        "val_single_predictions = np.array(val_single_predictions)\n",
        "\n",
        "val_weak_single_predictions = []\n",
        "for i in range(3):\n",
        "    val_weak_single_predictions.append(np.genfromtxt(\"./gdrive/MyDrive/ens_predictions/val_weak_prediction_\" + str(i + 1) + \".csv\", delimiter=','))\n",
        "val_weak_single_predictions = np.array(val_weak_single_predictions)\n",
        "\n",
        "val_true_labels = np.genfromtxt(\"./gdrive/MyDrive/ens_predictions/val_weak_true_labels.csv\", delimiter=',')"
      ],
      "metadata": {
        "id": "fuCGYrOcsNP5"
      },
      "execution_count": null,
      "outputs": []
    },
    {
      "cell_type": "code",
      "source": [],
      "metadata": {
        "id": "vYNkMH-ksbpT"
      },
      "execution_count": null,
      "outputs": []
    },
    {
      "cell_type": "code",
      "source": [
        "from sklearn.metrics import accuracy_score\n",
        "for el in weak_single_predictions:\n",
        "    print(accuracy_score(np.argmax(el, axis=1), true_labels))"
      ],
      "metadata": {
        "id": "3SMe6bGoN-2N",
        "colab": {
          "base_uri": "https://localhost:8080/"
        },
        "outputId": "3dd3478d-b9af-44bf-a864-27bc9faaae97"
      },
      "execution_count": null,
      "outputs": [
        {
          "output_type": "stream",
          "name": "stdout",
          "text": [
            "0.84584\n",
            "0.83552\n",
            "0.87728\n"
          ]
        }
      ]
    },
    {
      "cell_type": "code",
      "source": [
        "for el in single_predictions:\n",
        "    print(accuracy_score(np.argmax(el, axis=1), true_labels))"
      ],
      "metadata": {
        "id": "39V2Ql4aOEoU",
        "colab": {
          "base_uri": "https://localhost:8080/"
        },
        "outputId": "cc0b7754-8627-43ac-ec1e-43abf743b639"
      },
      "execution_count": null,
      "outputs": [
        {
          "output_type": "stream",
          "name": "stdout",
          "text": [
            "0.93144\n",
            "0.93112\n",
            "0.93328\n",
            "0.9324\n",
            "0.92984\n"
          ]
        }
      ]
    },
    {
      "cell_type": "code",
      "source": [
        "def weighted_prediction(single_predictions, weights):\n",
        "    weights = weights / weights.sum()\n",
        "    return np.vstack((np.dot(weights, np.array(single_predictions)[:, :, 0]), np.dot(weights, np.array(single_predictions)[:, :, 1]))).T"
      ],
      "metadata": {
        "id": "SYlvDLWuOHJw"
      },
      "execution_count": null,
      "outputs": []
    },
    {
      "cell_type": "code",
      "source": [
        "for i in range(len(single_predictions)):\n",
        "    strong = single_predictions[i]\n",
        "    for j in range(len(weak_single_predictions)):\n",
        "        weak = weak_single_predictions[j]\n",
        "        weights = np.array([0.5, 0.5])\n",
        "        preds = np.array([strong, weak])\n",
        "        weighted_predictions = weighted_prediction(preds, weights)\n",
        "        print('Strong:{}, Weak:{}, {}'.format(i, j, accuracy_score(np.argmax(weighted_predictions, axis=1), true_labels)))"
      ],
      "metadata": {
        "id": "b0_FLzSMOJvo",
        "colab": {
          "base_uri": "https://localhost:8080/"
        },
        "outputId": "a321ce4f-bb8b-41d2-a79b-c638c0d75da8"
      },
      "execution_count": null,
      "outputs": [
        {
          "output_type": "stream",
          "name": "stdout",
          "text": [
            "Strong:0, Weak:0, 0.88504\n",
            "Strong:0, Weak:1, 0.85576\n",
            "Strong:0, Weak:2, 0.9336\n",
            "Strong:1, Weak:0, 0.88536\n",
            "Strong:1, Weak:1, 0.85624\n",
            "Strong:1, Weak:2, 0.9352\n",
            "Strong:2, Weak:0, 0.88424\n",
            "Strong:2, Weak:1, 0.8552\n",
            "Strong:2, Weak:2, 0.93344\n",
            "Strong:3, Weak:0, 0.88544\n",
            "Strong:3, Weak:1, 0.85544\n",
            "Strong:3, Weak:2, 0.93496\n",
            "Strong:4, Weak:0, 0.88288\n",
            "Strong:4, Weak:1, 0.85424\n",
            "Strong:4, Weak:2, 0.93048\n"
          ]
        }
      ]
    },
    {
      "cell_type": "markdown",
      "source": [
        "## Output correlation"
      ],
      "metadata": {
        "id": "b3ZfFt8VmdXj"
      }
    },
    {
      "cell_type": "code",
      "source": [
        "from qpsolvers import solve_qp\n",
        "\n",
        "def calc_corr(one, two):\n",
        "    norm = (np.linalg.norm(one) * np.linalg.norm(two))\n",
        "    return np.correlate(one.T, two.T)[0] #/ norm\n",
        "\n",
        "def calculate_correlation_precalc_mixed(first, second):\n",
        "    return calc_corr(val_single_predictions[first][:, 0], val_weak_single_predictions[second][:, 0])\n",
        "\n",
        "def calculate_correlation_precalc_strong(first, second):\n",
        "    return calc_corr(val_single_predictions[first][:, 0], val_single_predictions[second][:, 0])\n",
        "\n",
        "def calculate_correlation_precalc_weak(first, second):\n",
        "    return calc_corr(val_weak_single_predictions[first][:, 0], val_weak_single_predictions[second][:, 0])\n",
        "\n",
        "def get_corr_matrix(i, j):\n",
        "    ans = np.zeros((2, 2))\n",
        "    ans[0, 0] = calculate_correlation_precalc_strong(i, i)\n",
        "    ans[0, 1] = calculate_correlation_precalc_mixed(i, j)\n",
        "    ans[1, 0] = ans[0, 1]\n",
        "    ans[1, 1] = calculate_correlation_precalc_weak(j, j)\n",
        "    return ans\n",
        "\n",
        "def corr_based_posterior_variance(corr_matrix, weights):\n",
        "    weights = np.expand_dims(weights, axis=0)\n",
        "    pv = np.dot(np.dot(weights, corr_matrix), weights.T)\n",
        "    return pv[0][0]\n",
        "\n",
        "def calculate_optimal_weights_output(corr_matrix):\n",
        "    P = 2 * corr_matrix\n",
        "    q = np.zeros_like(corr_matrix[:, :1])\n",
        "    A = np.ones((1, corr_matrix.shape[0]))\n",
        "    b = np.ones(1)\n",
        "    lb = np.zeros(corr_matrix.shape[0])\n",
        "    ub = np.ones(corr_matrix.shape[0])\n",
        "    x_sol = solve_qp(P, q, A=A, b=b, lb=lb, ub=ub, initvals=np.array([0.5, 0.5]), solver='cvxopt', verbose=True)#, kktsolver='ldl', options={'kktreg':1e-3})\n",
        "    return x_sol\n",
        "\n",
        "ans = []\n",
        "for i in range(len(single_predictions)):\n",
        "    strong = single_predictions[i]\n",
        "    for j in range(len(weak_single_predictions)):\n",
        "        corr_matrix = get_corr_matrix(i, j)\n",
        "        weak = weak_single_predictions[j]\n",
        "        weights = calculate_optimal_weights_output(corr_matrix)\n",
        "        preds = np.array([strong, weak])\n",
        "        weighted_predictions = weighted_prediction(preds, weights)\n",
        "        ans.append(np.array([i, j, round(accuracy_score(np.argmax(weighted_predictions, axis=1), true_labels), 5)]))"
      ],
      "metadata": {
        "colab": {
          "base_uri": "https://localhost:8080/"
        },
        "id": "Nvrr5-6_kU6e",
        "outputId": "52bf558e-cdc0-4a48-a8d6-533d3fc025a9"
      },
      "execution_count": null,
      "outputs": [
        {
          "output_type": "stream",
          "name": "stdout",
          "text": [
            "     pcost       dcost       gap    pres   dres\n",
            " 0:  1.6350e+05  1.6349e+05  4e+00  7e-01  5e+05\n",
            " 1:  1.4436e+05  1.4435e+05  1e-01  4e-03  3e+03\n",
            " 2:  1.4435e+05  1.4435e+05  2e-03  4e-05  2e+01\n",
            " 3:  1.4435e+05  1.4435e+05  2e-05  4e-07  2e-01\n",
            " 4:  1.4435e+05  1.4435e+05  2e-07  4e-09  2e-03\n",
            " 5:  1.4435e+05  1.4435e+05  2e-09  4e-11  2e-05\n",
            " 6:  1.4435e+05  1.4435e+05  2e-11  4e-13  2e-07\n",
            " 7:  1.4435e+05  1.4435e+05  2e-13  4e-15  2e-09\n",
            "Optimal solution found.\n",
            "     pcost       dcost       gap    pres   dres\n",
            " 0:  2.3896e+05  2.3896e+05  4e+00  7e-01  7e+05\n",
            " 1:  1.4087e+05  1.4087e+05  4e-01  1e-01  1e+05\n",
            " 2:  1.4062e+05  1.4062e+05  4e-01  1e-01  1e+05\n",
            " 3:  4.7753e+05 -6.5309e+04  6e+05  1e-01  1e+05\n",
            " 4:  1.4139e+05 -8.5266e+05  1e+06  9e-02  9e+04\n",
            " 5:  1.4547e+05  1.3110e+05  1e+04  2e-16  7e-10\n",
            " 6:  1.4481e+05  1.4464e+05  2e+02  2e-16  4e-11\n",
            " 7:  1.4477e+05  1.4477e+05  2e+00  2e-16  2e-11\n",
            " 8:  1.4477e+05  1.4477e+05  2e-02  2e-16  9e-11\n",
            "Optimal solution found.\n",
            "     pcost       dcost       gap    pres   dres\n",
            " 0:  1.1672e+05  1.1672e+05  4e+00  7e-01  3e+05\n",
            " 1:  1.0984e+05  1.0984e+05  2e-01  1e-16  5e-11\n",
            " 2:  1.0984e+05  1.0984e+05  2e-03  2e-16  3e-12\n",
            "Optimal solution found.\n",
            "     pcost       dcost       gap    pres   dres\n",
            " 0:  1.7221e+05  1.7221e+05  4e+00  7e-01  5e+05\n",
            " 1:  1.6019e+05  1.6019e+05  3e-01  4e-16  1e-10\n",
            " 2:  1.6019e+05  1.6019e+05  3e-03  2e-16  4e-11\n",
            "Optimal solution found.\n",
            "     pcost       dcost       gap    pres   dres\n",
            " 0:  2.4906e+05  2.4905e+05  4e+00  7e-01  7e+05\n",
            " 1:  1.5998e+05  1.5998e+05  4e-01  9e-02  1e+05\n",
            " 2:  1.5978e+05  1.5978e+05  3e-01  9e-02  9e+04\n",
            " 3:  4.7088e+05 -4.6702e+04  5e+05  8e-02  8e+04\n",
            " 4:  1.6039e+05 -7.9688e+05  1e+06  8e-02  8e+04\n",
            " 5:  1.6326e+05  1.5300e+05  1e+04  2e-16  6e-10\n",
            " 6:  1.6271e+05  1.6259e+05  1e+02  1e-16  4e-11\n",
            " 7:  1.6269e+05  1.6268e+05  1e+00  1e-16  3e-11\n",
            " 8:  1.6269e+05  1.6269e+05  1e-02  2e-16  3e-11\n",
            "Optimal solution found.\n",
            "     pcost       dcost       gap    pres   dres\n",
            " 0:  1.2447e+05  1.2447e+05  4e+00  7e-01  4e+05\n",
            " 1:  1.1023e+05  1.1023e+05  1e-01  4e-02  2e+04\n",
            " 2:  1.1021e+05  1.1021e+05  1e-01  3e-02  2e+04\n",
            " 3:  1.6270e+05  6.3331e+04  1e+05  1e-02  7e+03\n",
            " 4:  1.1029e+05 -8.0870e+04  2e+05  1e-02  7e+03\n",
            " 5:  1.1033e+05  1.0837e+05  2e+03  1e-04  7e+01\n",
            " 6:  1.1029e+05  1.1027e+05  3e+01  2e-06  8e-01\n",
            " 7:  1.1029e+05  1.1029e+05  3e-01  2e-08  8e-03\n",
            " 8:  1.1029e+05  1.1029e+05  3e-03  2e-10  8e-05\n",
            " 9:  1.1029e+05  1.1029e+05  3e-05  2e-12  8e-07\n",
            "10:  1.1029e+05  1.1029e+05  3e-07  2e-14  8e-09\n",
            "Optimal solution found.\n",
            "     pcost       dcost       gap    pres   dres\n",
            " 0:  1.5732e+05  1.5732e+05  4e+00  7e-01  5e+05\n",
            " 1:  1.3196e+05  1.3196e+05  5e-02  1e-02  6e+03\n",
            " 2:  1.3195e+05  1.3195e+05  8e-03  3e-03  2e+03\n",
            " 3:  1.3198e+05  1.3194e+05  4e+01  1e-16  2e-11\n",
            " 4:  1.3196e+05  1.3195e+05  6e+00  4e-15  2e-11\n",
            " 5:  1.3196e+05  1.3196e+05  7e-01  1e-16  7e-11\n",
            " 6:  1.3196e+05  1.3196e+05  2e-02  2e-16  7e-11\n",
            "Optimal solution found.\n",
            "     pcost       dcost       gap    pres   dres\n",
            " 0:  2.3145e+05  2.3145e+05  4e+00  7e-01  7e+05\n",
            " 1:  1.2724e+05  1.2724e+05  5e-01  1e-01  1e+05\n",
            " 2:  1.2696e+05  1.2697e+05  4e-01  1e-01  1e+05\n",
            " 3:  4.8165e+05 -7.9937e+04  6e+05  1e-01  1e+05\n",
            " 4:  1.2783e+05 -8.9506e+05  1e+06  1e-01  1e+05\n",
            " 5:  1.3273e+05  1.1570e+05  2e+04  2e-16  4e-10\n",
            " 6:  1.3200e+05  1.3179e+05  2e+02  1e-16  1e-10\n",
            " 7:  1.3196e+05  1.3195e+05  2e+00  1e-16  6e-11\n",
            " 8:  1.3196e+05  1.3196e+05  2e-02  2e-16  6e-11\n",
            "Optimal solution found.\n",
            "     pcost       dcost       gap    pres   dres\n",
            " 0:  1.1151e+05  1.1150e+05  4e+00  7e-01  3e+05\n",
            " 1:  1.0845e+05  1.0845e+05  4e-01  1e-16  4e-11\n",
            " 2:  1.0845e+05  1.0845e+05  4e-03  1e-16  2e-11\n",
            "Optimal solution found.\n",
            "     pcost       dcost       gap    pres   dres\n",
            " 0:  1.6686e+05  1.6686e+05  4e+00  7e-01  5e+05\n",
            " 1:  1.5010e+05  1.5010e+05  2e-01  1e-03  6e+02\n",
            " 2:  1.5010e+05  1.5010e+05  2e-03  1e-05  6e+00\n",
            " 3:  1.5010e+05  1.5010e+05  2e-05  1e-07  6e-02\n",
            " 4:  1.5010e+05  1.5010e+05  2e-07  1e-09  6e-04\n",
            " 5:  1.5010e+05  1.5010e+05  2e-09  1e-11  6e-06\n",
            " 6:  1.5010e+05  1.5010e+05  2e-11  1e-13  6e-08\n",
            "Optimal solution found.\n",
            "     pcost       dcost       gap    pres   dres\n",
            " 0:  2.4313e+05  2.4312e+05  4e+00  7e-01  7e+05\n",
            " 1:  1.4711e+05  1.4711e+05  4e-01  1e-01  1e+05\n",
            " 2:  1.4687e+05  1.4688e+05  4e-01  1e-01  1e+05\n",
            " 3:  4.7675e+05 -5.5235e+04  6e+05  1e-01  1e+05\n",
            " 4:  1.4762e+05 -8.2682e+05  1e+06  9e-02  9e+04\n",
            " 5:  1.5159e+05  1.3762e+05  1e+04  2e-16  3e-10\n",
            " 6:  1.5095e+05  1.5078e+05  2e+02  9e-17  1e-11\n",
            " 7:  1.5091e+05  1.5091e+05  2e+00  2e-16  8e-11\n",
            " 8:  1.5091e+05  1.5091e+05  2e-02  2e-16  4e-11\n",
            "Optimal solution found.\n",
            "     pcost       dcost       gap    pres   dres\n",
            " 0:  1.1965e+05  1.1964e+05  4e+00  7e-01  3e+05\n",
            " 1:  1.1023e+05  1.1023e+05  1e-01  6e-03  3e+03\n",
            " 2:  1.1023e+05  1.1023e+05  3e-03  3e-05  1e+01\n",
            " 3:  1.1023e+05  1.1023e+05  3e-05  3e-07  1e-01\n",
            " 4:  1.1023e+05  1.1023e+05  3e-07  3e-09  1e-03\n",
            " 5:  1.1023e+05  1.1023e+05  3e-09  3e-11  1e-05\n",
            " 6:  1.1023e+05  1.1023e+05  3e-11  3e-13  1e-07\n",
            " 7:  1.1023e+05  1.1023e+05  3e-13  3e-15  2e-09\n",
            "Optimal solution found.\n",
            "     pcost       dcost       gap    pres   dres\n",
            " 0:  1.5977e+05  1.5976e+05  4e+00  7e-01  5e+05\n",
            " 1:  1.3651e+05  1.3651e+05  7e-02  7e-03  4e+03\n",
            " 2:  1.3651e+05  1.3651e+05  5e-03  1e-05  8e+00\n",
            " 3:  1.3651e+05  1.3651e+05  5e-05  1e-07  8e-02\n",
            " 4:  1.3651e+05  1.3651e+05  5e-07  1e-09  8e-04\n",
            " 5:  1.3651e+05  1.3651e+05  5e-09  1e-11  8e-06\n",
            " 6:  1.3651e+05  1.3651e+05  5e-11  1e-13  8e-08\n",
            "Optimal solution found.\n",
            "     pcost       dcost       gap    pres   dres\n",
            " 0:  2.3498e+05  2.3497e+05  4e+00  7e-01  7e+05\n",
            " 1:  1.3168e+05  1.3168e+05  5e-01  1e-01  1e+05\n",
            " 2:  1.3140e+05  1.3140e+05  4e-01  1e-01  1e+05\n",
            " 3:  4.8197e+05 -7.0103e+04  6e+05  1e-01  1e+05\n",
            " 4:  1.3228e+05 -8.7161e+05  1e+06  1e-01  1e+05\n",
            " 5:  1.3731e+05  1.1991e+05  2e+04  2e-16  1e-09\n",
            " 6:  1.3657e+05  1.3637e+05  2e+02  1e-16  3e-11\n",
            " 7:  1.3653e+05  1.3653e+05  2e+00  8e-17  9e-11\n",
            " 8:  1.3653e+05  1.3653e+05  2e-02  8e-17  5e-11\n",
            "Optimal solution found.\n",
            "     pcost       dcost       gap    pres   dres\n",
            " 0:  1.1324e+05  1.1323e+05  4e+00  7e-01  3e+05\n",
            " 1:  1.0900e+05  1.0900e+05  3e-01  2e-16  5e-11\n",
            " 2:  1.0900e+05  1.0900e+05  3e-03  4e-17  6e-11\n",
            "Optimal solution found.\n"
          ]
        }
      ]
    },
    {
      "cell_type": "code",
      "source": [
        "import pandas as pd\n",
        "ans = np.array(ans)\n",
        "ans_df = pd.DataFrame(ans, columns=['Strong', 'Weak', 'Accuracy'])\n",
        "ans_df"
      ],
      "metadata": {
        "colab": {
          "base_uri": "https://localhost:8080/",
          "height": 519
        },
        "id": "WUJ5OWp0mmhK",
        "outputId": "97517f77-f625-4731-c93c-51a706772fe5"
      },
      "execution_count": null,
      "outputs": [
        {
          "output_type": "execute_result",
          "data": {
            "text/plain": [
              "    Strong  Weak  Accuracy\n",
              "0      0.0   0.0   0.93136\n",
              "1      0.0   1.0   0.93144\n",
              "2      0.0   2.0   0.88880\n",
              "3      1.0   0.0   0.93224\n",
              "4      1.0   1.0   0.93112\n",
              "5      1.0   2.0   0.87728\n",
              "6      2.0   0.0   0.93328\n",
              "7      2.0   1.0   0.93328\n",
              "8      2.0   2.0   0.90072\n",
              "9      3.0   0.0   0.93344\n",
              "10     3.0   1.0   0.93240\n",
              "11     3.0   2.0   0.88048\n",
              "12     4.0   0.0   0.92976\n",
              "13     4.0   1.0   0.92984\n",
              "14     4.0   2.0   0.89592"
            ],
            "text/html": [
              "\n",
              "  <div id=\"df-8e93504b-3bcb-41d6-bd18-45265b13189b\" class=\"colab-df-container\">\n",
              "    <div>\n",
              "<style scoped>\n",
              "    .dataframe tbody tr th:only-of-type {\n",
              "        vertical-align: middle;\n",
              "    }\n",
              "\n",
              "    .dataframe tbody tr th {\n",
              "        vertical-align: top;\n",
              "    }\n",
              "\n",
              "    .dataframe thead th {\n",
              "        text-align: right;\n",
              "    }\n",
              "</style>\n",
              "<table border=\"1\" class=\"dataframe\">\n",
              "  <thead>\n",
              "    <tr style=\"text-align: right;\">\n",
              "      <th></th>\n",
              "      <th>Strong</th>\n",
              "      <th>Weak</th>\n",
              "      <th>Accuracy</th>\n",
              "    </tr>\n",
              "  </thead>\n",
              "  <tbody>\n",
              "    <tr>\n",
              "      <th>0</th>\n",
              "      <td>0.0</td>\n",
              "      <td>0.0</td>\n",
              "      <td>0.93136</td>\n",
              "    </tr>\n",
              "    <tr>\n",
              "      <th>1</th>\n",
              "      <td>0.0</td>\n",
              "      <td>1.0</td>\n",
              "      <td>0.93144</td>\n",
              "    </tr>\n",
              "    <tr>\n",
              "      <th>2</th>\n",
              "      <td>0.0</td>\n",
              "      <td>2.0</td>\n",
              "      <td>0.88880</td>\n",
              "    </tr>\n",
              "    <tr>\n",
              "      <th>3</th>\n",
              "      <td>1.0</td>\n",
              "      <td>0.0</td>\n",
              "      <td>0.93224</td>\n",
              "    </tr>\n",
              "    <tr>\n",
              "      <th>4</th>\n",
              "      <td>1.0</td>\n",
              "      <td>1.0</td>\n",
              "      <td>0.93112</td>\n",
              "    </tr>\n",
              "    <tr>\n",
              "      <th>5</th>\n",
              "      <td>1.0</td>\n",
              "      <td>2.0</td>\n",
              "      <td>0.87728</td>\n",
              "    </tr>\n",
              "    <tr>\n",
              "      <th>6</th>\n",
              "      <td>2.0</td>\n",
              "      <td>0.0</td>\n",
              "      <td>0.93328</td>\n",
              "    </tr>\n",
              "    <tr>\n",
              "      <th>7</th>\n",
              "      <td>2.0</td>\n",
              "      <td>1.0</td>\n",
              "      <td>0.93328</td>\n",
              "    </tr>\n",
              "    <tr>\n",
              "      <th>8</th>\n",
              "      <td>2.0</td>\n",
              "      <td>2.0</td>\n",
              "      <td>0.90072</td>\n",
              "    </tr>\n",
              "    <tr>\n",
              "      <th>9</th>\n",
              "      <td>3.0</td>\n",
              "      <td>0.0</td>\n",
              "      <td>0.93344</td>\n",
              "    </tr>\n",
              "    <tr>\n",
              "      <th>10</th>\n",
              "      <td>3.0</td>\n",
              "      <td>1.0</td>\n",
              "      <td>0.93240</td>\n",
              "    </tr>\n",
              "    <tr>\n",
              "      <th>11</th>\n",
              "      <td>3.0</td>\n",
              "      <td>2.0</td>\n",
              "      <td>0.88048</td>\n",
              "    </tr>\n",
              "    <tr>\n",
              "      <th>12</th>\n",
              "      <td>4.0</td>\n",
              "      <td>0.0</td>\n",
              "      <td>0.92976</td>\n",
              "    </tr>\n",
              "    <tr>\n",
              "      <th>13</th>\n",
              "      <td>4.0</td>\n",
              "      <td>1.0</td>\n",
              "      <td>0.92984</td>\n",
              "    </tr>\n",
              "    <tr>\n",
              "      <th>14</th>\n",
              "      <td>4.0</td>\n",
              "      <td>2.0</td>\n",
              "      <td>0.89592</td>\n",
              "    </tr>\n",
              "  </tbody>\n",
              "</table>\n",
              "</div>\n",
              "    <div class=\"colab-df-buttons\">\n",
              "\n",
              "  <div class=\"colab-df-container\">\n",
              "    <button class=\"colab-df-convert\" onclick=\"convertToInteractive('df-8e93504b-3bcb-41d6-bd18-45265b13189b')\"\n",
              "            title=\"Convert this dataframe to an interactive table.\"\n",
              "            style=\"display:none;\">\n",
              "\n",
              "  <svg xmlns=\"http://www.w3.org/2000/svg\" height=\"24px\" viewBox=\"0 -960 960 960\">\n",
              "    <path d=\"M120-120v-720h720v720H120Zm60-500h600v-160H180v160Zm220 220h160v-160H400v160Zm0 220h160v-160H400v160ZM180-400h160v-160H180v160Zm440 0h160v-160H620v160ZM180-180h160v-160H180v160Zm440 0h160v-160H620v160Z\"/>\n",
              "  </svg>\n",
              "    </button>\n",
              "\n",
              "  <style>\n",
              "    .colab-df-container {\n",
              "      display:flex;\n",
              "      gap: 12px;\n",
              "    }\n",
              "\n",
              "    .colab-df-convert {\n",
              "      background-color: #E8F0FE;\n",
              "      border: none;\n",
              "      border-radius: 50%;\n",
              "      cursor: pointer;\n",
              "      display: none;\n",
              "      fill: #1967D2;\n",
              "      height: 32px;\n",
              "      padding: 0 0 0 0;\n",
              "      width: 32px;\n",
              "    }\n",
              "\n",
              "    .colab-df-convert:hover {\n",
              "      background-color: #E2EBFA;\n",
              "      box-shadow: 0px 1px 2px rgba(60, 64, 67, 0.3), 0px 1px 3px 1px rgba(60, 64, 67, 0.15);\n",
              "      fill: #174EA6;\n",
              "    }\n",
              "\n",
              "    .colab-df-buttons div {\n",
              "      margin-bottom: 4px;\n",
              "    }\n",
              "\n",
              "    [theme=dark] .colab-df-convert {\n",
              "      background-color: #3B4455;\n",
              "      fill: #D2E3FC;\n",
              "    }\n",
              "\n",
              "    [theme=dark] .colab-df-convert:hover {\n",
              "      background-color: #434B5C;\n",
              "      box-shadow: 0px 1px 3px 1px rgba(0, 0, 0, 0.15);\n",
              "      filter: drop-shadow(0px 1px 2px rgba(0, 0, 0, 0.3));\n",
              "      fill: #FFFFFF;\n",
              "    }\n",
              "  </style>\n",
              "\n",
              "    <script>\n",
              "      const buttonEl =\n",
              "        document.querySelector('#df-8e93504b-3bcb-41d6-bd18-45265b13189b button.colab-df-convert');\n",
              "      buttonEl.style.display =\n",
              "        google.colab.kernel.accessAllowed ? 'block' : 'none';\n",
              "\n",
              "      async function convertToInteractive(key) {\n",
              "        const element = document.querySelector('#df-8e93504b-3bcb-41d6-bd18-45265b13189b');\n",
              "        const dataTable =\n",
              "          await google.colab.kernel.invokeFunction('convertToInteractive',\n",
              "                                                    [key], {});\n",
              "        if (!dataTable) return;\n",
              "\n",
              "        const docLinkHtml = 'Like what you see? Visit the ' +\n",
              "          '<a target=\"_blank\" href=https://colab.research.google.com/notebooks/data_table.ipynb>data table notebook</a>'\n",
              "          + ' to learn more about interactive tables.';\n",
              "        element.innerHTML = '';\n",
              "        dataTable['output_type'] = 'display_data';\n",
              "        await google.colab.output.renderOutput(dataTable, element);\n",
              "        const docLink = document.createElement('div');\n",
              "        docLink.innerHTML = docLinkHtml;\n",
              "        element.appendChild(docLink);\n",
              "      }\n",
              "    </script>\n",
              "  </div>\n",
              "\n",
              "\n",
              "<div id=\"df-bca54a9b-8401-4775-8e60-ab2feb6fc2dc\">\n",
              "  <button class=\"colab-df-quickchart\" onclick=\"quickchart('df-bca54a9b-8401-4775-8e60-ab2feb6fc2dc')\"\n",
              "            title=\"Suggest charts.\"\n",
              "            style=\"display:none;\">\n",
              "\n",
              "<svg xmlns=\"http://www.w3.org/2000/svg\" height=\"24px\"viewBox=\"0 0 24 24\"\n",
              "     width=\"24px\">\n",
              "    <g>\n",
              "        <path d=\"M19 3H5c-1.1 0-2 .9-2 2v14c0 1.1.9 2 2 2h14c1.1 0 2-.9 2-2V5c0-1.1-.9-2-2-2zM9 17H7v-7h2v7zm4 0h-2V7h2v10zm4 0h-2v-4h2v4z\"/>\n",
              "    </g>\n",
              "</svg>\n",
              "  </button>\n",
              "\n",
              "<style>\n",
              "  .colab-df-quickchart {\n",
              "    background-color: #E8F0FE;\n",
              "    border: none;\n",
              "    border-radius: 50%;\n",
              "    cursor: pointer;\n",
              "    display: none;\n",
              "    fill: #1967D2;\n",
              "    height: 32px;\n",
              "    padding: 0 0 0 0;\n",
              "    width: 32px;\n",
              "  }\n",
              "\n",
              "  .colab-df-quickchart:hover {\n",
              "    background-color: #E2EBFA;\n",
              "    box-shadow: 0px 1px 2px rgba(60, 64, 67, 0.3), 0px 1px 3px 1px rgba(60, 64, 67, 0.15);\n",
              "    fill: #174EA6;\n",
              "  }\n",
              "\n",
              "  [theme=dark] .colab-df-quickchart {\n",
              "    background-color: #3B4455;\n",
              "    fill: #D2E3FC;\n",
              "  }\n",
              "\n",
              "  [theme=dark] .colab-df-quickchart:hover {\n",
              "    background-color: #434B5C;\n",
              "    box-shadow: 0px 1px 3px 1px rgba(0, 0, 0, 0.15);\n",
              "    filter: drop-shadow(0px 1px 2px rgba(0, 0, 0, 0.3));\n",
              "    fill: #FFFFFF;\n",
              "  }\n",
              "</style>\n",
              "\n",
              "  <script>\n",
              "    async function quickchart(key) {\n",
              "      const charts = await google.colab.kernel.invokeFunction(\n",
              "          'suggestCharts', [key], {});\n",
              "    }\n",
              "    (() => {\n",
              "      let quickchartButtonEl =\n",
              "        document.querySelector('#df-bca54a9b-8401-4775-8e60-ab2feb6fc2dc button');\n",
              "      quickchartButtonEl.style.display =\n",
              "        google.colab.kernel.accessAllowed ? 'block' : 'none';\n",
              "    })();\n",
              "  </script>\n",
              "</div>\n",
              "    </div>\n",
              "  </div>\n"
            ]
          },
          "metadata": {},
          "execution_count": 30
        }
      ]
    },
    {
      "cell_type": "markdown",
      "source": [
        "## Barcode correlation"
      ],
      "metadata": {
        "id": "b0I78u6ImoKN"
      }
    },
    {
      "cell_type": "code",
      "source": [
        "from qpsolvers import solve_qp\n",
        "import rtd\n",
        "import pandas as pd\n",
        "from sklearn.metrics import accuracy_score\n",
        "\n",
        "def calc_corr(one, two):\n",
        "    norm = (np.linalg.norm(one) * np.linalg.norm(two))\n",
        "    return np.correlate(one.T, two.T)[0] #/ norm\n",
        "\n",
        "def calculate_correlation_precalc_mixed(first, second):\n",
        "    return calc_corr(val_single_predictions[first][:, 0], val_weak_single_predictions[second][:, 0])\n",
        "\n",
        "def calculate_correlation_precalc_strong(first, second):\n",
        "    return calc_corr(val_single_predictions[first][:, 0], val_single_predictions[second][:, 0])\n",
        "\n",
        "def calculate_correlation_precalc_weak(first, second):\n",
        "    return calc_corr(val_weak_single_predictions[first][:, 0], val_weak_single_predictions[second][:, 0])\n",
        "\n",
        "def get_corr_matrix(i, j):\n",
        "    ans = np.zeros((2, 2))\n",
        "    ans[0, 0] = calculate_correlation_precalc_strong(i, i)\n",
        "    ans[0, 1] = calculate_correlation_precalc_mixed(i, j)\n",
        "    ans[1, 0] = ans[0, 1]\n",
        "    ans[1, 1] = calculate_correlation_precalc_weak(j, j)\n",
        "    return ans\n",
        "\n",
        "def corr_based_posterior_variance(corr_matrix, weights):\n",
        "    weights = np.expand_dims(weights, axis=0)\n",
        "    pv = np.dot(np.dot(weights, corr_matrix), weights.T)\n",
        "    return pv[0][0]\n",
        "\n",
        "def calculate_optimal_weights_output(corr_matrix):\n",
        "    P = 2 * corr_matrix\n",
        "    q = np.zeros_like(corr_matrix[:, :1])\n",
        "    A = np.ones((1, corr_matrix.shape[0]))\n",
        "    b = np.ones(1)\n",
        "    lb = np.zeros(corr_matrix.shape[0])\n",
        "    ub = np.ones(corr_matrix.shape[0])\n",
        "    x_sol = solve_qp(P, q, A=A, b=b, lb=lb, ub=ub, initvals=np.array([0.5, 0.5]), solver='cvxopt', verbose=True)#, kktsolver='ldl', options={'kktreg':1e-3})\n",
        "    return x_sol\n"
      ],
      "metadata": {
        "id": "sa_1AlM8yYtW"
      },
      "execution_count": null,
      "outputs": []
    },
    {
      "cell_type": "code",
      "source": [
        "attention_weights = []\n",
        "for m in models:\n",
        "    attention_weights.append(m.distilbert.transformer.layer[5].attention.out_lin.weight.cpu().detach().numpy())\n",
        "\n",
        "weak_attention_weights = []\n",
        "for m in weak_models:\n",
        "    weak_attention_weights.append(m.distilbert.transformer.layer[0].attention.out_lin.weight.cpu().detach().numpy())"
      ],
      "metadata": {
        "id": "9sz9lp5OV4Xc"
      },
      "execution_count": null,
      "outputs": []
    },
    {
      "cell_type": "code",
      "source": [
        "import torch\n",
        "\n",
        "print(torch.cuda.is_available())\n",
        "print(torch.cuda.device_count())\n",
        "print(torch.cuda.current_device())"
      ],
      "metadata": {
        "id": "kZT86vJZqCJO",
        "colab": {
          "base_uri": "https://localhost:8080/"
        },
        "outputId": "7305fc84-712b-451b-fc46-fffdda3b724d"
      },
      "execution_count": null,
      "outputs": [
        {
          "output_type": "stream",
          "name": "stdout",
          "text": [
            "True\n",
            "1\n",
            "0\n"
          ]
        }
      ]
    },
    {
      "cell_type": "code",
      "source": [
        "from time import time\n",
        "start = time()\n",
        "a = rtd.rtd(attention_weights[0], weak_attention_weights[0], pdist_device = 'cuda:0', trials=2, batch=400)\n",
        "print(a)\n",
        "print(time() - start)"
      ],
      "metadata": {
        "colab": {
          "base_uri": "https://localhost:8080/"
        },
        "id": "zcG9iB8msPv7",
        "outputId": "56e670c6-7cba-4ea6-b57e-b3847b03455d"
      },
      "execution_count": null,
      "outputs": [
        {
          "output_type": "stream",
          "name": "stdout",
          "text": [
            "34.20737582445145\n",
            "255.21833086013794\n"
          ]
        }
      ]
    },
    {
      "cell_type": "code",
      "source": [
        "from time import time\n",
        "start = time()\n",
        "a = rtd.rtd(attention_weights[0], weak_attention_weights[0], trials=1, batch=768)\n",
        "print(time() - start)"
      ],
      "metadata": {
        "id": "T-3LwTB0kvhx"
      },
      "execution_count": null,
      "outputs": []
    },
    {
      "cell_type": "code",
      "source": [
        "def my_rtd(cl1, cl2, pdist_device = 'cuda:0', trials=2, batch=384):\n",
        "    rtd_avg = rtd.barcodes.rtd1(cl1[:batch], cl2[:batch], pdist_device = pdist_device)\n",
        "    rtd_avg += rtd.barcodes.rtd1(cl1[batch:], cl2[batch:], pdist_device = pdist_device)\n",
        "    return rtd_avg / trials"
      ],
      "metadata": {
        "id": "u_xsM7OOtihv"
      },
      "execution_count": null,
      "outputs": []
    },
    {
      "cell_type": "code",
      "source": [
        "! ls /usr/local/lib/python3.10/dist-packages/rtd/"
      ],
      "metadata": {
        "colab": {
          "base_uri": "https://localhost:8080/"
        },
        "id": "aLvi1O7Tuu6l",
        "outputId": "4f30b79a-446e-4262-93c2-5d3c7d187243"
      },
      "execution_count": null,
      "outputs": [
        {
          "output_type": "stream",
          "name": "stdout",
          "text": [
            "barcodes.py  cca_core.py  cka.py  __init__.py  pwcca.py  __pycache__  svcca.py\n"
          ]
        }
      ]
    },
    {
      "cell_type": "code",
      "source": [
        "rtd.barcodes.rtd1"
      ],
      "metadata": {
        "colab": {
          "base_uri": "https://localhost:8080/"
        },
        "id": "q8TMOYeuvLJW",
        "outputId": "9b42a6ce-95b1-482f-a50d-526905d03197"
      },
      "execution_count": null,
      "outputs": [
        {
          "output_type": "execute_result",
          "data": {
            "text/plain": [
              "<function rtd.barcodes.rtd1(cl1, cl2, pdist_device='cuda:0')>"
            ]
          },
          "metadata": {},
          "execution_count": 29
        }
      ]
    },
    {
      "cell_type": "code",
      "source": [
        "#rtd.rtd(np.ones((2, 2)), np.ones((2, 2)))\n",
        "from time import time\n",
        "start = time()\n",
        "ans = []\n",
        "for i in range(5):\n",
        "    for j in range(3):\n",
        "        a = my_rtd(attention_weights[i], weak_attention_weights[j], pdist_device='cuda:0', trials=1, batch=384)\n",
        "        print(i, j, a)\n",
        "        ans.append((i, j, a))\n",
        "print(time() - start)"
      ],
      "metadata": {
        "id": "2hNlMSykylna",
        "colab": {
          "base_uri": "https://localhost:8080/"
        },
        "outputId": "9bc33262-a923-4b20-f9b7-9d7c30a654e7"
      },
      "execution_count": null,
      "outputs": [
        {
          "output_type": "stream",
          "name": "stdout",
          "text": [
            "0 0 67.46638742089272\n",
            "0 1 67.13777333498001\n",
            "0 2 65.53225845098495\n",
            "1 0 67.50167348980904\n",
            "1 1 67.17355877161026\n",
            "1 2 65.57106006145477\n",
            "2 0 67.43449205160141\n",
            "2 1 67.1058779656887\n",
            "2 2 65.5012558400631\n",
            "3 0 67.48799046874046\n",
            "3 1 67.15888267755508\n",
            "3 2 65.55936521291733\n",
            "4 0 67.39762878417969\n",
            "4 1 67.06901469826698\n",
            "4 2 65.46118709445\n",
            "1646.8108608722687\n"
          ]
        }
      ]
    },
    {
      "cell_type": "code",
      "source": [
        "for i in range(len(ans)):\n",
        "    ans[i] = np.array(ans[i])\n",
        "ans = np.array(ans)\n",
        "ans_df = pd.DataFrame(ans, columns=['strong', 'weak', 'corr'])\n",
        "ans_df"
      ],
      "metadata": {
        "colab": {
          "base_uri": "https://localhost:8080/",
          "height": 519
        },
        "id": "mxhfKsUC-io9",
        "outputId": "ae97b1c4-ede8-43ad-9f6b-aad08f3d6a22"
      },
      "execution_count": null,
      "outputs": [
        {
          "output_type": "execute_result",
          "data": {
            "text/plain": [
              "    strong  weak       corr\n",
              "0      0.0   0.0  67.466387\n",
              "1      0.0   1.0  67.137773\n",
              "2      0.0   2.0  65.532258\n",
              "3      1.0   0.0  67.501673\n",
              "4      1.0   1.0  67.173559\n",
              "5      1.0   2.0  65.571060\n",
              "6      2.0   0.0  67.434492\n",
              "7      2.0   1.0  67.105878\n",
              "8      2.0   2.0  65.501256\n",
              "9      3.0   0.0  67.487990\n",
              "10     3.0   1.0  67.158883\n",
              "11     3.0   2.0  65.559365\n",
              "12     4.0   0.0  67.397629\n",
              "13     4.0   1.0  67.069015\n",
              "14     4.0   2.0  65.461187"
            ],
            "text/html": [
              "\n",
              "  <div id=\"df-a90f5a08-a00c-486b-900c-1acc3b9dd3cc\" class=\"colab-df-container\">\n",
              "    <div>\n",
              "<style scoped>\n",
              "    .dataframe tbody tr th:only-of-type {\n",
              "        vertical-align: middle;\n",
              "    }\n",
              "\n",
              "    .dataframe tbody tr th {\n",
              "        vertical-align: top;\n",
              "    }\n",
              "\n",
              "    .dataframe thead th {\n",
              "        text-align: right;\n",
              "    }\n",
              "</style>\n",
              "<table border=\"1\" class=\"dataframe\">\n",
              "  <thead>\n",
              "    <tr style=\"text-align: right;\">\n",
              "      <th></th>\n",
              "      <th>strong</th>\n",
              "      <th>weak</th>\n",
              "      <th>corr</th>\n",
              "    </tr>\n",
              "  </thead>\n",
              "  <tbody>\n",
              "    <tr>\n",
              "      <th>0</th>\n",
              "      <td>0.0</td>\n",
              "      <td>0.0</td>\n",
              "      <td>67.466387</td>\n",
              "    </tr>\n",
              "    <tr>\n",
              "      <th>1</th>\n",
              "      <td>0.0</td>\n",
              "      <td>1.0</td>\n",
              "      <td>67.137773</td>\n",
              "    </tr>\n",
              "    <tr>\n",
              "      <th>2</th>\n",
              "      <td>0.0</td>\n",
              "      <td>2.0</td>\n",
              "      <td>65.532258</td>\n",
              "    </tr>\n",
              "    <tr>\n",
              "      <th>3</th>\n",
              "      <td>1.0</td>\n",
              "      <td>0.0</td>\n",
              "      <td>67.501673</td>\n",
              "    </tr>\n",
              "    <tr>\n",
              "      <th>4</th>\n",
              "      <td>1.0</td>\n",
              "      <td>1.0</td>\n",
              "      <td>67.173559</td>\n",
              "    </tr>\n",
              "    <tr>\n",
              "      <th>5</th>\n",
              "      <td>1.0</td>\n",
              "      <td>2.0</td>\n",
              "      <td>65.571060</td>\n",
              "    </tr>\n",
              "    <tr>\n",
              "      <th>6</th>\n",
              "      <td>2.0</td>\n",
              "      <td>0.0</td>\n",
              "      <td>67.434492</td>\n",
              "    </tr>\n",
              "    <tr>\n",
              "      <th>7</th>\n",
              "      <td>2.0</td>\n",
              "      <td>1.0</td>\n",
              "      <td>67.105878</td>\n",
              "    </tr>\n",
              "    <tr>\n",
              "      <th>8</th>\n",
              "      <td>2.0</td>\n",
              "      <td>2.0</td>\n",
              "      <td>65.501256</td>\n",
              "    </tr>\n",
              "    <tr>\n",
              "      <th>9</th>\n",
              "      <td>3.0</td>\n",
              "      <td>0.0</td>\n",
              "      <td>67.487990</td>\n",
              "    </tr>\n",
              "    <tr>\n",
              "      <th>10</th>\n",
              "      <td>3.0</td>\n",
              "      <td>1.0</td>\n",
              "      <td>67.158883</td>\n",
              "    </tr>\n",
              "    <tr>\n",
              "      <th>11</th>\n",
              "      <td>3.0</td>\n",
              "      <td>2.0</td>\n",
              "      <td>65.559365</td>\n",
              "    </tr>\n",
              "    <tr>\n",
              "      <th>12</th>\n",
              "      <td>4.0</td>\n",
              "      <td>0.0</td>\n",
              "      <td>67.397629</td>\n",
              "    </tr>\n",
              "    <tr>\n",
              "      <th>13</th>\n",
              "      <td>4.0</td>\n",
              "      <td>1.0</td>\n",
              "      <td>67.069015</td>\n",
              "    </tr>\n",
              "    <tr>\n",
              "      <th>14</th>\n",
              "      <td>4.0</td>\n",
              "      <td>2.0</td>\n",
              "      <td>65.461187</td>\n",
              "    </tr>\n",
              "  </tbody>\n",
              "</table>\n",
              "</div>\n",
              "    <div class=\"colab-df-buttons\">\n",
              "\n",
              "  <div class=\"colab-df-container\">\n",
              "    <button class=\"colab-df-convert\" onclick=\"convertToInteractive('df-a90f5a08-a00c-486b-900c-1acc3b9dd3cc')\"\n",
              "            title=\"Convert this dataframe to an interactive table.\"\n",
              "            style=\"display:none;\">\n",
              "\n",
              "  <svg xmlns=\"http://www.w3.org/2000/svg\" height=\"24px\" viewBox=\"0 -960 960 960\">\n",
              "    <path d=\"M120-120v-720h720v720H120Zm60-500h600v-160H180v160Zm220 220h160v-160H400v160Zm0 220h160v-160H400v160ZM180-400h160v-160H180v160Zm440 0h160v-160H620v160ZM180-180h160v-160H180v160Zm440 0h160v-160H620v160Z\"/>\n",
              "  </svg>\n",
              "    </button>\n",
              "\n",
              "  <style>\n",
              "    .colab-df-container {\n",
              "      display:flex;\n",
              "      gap: 12px;\n",
              "    }\n",
              "\n",
              "    .colab-df-convert {\n",
              "      background-color: #E8F0FE;\n",
              "      border: none;\n",
              "      border-radius: 50%;\n",
              "      cursor: pointer;\n",
              "      display: none;\n",
              "      fill: #1967D2;\n",
              "      height: 32px;\n",
              "      padding: 0 0 0 0;\n",
              "      width: 32px;\n",
              "    }\n",
              "\n",
              "    .colab-df-convert:hover {\n",
              "      background-color: #E2EBFA;\n",
              "      box-shadow: 0px 1px 2px rgba(60, 64, 67, 0.3), 0px 1px 3px 1px rgba(60, 64, 67, 0.15);\n",
              "      fill: #174EA6;\n",
              "    }\n",
              "\n",
              "    .colab-df-buttons div {\n",
              "      margin-bottom: 4px;\n",
              "    }\n",
              "\n",
              "    [theme=dark] .colab-df-convert {\n",
              "      background-color: #3B4455;\n",
              "      fill: #D2E3FC;\n",
              "    }\n",
              "\n",
              "    [theme=dark] .colab-df-convert:hover {\n",
              "      background-color: #434B5C;\n",
              "      box-shadow: 0px 1px 3px 1px rgba(0, 0, 0, 0.15);\n",
              "      filter: drop-shadow(0px 1px 2px rgba(0, 0, 0, 0.3));\n",
              "      fill: #FFFFFF;\n",
              "    }\n",
              "  </style>\n",
              "\n",
              "    <script>\n",
              "      const buttonEl =\n",
              "        document.querySelector('#df-a90f5a08-a00c-486b-900c-1acc3b9dd3cc button.colab-df-convert');\n",
              "      buttonEl.style.display =\n",
              "        google.colab.kernel.accessAllowed ? 'block' : 'none';\n",
              "\n",
              "      async function convertToInteractive(key) {\n",
              "        const element = document.querySelector('#df-a90f5a08-a00c-486b-900c-1acc3b9dd3cc');\n",
              "        const dataTable =\n",
              "          await google.colab.kernel.invokeFunction('convertToInteractive',\n",
              "                                                    [key], {});\n",
              "        if (!dataTable) return;\n",
              "\n",
              "        const docLinkHtml = 'Like what you see? Visit the ' +\n",
              "          '<a target=\"_blank\" href=https://colab.research.google.com/notebooks/data_table.ipynb>data table notebook</a>'\n",
              "          + ' to learn more about interactive tables.';\n",
              "        element.innerHTML = '';\n",
              "        dataTable['output_type'] = 'display_data';\n",
              "        await google.colab.output.renderOutput(dataTable, element);\n",
              "        const docLink = document.createElement('div');\n",
              "        docLink.innerHTML = docLinkHtml;\n",
              "        element.appendChild(docLink);\n",
              "      }\n",
              "    </script>\n",
              "  </div>\n",
              "\n",
              "\n",
              "<div id=\"df-e93c93df-1e92-4734-88c7-f3e037b6f793\">\n",
              "  <button class=\"colab-df-quickchart\" onclick=\"quickchart('df-e93c93df-1e92-4734-88c7-f3e037b6f793')\"\n",
              "            title=\"Suggest charts.\"\n",
              "            style=\"display:none;\">\n",
              "\n",
              "<svg xmlns=\"http://www.w3.org/2000/svg\" height=\"24px\"viewBox=\"0 0 24 24\"\n",
              "     width=\"24px\">\n",
              "    <g>\n",
              "        <path d=\"M19 3H5c-1.1 0-2 .9-2 2v14c0 1.1.9 2 2 2h14c1.1 0 2-.9 2-2V5c0-1.1-.9-2-2-2zM9 17H7v-7h2v7zm4 0h-2V7h2v10zm4 0h-2v-4h2v4z\"/>\n",
              "    </g>\n",
              "</svg>\n",
              "  </button>\n",
              "\n",
              "<style>\n",
              "  .colab-df-quickchart {\n",
              "    background-color: #E8F0FE;\n",
              "    border: none;\n",
              "    border-radius: 50%;\n",
              "    cursor: pointer;\n",
              "    display: none;\n",
              "    fill: #1967D2;\n",
              "    height: 32px;\n",
              "    padding: 0 0 0 0;\n",
              "    width: 32px;\n",
              "  }\n",
              "\n",
              "  .colab-df-quickchart:hover {\n",
              "    background-color: #E2EBFA;\n",
              "    box-shadow: 0px 1px 2px rgba(60, 64, 67, 0.3), 0px 1px 3px 1px rgba(60, 64, 67, 0.15);\n",
              "    fill: #174EA6;\n",
              "  }\n",
              "\n",
              "  [theme=dark] .colab-df-quickchart {\n",
              "    background-color: #3B4455;\n",
              "    fill: #D2E3FC;\n",
              "  }\n",
              "\n",
              "  [theme=dark] .colab-df-quickchart:hover {\n",
              "    background-color: #434B5C;\n",
              "    box-shadow: 0px 1px 3px 1px rgba(0, 0, 0, 0.15);\n",
              "    filter: drop-shadow(0px 1px 2px rgba(0, 0, 0, 0.3));\n",
              "    fill: #FFFFFF;\n",
              "  }\n",
              "</style>\n",
              "\n",
              "  <script>\n",
              "    async function quickchart(key) {\n",
              "      const charts = await google.colab.kernel.invokeFunction(\n",
              "          'suggestCharts', [key], {});\n",
              "    }\n",
              "    (() => {\n",
              "      let quickchartButtonEl =\n",
              "        document.querySelector('#df-e93c93df-1e92-4734-88c7-f3e037b6f793 button');\n",
              "      quickchartButtonEl.style.display =\n",
              "        google.colab.kernel.accessAllowed ? 'block' : 'none';\n",
              "    })();\n",
              "  </script>\n",
              "</div>\n",
              "    </div>\n",
              "  </div>\n"
            ]
          },
          "metadata": {},
          "execution_count": 19
        }
      ]
    },
    {
      "cell_type": "code",
      "source": [
        "ans_df.to_csv(\"./gdrive/MyDrive/ens_predictions/strong_weak_correlations\" + \".csv\")"
      ],
      "metadata": {
        "id": "G8A6AhIz_FkD"
      },
      "execution_count": null,
      "outputs": []
    },
    {
      "cell_type": "code",
      "source": [
        "ws_corr_df = pd.read_csv(\"./gdrive/MyDrive/ens_predictions/strong_weak_correlations.csv\")\n",
        "ws_corr_df = ws_corr_df.drop(columns=ws_corr_df.columns[:1])\n",
        "ws_corr_df"
      ],
      "metadata": {
        "colab": {
          "base_uri": "https://localhost:8080/",
          "height": 519
        },
        "id": "9HIYvPjYBFAC",
        "outputId": "a2a878e5-feeb-4fd6-adcf-1eef7f221c75"
      },
      "execution_count": null,
      "outputs": [
        {
          "output_type": "execute_result",
          "data": {
            "text/plain": [
              "    strong  weak       corr\n",
              "0      0.0   0.0  67.466387\n",
              "1      0.0   1.0  67.137773\n",
              "2      0.0   2.0  65.532258\n",
              "3      1.0   0.0  67.501673\n",
              "4      1.0   1.0  67.173559\n",
              "5      1.0   2.0  65.571060\n",
              "6      2.0   0.0  67.434492\n",
              "7      2.0   1.0  67.105878\n",
              "8      2.0   2.0  65.501256\n",
              "9      3.0   0.0  67.487990\n",
              "10     3.0   1.0  67.158883\n",
              "11     3.0   2.0  65.559365\n",
              "12     4.0   0.0  67.397629\n",
              "13     4.0   1.0  67.069015\n",
              "14     4.0   2.0  65.461187"
            ],
            "text/html": [
              "\n",
              "  <div id=\"df-37b5488c-beca-4018-a1dd-a18ba502118c\" class=\"colab-df-container\">\n",
              "    <div>\n",
              "<style scoped>\n",
              "    .dataframe tbody tr th:only-of-type {\n",
              "        vertical-align: middle;\n",
              "    }\n",
              "\n",
              "    .dataframe tbody tr th {\n",
              "        vertical-align: top;\n",
              "    }\n",
              "\n",
              "    .dataframe thead th {\n",
              "        text-align: right;\n",
              "    }\n",
              "</style>\n",
              "<table border=\"1\" class=\"dataframe\">\n",
              "  <thead>\n",
              "    <tr style=\"text-align: right;\">\n",
              "      <th></th>\n",
              "      <th>strong</th>\n",
              "      <th>weak</th>\n",
              "      <th>corr</th>\n",
              "    </tr>\n",
              "  </thead>\n",
              "  <tbody>\n",
              "    <tr>\n",
              "      <th>0</th>\n",
              "      <td>0.0</td>\n",
              "      <td>0.0</td>\n",
              "      <td>67.466387</td>\n",
              "    </tr>\n",
              "    <tr>\n",
              "      <th>1</th>\n",
              "      <td>0.0</td>\n",
              "      <td>1.0</td>\n",
              "      <td>67.137773</td>\n",
              "    </tr>\n",
              "    <tr>\n",
              "      <th>2</th>\n",
              "      <td>0.0</td>\n",
              "      <td>2.0</td>\n",
              "      <td>65.532258</td>\n",
              "    </tr>\n",
              "    <tr>\n",
              "      <th>3</th>\n",
              "      <td>1.0</td>\n",
              "      <td>0.0</td>\n",
              "      <td>67.501673</td>\n",
              "    </tr>\n",
              "    <tr>\n",
              "      <th>4</th>\n",
              "      <td>1.0</td>\n",
              "      <td>1.0</td>\n",
              "      <td>67.173559</td>\n",
              "    </tr>\n",
              "    <tr>\n",
              "      <th>5</th>\n",
              "      <td>1.0</td>\n",
              "      <td>2.0</td>\n",
              "      <td>65.571060</td>\n",
              "    </tr>\n",
              "    <tr>\n",
              "      <th>6</th>\n",
              "      <td>2.0</td>\n",
              "      <td>0.0</td>\n",
              "      <td>67.434492</td>\n",
              "    </tr>\n",
              "    <tr>\n",
              "      <th>7</th>\n",
              "      <td>2.0</td>\n",
              "      <td>1.0</td>\n",
              "      <td>67.105878</td>\n",
              "    </tr>\n",
              "    <tr>\n",
              "      <th>8</th>\n",
              "      <td>2.0</td>\n",
              "      <td>2.0</td>\n",
              "      <td>65.501256</td>\n",
              "    </tr>\n",
              "    <tr>\n",
              "      <th>9</th>\n",
              "      <td>3.0</td>\n",
              "      <td>0.0</td>\n",
              "      <td>67.487990</td>\n",
              "    </tr>\n",
              "    <tr>\n",
              "      <th>10</th>\n",
              "      <td>3.0</td>\n",
              "      <td>1.0</td>\n",
              "      <td>67.158883</td>\n",
              "    </tr>\n",
              "    <tr>\n",
              "      <th>11</th>\n",
              "      <td>3.0</td>\n",
              "      <td>2.0</td>\n",
              "      <td>65.559365</td>\n",
              "    </tr>\n",
              "    <tr>\n",
              "      <th>12</th>\n",
              "      <td>4.0</td>\n",
              "      <td>0.0</td>\n",
              "      <td>67.397629</td>\n",
              "    </tr>\n",
              "    <tr>\n",
              "      <th>13</th>\n",
              "      <td>4.0</td>\n",
              "      <td>1.0</td>\n",
              "      <td>67.069015</td>\n",
              "    </tr>\n",
              "    <tr>\n",
              "      <th>14</th>\n",
              "      <td>4.0</td>\n",
              "      <td>2.0</td>\n",
              "      <td>65.461187</td>\n",
              "    </tr>\n",
              "  </tbody>\n",
              "</table>\n",
              "</div>\n",
              "    <div class=\"colab-df-buttons\">\n",
              "\n",
              "  <div class=\"colab-df-container\">\n",
              "    <button class=\"colab-df-convert\" onclick=\"convertToInteractive('df-37b5488c-beca-4018-a1dd-a18ba502118c')\"\n",
              "            title=\"Convert this dataframe to an interactive table.\"\n",
              "            style=\"display:none;\">\n",
              "\n",
              "  <svg xmlns=\"http://www.w3.org/2000/svg\" height=\"24px\" viewBox=\"0 -960 960 960\">\n",
              "    <path d=\"M120-120v-720h720v720H120Zm60-500h600v-160H180v160Zm220 220h160v-160H400v160Zm0 220h160v-160H400v160ZM180-400h160v-160H180v160Zm440 0h160v-160H620v160ZM180-180h160v-160H180v160Zm440 0h160v-160H620v160Z\"/>\n",
              "  </svg>\n",
              "    </button>\n",
              "\n",
              "  <style>\n",
              "    .colab-df-container {\n",
              "      display:flex;\n",
              "      gap: 12px;\n",
              "    }\n",
              "\n",
              "    .colab-df-convert {\n",
              "      background-color: #E8F0FE;\n",
              "      border: none;\n",
              "      border-radius: 50%;\n",
              "      cursor: pointer;\n",
              "      display: none;\n",
              "      fill: #1967D2;\n",
              "      height: 32px;\n",
              "      padding: 0 0 0 0;\n",
              "      width: 32px;\n",
              "    }\n",
              "\n",
              "    .colab-df-convert:hover {\n",
              "      background-color: #E2EBFA;\n",
              "      box-shadow: 0px 1px 2px rgba(60, 64, 67, 0.3), 0px 1px 3px 1px rgba(60, 64, 67, 0.15);\n",
              "      fill: #174EA6;\n",
              "    }\n",
              "\n",
              "    .colab-df-buttons div {\n",
              "      margin-bottom: 4px;\n",
              "    }\n",
              "\n",
              "    [theme=dark] .colab-df-convert {\n",
              "      background-color: #3B4455;\n",
              "      fill: #D2E3FC;\n",
              "    }\n",
              "\n",
              "    [theme=dark] .colab-df-convert:hover {\n",
              "      background-color: #434B5C;\n",
              "      box-shadow: 0px 1px 3px 1px rgba(0, 0, 0, 0.15);\n",
              "      filter: drop-shadow(0px 1px 2px rgba(0, 0, 0, 0.3));\n",
              "      fill: #FFFFFF;\n",
              "    }\n",
              "  </style>\n",
              "\n",
              "    <script>\n",
              "      const buttonEl =\n",
              "        document.querySelector('#df-37b5488c-beca-4018-a1dd-a18ba502118c button.colab-df-convert');\n",
              "      buttonEl.style.display =\n",
              "        google.colab.kernel.accessAllowed ? 'block' : 'none';\n",
              "\n",
              "      async function convertToInteractive(key) {\n",
              "        const element = document.querySelector('#df-37b5488c-beca-4018-a1dd-a18ba502118c');\n",
              "        const dataTable =\n",
              "          await google.colab.kernel.invokeFunction('convertToInteractive',\n",
              "                                                    [key], {});\n",
              "        if (!dataTable) return;\n",
              "\n",
              "        const docLinkHtml = 'Like what you see? Visit the ' +\n",
              "          '<a target=\"_blank\" href=https://colab.research.google.com/notebooks/data_table.ipynb>data table notebook</a>'\n",
              "          + ' to learn more about interactive tables.';\n",
              "        element.innerHTML = '';\n",
              "        dataTable['output_type'] = 'display_data';\n",
              "        await google.colab.output.renderOutput(dataTable, element);\n",
              "        const docLink = document.createElement('div');\n",
              "        docLink.innerHTML = docLinkHtml;\n",
              "        element.appendChild(docLink);\n",
              "      }\n",
              "    </script>\n",
              "  </div>\n",
              "\n",
              "\n",
              "<div id=\"df-8a3629ce-dc93-475e-88e0-6b80579cf2ca\">\n",
              "  <button class=\"colab-df-quickchart\" onclick=\"quickchart('df-8a3629ce-dc93-475e-88e0-6b80579cf2ca')\"\n",
              "            title=\"Suggest charts.\"\n",
              "            style=\"display:none;\">\n",
              "\n",
              "<svg xmlns=\"http://www.w3.org/2000/svg\" height=\"24px\"viewBox=\"0 0 24 24\"\n",
              "     width=\"24px\">\n",
              "    <g>\n",
              "        <path d=\"M19 3H5c-1.1 0-2 .9-2 2v14c0 1.1.9 2 2 2h14c1.1 0 2-.9 2-2V5c0-1.1-.9-2-2-2zM9 17H7v-7h2v7zm4 0h-2V7h2v10zm4 0h-2v-4h2v4z\"/>\n",
              "    </g>\n",
              "</svg>\n",
              "  </button>\n",
              "\n",
              "<style>\n",
              "  .colab-df-quickchart {\n",
              "    background-color: #E8F0FE;\n",
              "    border: none;\n",
              "    border-radius: 50%;\n",
              "    cursor: pointer;\n",
              "    display: none;\n",
              "    fill: #1967D2;\n",
              "    height: 32px;\n",
              "    padding: 0 0 0 0;\n",
              "    width: 32px;\n",
              "  }\n",
              "\n",
              "  .colab-df-quickchart:hover {\n",
              "    background-color: #E2EBFA;\n",
              "    box-shadow: 0px 1px 2px rgba(60, 64, 67, 0.3), 0px 1px 3px 1px rgba(60, 64, 67, 0.15);\n",
              "    fill: #174EA6;\n",
              "  }\n",
              "\n",
              "  [theme=dark] .colab-df-quickchart {\n",
              "    background-color: #3B4455;\n",
              "    fill: #D2E3FC;\n",
              "  }\n",
              "\n",
              "  [theme=dark] .colab-df-quickchart:hover {\n",
              "    background-color: #434B5C;\n",
              "    box-shadow: 0px 1px 3px 1px rgba(0, 0, 0, 0.15);\n",
              "    filter: drop-shadow(0px 1px 2px rgba(0, 0, 0, 0.3));\n",
              "    fill: #FFFFFF;\n",
              "  }\n",
              "</style>\n",
              "\n",
              "  <script>\n",
              "    async function quickchart(key) {\n",
              "      const charts = await google.colab.kernel.invokeFunction(\n",
              "          'suggestCharts', [key], {});\n",
              "    }\n",
              "    (() => {\n",
              "      let quickchartButtonEl =\n",
              "        document.querySelector('#df-8a3629ce-dc93-475e-88e0-6b80579cf2ca button');\n",
              "      quickchartButtonEl.style.display =\n",
              "        google.colab.kernel.accessAllowed ? 'block' : 'none';\n",
              "    })();\n",
              "  </script>\n",
              "</div>\n",
              "    </div>\n",
              "  </div>\n"
            ]
          },
          "metadata": {},
          "execution_count": 32
        }
      ]
    },
    {
      "cell_type": "code",
      "source": [
        "from tqdm import tqdm\n",
        "def get_corr_matrix_rtd(i, j):\n",
        "    ans = np.zeros((2, 2))\n",
        "    ans[0, 0] = 0.0 #rtd.rtd(attention_weights[i], attention_weights[i])\n",
        "    ans[0, 1] = ws_corr_df[np.logical_and(ans_df.strong == i, ans_df.weak == j)].values[0][2]\n",
        "    ans[1, 0] = ans[0, 1]\n",
        "    ans[1, 1] = 0.0 #rtd.rtd(weak_attention_weights[j], weak_attention_weights[j])\n",
        "    ans /= ans.max()\n",
        "    ans = 1 - ans\n",
        "    return ans\n",
        "\n",
        "ans = []\n",
        "for i in range(len(single_predictions)):\n",
        "    strong = single_predictions[i]\n",
        "    for j in tqdm(range(len(weak_single_predictions))):\n",
        "        corr_matrix = get_corr_matrix_rtd(i, j)\n",
        "        weak = weak_single_predictions[j]\n",
        "        weights = calculate_optimal_weights_output(corr_matrix)\n",
        "        preds = np.array([strong, weak])\n",
        "        weighted_predictions = weighted_prediction(preds, weights)\n",
        "        ans.append(np.array([i, j, round(accuracy_score(np.argmax(weighted_predictions, axis=1), true_labels), 5)]))"
      ],
      "metadata": {
        "colab": {
          "base_uri": "https://localhost:8080/"
        },
        "id": "5KrdjG1emqCP",
        "outputId": "934b2f9c-706f-4606-b853-c8274c739321"
      },
      "execution_count": null,
      "outputs": [
        {
          "output_type": "stream",
          "name": "stderr",
          "text": [
            "100%|██████████| 3/3 [00:00<00:00, 26.93it/s]\n"
          ]
        },
        {
          "output_type": "stream",
          "name": "stdout",
          "text": [
            "67.46638742089272\n",
            "     pcost       dcost       gap    pres   dres\n",
            " 0:  5.0000e-01 -1.5000e+00  4e+00  7e-01  1e+00\n",
            " 1:  5.0000e-01 -3.1250e-02  5e-01  1e-16  2e-16\n",
            " 2:  5.0000e-01  4.9469e-01  5e-03  0e+00  3e-17\n",
            " 3:  5.0000e-01  4.9995e-01  5e-05  1e-16  1e-18\n",
            " 4:  5.0000e-01  5.0000e-01  5e-07  0e+00  3e-20\n",
            " 5:  5.0000e-01  5.0000e-01  5e-09  2e-16  2e-22\n",
            "Optimal solution found.\n",
            "67.13777333498001\n",
            "     pcost       dcost       gap    pres   dres\n",
            " 0:  5.0000e-01 -1.5000e+00  4e+00  7e-01  1e+00\n",
            " 1:  5.0000e-01 -3.1250e-02  5e-01  1e-16  2e-16\n",
            " 2:  5.0000e-01  4.9469e-01  5e-03  0e+00  3e-17\n",
            " 3:  5.0000e-01  4.9995e-01  5e-05  1e-16  1e-18\n",
            " 4:  5.0000e-01  5.0000e-01  5e-07  0e+00  3e-20\n",
            " 5:  5.0000e-01  5.0000e-01  5e-09  2e-16  2e-22\n",
            "Optimal solution found.\n",
            "65.53225845098495\n",
            "     pcost       dcost       gap    pres   dres\n",
            " 0:  5.0000e-01 -1.5000e+00  4e+00  7e-01  1e+00\n",
            " 1:  5.0000e-01 -3.1250e-02  5e-01  1e-16  2e-16\n",
            " 2:  5.0000e-01  4.9469e-01  5e-03  0e+00  3e-17\n",
            " 3:  5.0000e-01  4.9995e-01  5e-05  1e-16  1e-18\n",
            " 4:  5.0000e-01  5.0000e-01  5e-07  0e+00  3e-20\n",
            " 5:  5.0000e-01  5.0000e-01  5e-09  2e-16  2e-22\n",
            "Optimal solution found.\n"
          ]
        },
        {
          "output_type": "stream",
          "name": "stderr",
          "text": [
            "100%|██████████| 3/3 [00:00<00:00, 48.68it/s]\n"
          ]
        },
        {
          "output_type": "stream",
          "name": "stdout",
          "text": [
            "67.50167348980904\n",
            "     pcost       dcost       gap    pres   dres\n",
            " 0:  5.0000e-01 -1.5000e+00  4e+00  7e-01  1e+00\n",
            " 1:  5.0000e-01 -3.1250e-02  5e-01  1e-16  2e-16\n",
            " 2:  5.0000e-01  4.9469e-01  5e-03  0e+00  3e-17\n",
            " 3:  5.0000e-01  4.9995e-01  5e-05  1e-16  1e-18\n",
            " 4:  5.0000e-01  5.0000e-01  5e-07  0e+00  3e-20\n",
            " 5:  5.0000e-01  5.0000e-01  5e-09  2e-16  2e-22\n",
            "Optimal solution found.\n",
            "67.17355877161026\n",
            "     pcost       dcost       gap    pres   dres\n",
            " 0:  5.0000e-01 -1.5000e+00  4e+00  7e-01  1e+00\n",
            " 1:  5.0000e-01 -3.1250e-02  5e-01  1e-16  2e-16\n",
            " 2:  5.0000e-01  4.9469e-01  5e-03  0e+00  3e-17\n",
            " 3:  5.0000e-01  4.9995e-01  5e-05  1e-16  1e-18\n",
            " 4:  5.0000e-01  5.0000e-01  5e-07  0e+00  3e-20\n",
            " 5:  5.0000e-01  5.0000e-01  5e-09  2e-16  2e-22\n",
            "Optimal solution found.\n",
            "65.57106006145477\n",
            "     pcost       dcost       gap    pres   dres\n",
            " 0:  5.0000e-01 -1.5000e+00  4e+00  7e-01  1e+00\n",
            " 1:  5.0000e-01 -3.1250e-02  5e-01  1e-16  2e-16\n",
            " 2:  5.0000e-01  4.9469e-01  5e-03  0e+00  3e-17\n",
            " 3:  5.0000e-01  4.9995e-01  5e-05  1e-16  1e-18\n",
            " 4:  5.0000e-01  5.0000e-01  5e-07  0e+00  3e-20\n",
            " 5:  5.0000e-01  5.0000e-01  5e-09  2e-16  2e-22\n",
            "Optimal solution found.\n"
          ]
        },
        {
          "output_type": "stream",
          "name": "stderr",
          "text": [
            "\r  0%|          | 0/3 [00:00<?, ?it/s]"
          ]
        },
        {
          "output_type": "stream",
          "name": "stdout",
          "text": [
            "67.43449205160141\n",
            "     pcost       dcost       gap    pres   dres"
          ]
        },
        {
          "output_type": "stream",
          "name": "stderr",
          "text": [
            "\r100%|██████████| 3/3 [00:00<00:00, 56.71it/s]\n"
          ]
        },
        {
          "output_type": "stream",
          "name": "stdout",
          "text": [
            "\n",
            " 0:  5.0000e-01 -1.5000e+00  4e+00  7e-01  1e+00\n",
            " 1:  5.0000e-01 -3.1250e-02  5e-01  1e-16  2e-16\n",
            " 2:  5.0000e-01  4.9469e-01  5e-03  0e+00  3e-17\n",
            " 3:  5.0000e-01  4.9995e-01  5e-05  1e-16  1e-18\n",
            " 4:  5.0000e-01  5.0000e-01  5e-07  0e+00  3e-20\n",
            " 5:  5.0000e-01  5.0000e-01  5e-09  2e-16  2e-22\n",
            "Optimal solution found.\n",
            "67.1058779656887\n",
            "     pcost       dcost       gap    pres   dres\n",
            " 0:  5.0000e-01 -1.5000e+00  4e+00  7e-01  1e+00\n",
            " 1:  5.0000e-01 -3.1250e-02  5e-01  1e-16  2e-16\n",
            " 2:  5.0000e-01  4.9469e-01  5e-03  0e+00  3e-17\n",
            " 3:  5.0000e-01  4.9995e-01  5e-05  1e-16  1e-18\n",
            " 4:  5.0000e-01  5.0000e-01  5e-07  0e+00  3e-20\n",
            " 5:  5.0000e-01  5.0000e-01  5e-09  2e-16  2e-22\n",
            "Optimal solution found.\n",
            "65.5012558400631\n",
            "     pcost       dcost       gap    pres   dres\n",
            " 0:  5.0000e-01 -1.5000e+00  4e+00  7e-01  1e+00\n",
            " 1:  5.0000e-01 -3.1250e-02  5e-01  1e-16  2e-16\n",
            " 2:  5.0000e-01  4.9469e-01  5e-03  0e+00  3e-17\n",
            " 3:  5.0000e-01  4.9995e-01  5e-05  1e-16  1e-18\n",
            " 4:  5.0000e-01  5.0000e-01  5e-07  0e+00  3e-20\n",
            " 5:  5.0000e-01  5.0000e-01  5e-09  2e-16  2e-22\n",
            "Optimal solution found.\n"
          ]
        },
        {
          "output_type": "stream",
          "name": "stderr",
          "text": [
            "100%|██████████| 3/3 [00:00<00:00, 66.67it/s]\n"
          ]
        },
        {
          "output_type": "stream",
          "name": "stdout",
          "text": [
            "67.48799046874046\n",
            "     pcost       dcost       gap    pres   dres\n",
            " 0:  5.0000e-01 -1.5000e+00  4e+00  7e-01  1e+00\n",
            " 1:  5.0000e-01 -3.1250e-02  5e-01  1e-16  2e-16\n",
            " 2:  5.0000e-01  4.9469e-01  5e-03  0e+00  3e-17\n",
            " 3:  5.0000e-01  4.9995e-01  5e-05  1e-16  1e-18\n",
            " 4:  5.0000e-01  5.0000e-01  5e-07  0e+00  3e-20\n",
            " 5:  5.0000e-01  5.0000e-01  5e-09  2e-16  2e-22\n",
            "Optimal solution found.\n",
            "67.15888267755508\n",
            "     pcost       dcost       gap    pres   dres\n",
            " 0:  5.0000e-01 -1.5000e+00  4e+00  7e-01  1e+00\n",
            " 1:  5.0000e-01 -3.1250e-02  5e-01  1e-16  2e-16\n",
            " 2:  5.0000e-01  4.9469e-01  5e-03  0e+00  3e-17\n",
            " 3:  5.0000e-01  4.9995e-01  5e-05  1e-16  1e-18\n",
            " 4:  5.0000e-01  5.0000e-01  5e-07  0e+00  3e-20\n",
            " 5:  5.0000e-01  5.0000e-01  5e-09  2e-16  2e-22\n",
            "Optimal solution found.\n",
            "65.55936521291733\n",
            "     pcost       dcost       gap    pres   dres\n",
            " 0:  5.0000e-01 -1.5000e+00  4e+00  7e-01  1e+00\n",
            " 1:  5.0000e-01 -3.1250e-02  5e-01  1e-16  2e-16\n",
            " 2:  5.0000e-01  4.9469e-01  5e-03  0e+00  3e-17\n",
            " 3:  5.0000e-01  4.9995e-01  5e-05  1e-16  1e-18\n",
            " 4:  5.0000e-01  5.0000e-01  5e-07  0e+00  3e-20\n",
            " 5:  5.0000e-01  5.0000e-01  5e-09  2e-16  2e-22\n",
            "Optimal solution found.\n"
          ]
        },
        {
          "output_type": "stream",
          "name": "stderr",
          "text": [
            "\r  0%|          | 0/3 [00:00<?, ?it/s]"
          ]
        },
        {
          "output_type": "stream",
          "name": "stdout",
          "text": [
            "67.39762878417969\n",
            "     pcost       dcost       gap    pres   dres\n",
            " 0:  5.0000e-01 -1.5000e+00  4e+00  7e-01  1e+00\n",
            " 1:  5.0000e-01 -3.1250e-02  5e-01  1e-16  2e-16\n"
          ]
        },
        {
          "output_type": "stream",
          "name": "stderr",
          "text": [
            "\r100%|██████████| 3/3 [00:00<00:00, 61.95it/s]"
          ]
        },
        {
          "output_type": "stream",
          "name": "stdout",
          "text": [
            " 2:  5.0000e-01  4.9469e-01  5e-03  0e+00  3e-17\n",
            " 3:  5.0000e-01  4.9995e-01  5e-05  1e-16  1e-18\n",
            " 4:  5.0000e-01  5.0000e-01  5e-07  0e+00  3e-20\n",
            " 5:  5.0000e-01  5.0000e-01  5e-09  2e-16  2e-22\n",
            "Optimal solution found.\n",
            "67.06901469826698\n",
            "     pcost       dcost       gap    pres   dres\n",
            " 0:  5.0000e-01 -1.5000e+00  4e+00  7e-01  1e+00\n",
            " 1:  5.0000e-01 -3.1250e-02  5e-01  1e-16  2e-16\n",
            " 2:  5.0000e-01  4.9469e-01  5e-03  0e+00  3e-17\n",
            " 3:  5.0000e-01  4.9995e-01  5e-05  1e-16  1e-18\n",
            " 4:  5.0000e-01  5.0000e-01  5e-07  0e+00  3e-20\n",
            " 5:  5.0000e-01  5.0000e-01  5e-09  2e-16  2e-22\n",
            "Optimal solution found.\n",
            "65.46118709445\n",
            "     pcost       dcost       gap    pres   dres\n",
            " 0:  5.0000e-01 -1.5000e+00  4e+00  7e-01  1e+00\n",
            " 1:  5.0000e-01 -3.1250e-02  5e-01  1e-16  2e-16\n",
            " 2:  5.0000e-01  4.9469e-01  5e-03  0e+00  3e-17\n",
            " 3:  5.0000e-01  4.9995e-01  5e-05  1e-16  1e-18\n",
            " 4:  5.0000e-01  5.0000e-01  5e-07  0e+00  3e-20\n",
            " 5:  5.0000e-01  5.0000e-01  5e-09  2e-16  2e-22\n",
            "Optimal solution found.\n"
          ]
        },
        {
          "output_type": "stream",
          "name": "stderr",
          "text": [
            "\n"
          ]
        }
      ]
    },
    {
      "cell_type": "code",
      "source": [
        "import pandas as pd\n",
        "ans = np.array(ans)\n",
        "ans_df = pd.DataFrame(ans, columns=['Strong', 'Weak', 'Accuracy'])\n",
        "ans_df"
      ],
      "metadata": {
        "id": "fskrI4Pdb9MQ",
        "colab": {
          "base_uri": "https://localhost:8080/",
          "height": 519
        },
        "outputId": "cc9825f7-8575-4e42-c14b-c7438d0bcc7a"
      },
      "execution_count": null,
      "outputs": [
        {
          "output_type": "execute_result",
          "data": {
            "text/plain": [
              "    Strong  Weak  Accuracy\n",
              "0      0.0   0.0   0.88504\n",
              "1      0.0   1.0   0.85576\n",
              "2      0.0   2.0   0.93360\n",
              "3      1.0   0.0   0.88536\n",
              "4      1.0   1.0   0.85624\n",
              "5      1.0   2.0   0.93520\n",
              "6      2.0   0.0   0.88424\n",
              "7      2.0   1.0   0.85520\n",
              "8      2.0   2.0   0.93344\n",
              "9      3.0   0.0   0.88544\n",
              "10     3.0   1.0   0.85544\n",
              "11     3.0   2.0   0.93496\n",
              "12     4.0   0.0   0.88288\n",
              "13     4.0   1.0   0.85424\n",
              "14     4.0   2.0   0.93048"
            ],
            "text/html": [
              "\n",
              "  <div id=\"df-4123aaca-79bb-46c3-9b77-9bf38d83833f\" class=\"colab-df-container\">\n",
              "    <div>\n",
              "<style scoped>\n",
              "    .dataframe tbody tr th:only-of-type {\n",
              "        vertical-align: middle;\n",
              "    }\n",
              "\n",
              "    .dataframe tbody tr th {\n",
              "        vertical-align: top;\n",
              "    }\n",
              "\n",
              "    .dataframe thead th {\n",
              "        text-align: right;\n",
              "    }\n",
              "</style>\n",
              "<table border=\"1\" class=\"dataframe\">\n",
              "  <thead>\n",
              "    <tr style=\"text-align: right;\">\n",
              "      <th></th>\n",
              "      <th>Strong</th>\n",
              "      <th>Weak</th>\n",
              "      <th>Accuracy</th>\n",
              "    </tr>\n",
              "  </thead>\n",
              "  <tbody>\n",
              "    <tr>\n",
              "      <th>0</th>\n",
              "      <td>0.0</td>\n",
              "      <td>0.0</td>\n",
              "      <td>0.88504</td>\n",
              "    </tr>\n",
              "    <tr>\n",
              "      <th>1</th>\n",
              "      <td>0.0</td>\n",
              "      <td>1.0</td>\n",
              "      <td>0.85576</td>\n",
              "    </tr>\n",
              "    <tr>\n",
              "      <th>2</th>\n",
              "      <td>0.0</td>\n",
              "      <td>2.0</td>\n",
              "      <td>0.93360</td>\n",
              "    </tr>\n",
              "    <tr>\n",
              "      <th>3</th>\n",
              "      <td>1.0</td>\n",
              "      <td>0.0</td>\n",
              "      <td>0.88536</td>\n",
              "    </tr>\n",
              "    <tr>\n",
              "      <th>4</th>\n",
              "      <td>1.0</td>\n",
              "      <td>1.0</td>\n",
              "      <td>0.85624</td>\n",
              "    </tr>\n",
              "    <tr>\n",
              "      <th>5</th>\n",
              "      <td>1.0</td>\n",
              "      <td>2.0</td>\n",
              "      <td>0.93520</td>\n",
              "    </tr>\n",
              "    <tr>\n",
              "      <th>6</th>\n",
              "      <td>2.0</td>\n",
              "      <td>0.0</td>\n",
              "      <td>0.88424</td>\n",
              "    </tr>\n",
              "    <tr>\n",
              "      <th>7</th>\n",
              "      <td>2.0</td>\n",
              "      <td>1.0</td>\n",
              "      <td>0.85520</td>\n",
              "    </tr>\n",
              "    <tr>\n",
              "      <th>8</th>\n",
              "      <td>2.0</td>\n",
              "      <td>2.0</td>\n",
              "      <td>0.93344</td>\n",
              "    </tr>\n",
              "    <tr>\n",
              "      <th>9</th>\n",
              "      <td>3.0</td>\n",
              "      <td>0.0</td>\n",
              "      <td>0.88544</td>\n",
              "    </tr>\n",
              "    <tr>\n",
              "      <th>10</th>\n",
              "      <td>3.0</td>\n",
              "      <td>1.0</td>\n",
              "      <td>0.85544</td>\n",
              "    </tr>\n",
              "    <tr>\n",
              "      <th>11</th>\n",
              "      <td>3.0</td>\n",
              "      <td>2.0</td>\n",
              "      <td>0.93496</td>\n",
              "    </tr>\n",
              "    <tr>\n",
              "      <th>12</th>\n",
              "      <td>4.0</td>\n",
              "      <td>0.0</td>\n",
              "      <td>0.88288</td>\n",
              "    </tr>\n",
              "    <tr>\n",
              "      <th>13</th>\n",
              "      <td>4.0</td>\n",
              "      <td>1.0</td>\n",
              "      <td>0.85424</td>\n",
              "    </tr>\n",
              "    <tr>\n",
              "      <th>14</th>\n",
              "      <td>4.0</td>\n",
              "      <td>2.0</td>\n",
              "      <td>0.93048</td>\n",
              "    </tr>\n",
              "  </tbody>\n",
              "</table>\n",
              "</div>\n",
              "    <div class=\"colab-df-buttons\">\n",
              "\n",
              "  <div class=\"colab-df-container\">\n",
              "    <button class=\"colab-df-convert\" onclick=\"convertToInteractive('df-4123aaca-79bb-46c3-9b77-9bf38d83833f')\"\n",
              "            title=\"Convert this dataframe to an interactive table.\"\n",
              "            style=\"display:none;\">\n",
              "\n",
              "  <svg xmlns=\"http://www.w3.org/2000/svg\" height=\"24px\" viewBox=\"0 -960 960 960\">\n",
              "    <path d=\"M120-120v-720h720v720H120Zm60-500h600v-160H180v160Zm220 220h160v-160H400v160Zm0 220h160v-160H400v160ZM180-400h160v-160H180v160Zm440 0h160v-160H620v160ZM180-180h160v-160H180v160Zm440 0h160v-160H620v160Z\"/>\n",
              "  </svg>\n",
              "    </button>\n",
              "\n",
              "  <style>\n",
              "    .colab-df-container {\n",
              "      display:flex;\n",
              "      gap: 12px;\n",
              "    }\n",
              "\n",
              "    .colab-df-convert {\n",
              "      background-color: #E8F0FE;\n",
              "      border: none;\n",
              "      border-radius: 50%;\n",
              "      cursor: pointer;\n",
              "      display: none;\n",
              "      fill: #1967D2;\n",
              "      height: 32px;\n",
              "      padding: 0 0 0 0;\n",
              "      width: 32px;\n",
              "    }\n",
              "\n",
              "    .colab-df-convert:hover {\n",
              "      background-color: #E2EBFA;\n",
              "      box-shadow: 0px 1px 2px rgba(60, 64, 67, 0.3), 0px 1px 3px 1px rgba(60, 64, 67, 0.15);\n",
              "      fill: #174EA6;\n",
              "    }\n",
              "\n",
              "    .colab-df-buttons div {\n",
              "      margin-bottom: 4px;\n",
              "    }\n",
              "\n",
              "    [theme=dark] .colab-df-convert {\n",
              "      background-color: #3B4455;\n",
              "      fill: #D2E3FC;\n",
              "    }\n",
              "\n",
              "    [theme=dark] .colab-df-convert:hover {\n",
              "      background-color: #434B5C;\n",
              "      box-shadow: 0px 1px 3px 1px rgba(0, 0, 0, 0.15);\n",
              "      filter: drop-shadow(0px 1px 2px rgba(0, 0, 0, 0.3));\n",
              "      fill: #FFFFFF;\n",
              "    }\n",
              "  </style>\n",
              "\n",
              "    <script>\n",
              "      const buttonEl =\n",
              "        document.querySelector('#df-4123aaca-79bb-46c3-9b77-9bf38d83833f button.colab-df-convert');\n",
              "      buttonEl.style.display =\n",
              "        google.colab.kernel.accessAllowed ? 'block' : 'none';\n",
              "\n",
              "      async function convertToInteractive(key) {\n",
              "        const element = document.querySelector('#df-4123aaca-79bb-46c3-9b77-9bf38d83833f');\n",
              "        const dataTable =\n",
              "          await google.colab.kernel.invokeFunction('convertToInteractive',\n",
              "                                                    [key], {});\n",
              "        if (!dataTable) return;\n",
              "\n",
              "        const docLinkHtml = 'Like what you see? Visit the ' +\n",
              "          '<a target=\"_blank\" href=https://colab.research.google.com/notebooks/data_table.ipynb>data table notebook</a>'\n",
              "          + ' to learn more about interactive tables.';\n",
              "        element.innerHTML = '';\n",
              "        dataTable['output_type'] = 'display_data';\n",
              "        await google.colab.output.renderOutput(dataTable, element);\n",
              "        const docLink = document.createElement('div');\n",
              "        docLink.innerHTML = docLinkHtml;\n",
              "        element.appendChild(docLink);\n",
              "      }\n",
              "    </script>\n",
              "  </div>\n",
              "\n",
              "\n",
              "<div id=\"df-ea5e7c1b-b2d7-4531-a7d3-ceaecf8941a6\">\n",
              "  <button class=\"colab-df-quickchart\" onclick=\"quickchart('df-ea5e7c1b-b2d7-4531-a7d3-ceaecf8941a6')\"\n",
              "            title=\"Suggest charts.\"\n",
              "            style=\"display:none;\">\n",
              "\n",
              "<svg xmlns=\"http://www.w3.org/2000/svg\" height=\"24px\"viewBox=\"0 0 24 24\"\n",
              "     width=\"24px\">\n",
              "    <g>\n",
              "        <path d=\"M19 3H5c-1.1 0-2 .9-2 2v14c0 1.1.9 2 2 2h14c1.1 0 2-.9 2-2V5c0-1.1-.9-2-2-2zM9 17H7v-7h2v7zm4 0h-2V7h2v10zm4 0h-2v-4h2v4z\"/>\n",
              "    </g>\n",
              "</svg>\n",
              "  </button>\n",
              "\n",
              "<style>\n",
              "  .colab-df-quickchart {\n",
              "    background-color: #E8F0FE;\n",
              "    border: none;\n",
              "    border-radius: 50%;\n",
              "    cursor: pointer;\n",
              "    display: none;\n",
              "    fill: #1967D2;\n",
              "    height: 32px;\n",
              "    padding: 0 0 0 0;\n",
              "    width: 32px;\n",
              "  }\n",
              "\n",
              "  .colab-df-quickchart:hover {\n",
              "    background-color: #E2EBFA;\n",
              "    box-shadow: 0px 1px 2px rgba(60, 64, 67, 0.3), 0px 1px 3px 1px rgba(60, 64, 67, 0.15);\n",
              "    fill: #174EA6;\n",
              "  }\n",
              "\n",
              "  [theme=dark] .colab-df-quickchart {\n",
              "    background-color: #3B4455;\n",
              "    fill: #D2E3FC;\n",
              "  }\n",
              "\n",
              "  [theme=dark] .colab-df-quickchart:hover {\n",
              "    background-color: #434B5C;\n",
              "    box-shadow: 0px 1px 3px 1px rgba(0, 0, 0, 0.15);\n",
              "    filter: drop-shadow(0px 1px 2px rgba(0, 0, 0, 0.3));\n",
              "    fill: #FFFFFF;\n",
              "  }\n",
              "</style>\n",
              "\n",
              "  <script>\n",
              "    async function quickchart(key) {\n",
              "      const charts = await google.colab.kernel.invokeFunction(\n",
              "          'suggestCharts', [key], {});\n",
              "    }\n",
              "    (() => {\n",
              "      let quickchartButtonEl =\n",
              "        document.querySelector('#df-ea5e7c1b-b2d7-4531-a7d3-ceaecf8941a6 button');\n",
              "      quickchartButtonEl.style.display =\n",
              "        google.colab.kernel.accessAllowed ? 'block' : 'none';\n",
              "    })();\n",
              "  </script>\n",
              "</div>\n",
              "    </div>\n",
              "  </div>\n"
            ]
          },
          "metadata": {},
          "execution_count": 28
        }
      ]
    },
    {
      "cell_type": "code",
      "source": [],
      "metadata": {
        "id": "U2DLK-uodOy1"
      },
      "execution_count": null,
      "outputs": []
    },
    {
      "cell_type": "markdown",
      "source": [
        "## Results for all models"
      ],
      "metadata": {
        "id": "77TO0Mu2Bjez"
      }
    },
    {
      "cell_type": "code",
      "source": [
        "ws_corr_df = pd.read_csv(\"./gdrive/MyDrive/ens_predictions/strong_weak_correlations.csv\")\n",
        "ws_corr_df = ws_corr_df.drop(columns=ws_corr_df.columns[:1])\n",
        "ws_corr_df['correl'] = ws_corr_df['corr']\n",
        "ws_corr_df = ws_corr_df.drop(columns=['corr'])\n",
        "ws_corr_df.correl = 1 - ws_corr_df.correl / ws_corr_df.correl.max()\n",
        "ws_corr_df"
      ],
      "metadata": {
        "colab": {
          "base_uri": "https://localhost:8080/",
          "height": 519
        },
        "id": "4tNEiSJsBrZw",
        "outputId": "a05b1558-eafe-47da-8e3e-ae855a223cc5"
      },
      "execution_count": null,
      "outputs": [
        {
          "output_type": "execute_result",
          "data": {
            "text/plain": [
              "    strong  weak    correl\n",
              "0      0.0   0.0  0.000523\n",
              "1      0.0   1.0  0.005391\n",
              "2      0.0   2.0  0.029176\n",
              "3      1.0   0.0  0.000000\n",
              "4      1.0   1.0  0.004861\n",
              "5      1.0   2.0  0.028601\n",
              "6      2.0   0.0  0.000995\n",
              "7      2.0   1.0  0.005863\n",
              "8      2.0   2.0  0.029635\n",
              "9      3.0   0.0  0.000203\n",
              "10     3.0   1.0  0.005078\n",
              "11     3.0   2.0  0.028774\n",
              "12     4.0   0.0  0.001541\n",
              "13     4.0   1.0  0.006410\n",
              "14     4.0   2.0  0.030229"
            ],
            "text/html": [
              "\n",
              "  <div id=\"df-3ce04e65-09e4-49df-952e-418e5ac4dcd1\" class=\"colab-df-container\">\n",
              "    <div>\n",
              "<style scoped>\n",
              "    .dataframe tbody tr th:only-of-type {\n",
              "        vertical-align: middle;\n",
              "    }\n",
              "\n",
              "    .dataframe tbody tr th {\n",
              "        vertical-align: top;\n",
              "    }\n",
              "\n",
              "    .dataframe thead th {\n",
              "        text-align: right;\n",
              "    }\n",
              "</style>\n",
              "<table border=\"1\" class=\"dataframe\">\n",
              "  <thead>\n",
              "    <tr style=\"text-align: right;\">\n",
              "      <th></th>\n",
              "      <th>strong</th>\n",
              "      <th>weak</th>\n",
              "      <th>correl</th>\n",
              "    </tr>\n",
              "  </thead>\n",
              "  <tbody>\n",
              "    <tr>\n",
              "      <th>0</th>\n",
              "      <td>0.0</td>\n",
              "      <td>0.0</td>\n",
              "      <td>0.000523</td>\n",
              "    </tr>\n",
              "    <tr>\n",
              "      <th>1</th>\n",
              "      <td>0.0</td>\n",
              "      <td>1.0</td>\n",
              "      <td>0.005391</td>\n",
              "    </tr>\n",
              "    <tr>\n",
              "      <th>2</th>\n",
              "      <td>0.0</td>\n",
              "      <td>2.0</td>\n",
              "      <td>0.029176</td>\n",
              "    </tr>\n",
              "    <tr>\n",
              "      <th>3</th>\n",
              "      <td>1.0</td>\n",
              "      <td>0.0</td>\n",
              "      <td>0.000000</td>\n",
              "    </tr>\n",
              "    <tr>\n",
              "      <th>4</th>\n",
              "      <td>1.0</td>\n",
              "      <td>1.0</td>\n",
              "      <td>0.004861</td>\n",
              "    </tr>\n",
              "    <tr>\n",
              "      <th>5</th>\n",
              "      <td>1.0</td>\n",
              "      <td>2.0</td>\n",
              "      <td>0.028601</td>\n",
              "    </tr>\n",
              "    <tr>\n",
              "      <th>6</th>\n",
              "      <td>2.0</td>\n",
              "      <td>0.0</td>\n",
              "      <td>0.000995</td>\n",
              "    </tr>\n",
              "    <tr>\n",
              "      <th>7</th>\n",
              "      <td>2.0</td>\n",
              "      <td>1.0</td>\n",
              "      <td>0.005863</td>\n",
              "    </tr>\n",
              "    <tr>\n",
              "      <th>8</th>\n",
              "      <td>2.0</td>\n",
              "      <td>2.0</td>\n",
              "      <td>0.029635</td>\n",
              "    </tr>\n",
              "    <tr>\n",
              "      <th>9</th>\n",
              "      <td>3.0</td>\n",
              "      <td>0.0</td>\n",
              "      <td>0.000203</td>\n",
              "    </tr>\n",
              "    <tr>\n",
              "      <th>10</th>\n",
              "      <td>3.0</td>\n",
              "      <td>1.0</td>\n",
              "      <td>0.005078</td>\n",
              "    </tr>\n",
              "    <tr>\n",
              "      <th>11</th>\n",
              "      <td>3.0</td>\n",
              "      <td>2.0</td>\n",
              "      <td>0.028774</td>\n",
              "    </tr>\n",
              "    <tr>\n",
              "      <th>12</th>\n",
              "      <td>4.0</td>\n",
              "      <td>0.0</td>\n",
              "      <td>0.001541</td>\n",
              "    </tr>\n",
              "    <tr>\n",
              "      <th>13</th>\n",
              "      <td>4.0</td>\n",
              "      <td>1.0</td>\n",
              "      <td>0.006410</td>\n",
              "    </tr>\n",
              "    <tr>\n",
              "      <th>14</th>\n",
              "      <td>4.0</td>\n",
              "      <td>2.0</td>\n",
              "      <td>0.030229</td>\n",
              "    </tr>\n",
              "  </tbody>\n",
              "</table>\n",
              "</div>\n",
              "    <div class=\"colab-df-buttons\">\n",
              "\n",
              "  <div class=\"colab-df-container\">\n",
              "    <button class=\"colab-df-convert\" onclick=\"convertToInteractive('df-3ce04e65-09e4-49df-952e-418e5ac4dcd1')\"\n",
              "            title=\"Convert this dataframe to an interactive table.\"\n",
              "            style=\"display:none;\">\n",
              "\n",
              "  <svg xmlns=\"http://www.w3.org/2000/svg\" height=\"24px\" viewBox=\"0 -960 960 960\">\n",
              "    <path d=\"M120-120v-720h720v720H120Zm60-500h600v-160H180v160Zm220 220h160v-160H400v160Zm0 220h160v-160H400v160ZM180-400h160v-160H180v160Zm440 0h160v-160H620v160ZM180-180h160v-160H180v160Zm440 0h160v-160H620v160Z\"/>\n",
              "  </svg>\n",
              "    </button>\n",
              "\n",
              "  <style>\n",
              "    .colab-df-container {\n",
              "      display:flex;\n",
              "      gap: 12px;\n",
              "    }\n",
              "\n",
              "    .colab-df-convert {\n",
              "      background-color: #E8F0FE;\n",
              "      border: none;\n",
              "      border-radius: 50%;\n",
              "      cursor: pointer;\n",
              "      display: none;\n",
              "      fill: #1967D2;\n",
              "      height: 32px;\n",
              "      padding: 0 0 0 0;\n",
              "      width: 32px;\n",
              "    }\n",
              "\n",
              "    .colab-df-convert:hover {\n",
              "      background-color: #E2EBFA;\n",
              "      box-shadow: 0px 1px 2px rgba(60, 64, 67, 0.3), 0px 1px 3px 1px rgba(60, 64, 67, 0.15);\n",
              "      fill: #174EA6;\n",
              "    }\n",
              "\n",
              "    .colab-df-buttons div {\n",
              "      margin-bottom: 4px;\n",
              "    }\n",
              "\n",
              "    [theme=dark] .colab-df-convert {\n",
              "      background-color: #3B4455;\n",
              "      fill: #D2E3FC;\n",
              "    }\n",
              "\n",
              "    [theme=dark] .colab-df-convert:hover {\n",
              "      background-color: #434B5C;\n",
              "      box-shadow: 0px 1px 3px 1px rgba(0, 0, 0, 0.15);\n",
              "      filter: drop-shadow(0px 1px 2px rgba(0, 0, 0, 0.3));\n",
              "      fill: #FFFFFF;\n",
              "    }\n",
              "  </style>\n",
              "\n",
              "    <script>\n",
              "      const buttonEl =\n",
              "        document.querySelector('#df-3ce04e65-09e4-49df-952e-418e5ac4dcd1 button.colab-df-convert');\n",
              "      buttonEl.style.display =\n",
              "        google.colab.kernel.accessAllowed ? 'block' : 'none';\n",
              "\n",
              "      async function convertToInteractive(key) {\n",
              "        const element = document.querySelector('#df-3ce04e65-09e4-49df-952e-418e5ac4dcd1');\n",
              "        const dataTable =\n",
              "          await google.colab.kernel.invokeFunction('convertToInteractive',\n",
              "                                                    [key], {});\n",
              "        if (!dataTable) return;\n",
              "\n",
              "        const docLinkHtml = 'Like what you see? Visit the ' +\n",
              "          '<a target=\"_blank\" href=https://colab.research.google.com/notebooks/data_table.ipynb>data table notebook</a>'\n",
              "          + ' to learn more about interactive tables.';\n",
              "        element.innerHTML = '';\n",
              "        dataTable['output_type'] = 'display_data';\n",
              "        await google.colab.output.renderOutput(dataTable, element);\n",
              "        const docLink = document.createElement('div');\n",
              "        docLink.innerHTML = docLinkHtml;\n",
              "        element.appendChild(docLink);\n",
              "      }\n",
              "    </script>\n",
              "  </div>\n",
              "\n",
              "\n",
              "<div id=\"df-91c00b72-99cf-4e12-8489-dd6e3d410a0d\">\n",
              "  <button class=\"colab-df-quickchart\" onclick=\"quickchart('df-91c00b72-99cf-4e12-8489-dd6e3d410a0d')\"\n",
              "            title=\"Suggest charts.\"\n",
              "            style=\"display:none;\">\n",
              "\n",
              "<svg xmlns=\"http://www.w3.org/2000/svg\" height=\"24px\"viewBox=\"0 0 24 24\"\n",
              "     width=\"24px\">\n",
              "    <g>\n",
              "        <path d=\"M19 3H5c-1.1 0-2 .9-2 2v14c0 1.1.9 2 2 2h14c1.1 0 2-.9 2-2V5c0-1.1-.9-2-2-2zM9 17H7v-7h2v7zm4 0h-2V7h2v10zm4 0h-2v-4h2v4z\"/>\n",
              "    </g>\n",
              "</svg>\n",
              "  </button>\n",
              "\n",
              "<style>\n",
              "  .colab-df-quickchart {\n",
              "    background-color: #E8F0FE;\n",
              "    border: none;\n",
              "    border-radius: 50%;\n",
              "    cursor: pointer;\n",
              "    display: none;\n",
              "    fill: #1967D2;\n",
              "    height: 32px;\n",
              "    padding: 0 0 0 0;\n",
              "    width: 32px;\n",
              "  }\n",
              "\n",
              "  .colab-df-quickchart:hover {\n",
              "    background-color: #E2EBFA;\n",
              "    box-shadow: 0px 1px 2px rgba(60, 64, 67, 0.3), 0px 1px 3px 1px rgba(60, 64, 67, 0.15);\n",
              "    fill: #174EA6;\n",
              "  }\n",
              "\n",
              "  [theme=dark] .colab-df-quickchart {\n",
              "    background-color: #3B4455;\n",
              "    fill: #D2E3FC;\n",
              "  }\n",
              "\n",
              "  [theme=dark] .colab-df-quickchart:hover {\n",
              "    background-color: #434B5C;\n",
              "    box-shadow: 0px 1px 3px 1px rgba(0, 0, 0, 0.15);\n",
              "    filter: drop-shadow(0px 1px 2px rgba(0, 0, 0, 0.3));\n",
              "    fill: #FFFFFF;\n",
              "  }\n",
              "</style>\n",
              "\n",
              "  <script>\n",
              "    async function quickchart(key) {\n",
              "      const charts = await google.colab.kernel.invokeFunction(\n",
              "          'suggestCharts', [key], {});\n",
              "    }\n",
              "    (() => {\n",
              "      let quickchartButtonEl =\n",
              "        document.querySelector('#df-91c00b72-99cf-4e12-8489-dd6e3d410a0d button');\n",
              "      quickchartButtonEl.style.display =\n",
              "        google.colab.kernel.accessAllowed ? 'block' : 'none';\n",
              "    })();\n",
              "  </script>\n",
              "</div>\n",
              "    </div>\n",
              "  </div>\n"
            ]
          },
          "metadata": {},
          "execution_count": 44
        }
      ]
    },
    {
      "cell_type": "code",
      "source": [
        "strong_corr = np.genfromtxt(\"./gdrive/MyDrive/results_bert_1/correlation_rtd.csv\", delimiter=\",\")\n",
        "strong_corr"
      ],
      "metadata": {
        "colab": {
          "base_uri": "https://localhost:8080/"
        },
        "id": "1tCLT5xhBsOP",
        "outputId": "e4e77458-6829-41c8-8187-d308c534bad2"
      },
      "execution_count": null,
      "outputs": [
        {
          "output_type": "execute_result",
          "data": {
            "text/plain": [
              "array([[1.00000000e+00, 4.64429027e-02, 2.99832934e-01, 3.77925146e-02,\n",
              "        3.29906056e-01],\n",
              "       [4.64429027e-02, 1.00000000e+00, 1.31877227e-01, 6.40578938e-02,\n",
              "        7.35732133e-04],\n",
              "       [2.99832934e-01, 1.31877227e-01, 1.00000000e+00, 4.11294023e-02,\n",
              "        3.27347703e-01],\n",
              "       [3.77925146e-02, 6.40578938e-02, 4.11294023e-02, 1.00000000e+00,\n",
              "        0.00000000e+00],\n",
              "       [3.29906056e-01, 7.35732133e-04, 3.27347703e-01, 0.00000000e+00,\n",
              "        1.00000000e+00]])"
            ]
          },
          "metadata": {},
          "execution_count": 35
        }
      ]
    },
    {
      "cell_type": "code",
      "source": [
        "weak_corr = np.zeros((3, 3))\n",
        "for i in range(3):\n",
        "    for j in range(3):\n",
        "        weak_corr[i, j] = rtd.rtd(weak_attention_weights[i], weak_attention_weights[j])\n",
        "np.savetxt(\"./gdrive/MyDrive/ens_predictions/weak_rtd_corr\" + \".csv\", weak_corr, delimiter=\",\")"
      ],
      "metadata": {
        "id": "omhadnk-CFM9"
      },
      "execution_count": null,
      "outputs": []
    },
    {
      "cell_type": "code",
      "source": [
        "weak_corr = np.genfromtxt(\"./gdrive/MyDrive/ens_predictions/weak_rtd_corr.csv\", delimiter=\",\")\n",
        "weak_corr /= weak_corr.max()\n",
        "weak_corr = 1 - weak_corr\n",
        "weak_corr"
      ],
      "metadata": {
        "colab": {
          "base_uri": "https://localhost:8080/"
        },
        "id": "VSqkisqSDRj6",
        "outputId": "b4deb9bf-8f90-443d-e66d-184edf43d43e"
      },
      "execution_count": null,
      "outputs": [
        {
          "output_type": "execute_result",
          "data": {
            "text/plain": [
              "array([[1.        , 0.85944772, 0.06616384],\n",
              "       [0.8670433 , 1.        , 0.        ],\n",
              "       [0.0730456 , 0.08975833, 1.        ]])"
            ]
          },
          "metadata": {},
          "execution_count": 40
        }
      ]
    },
    {
      "cell_type": "code",
      "source": [
        "total_corr_matrix = np.zeros((8, 8))\n",
        "for i in range(8):\n",
        "    for j in range(8):\n",
        "        if i < 5 and j < 5:\n",
        "            total_corr_matrix[i, j] = strong_corr[i, j]\n",
        "        elif i >= 5 and j >= 5:\n",
        "            total_corr_matrix[i, j] = weak_corr[i - 5, j - 5]\n",
        "        else:\n",
        "            if i >= 5:\n",
        "                corr_coef = ws_corr_df[np.logical_and(ws_corr_df.strong == j, ws_corr_df.weak == i - 5)].values[0][2]\n",
        "                total_corr_matrix[i, j] = corr_coef\n",
        "            else:\n",
        "                corr_coef = ws_corr_df[np.logical_and(ws_corr_df.strong == i, ws_corr_df.weak == j - 5)].values[0][2]\n",
        "                total_corr_matrix[i, j] = corr_coef\n",
        "total_corr_matrix"
      ],
      "metadata": {
        "colab": {
          "base_uri": "https://localhost:8080/"
        },
        "id": "QD3_KYA4De_Y",
        "outputId": "f85092ff-a76f-43db-b5e7-9b0684099aa6"
      },
      "execution_count": null,
      "outputs": [
        {
          "output_type": "execute_result",
          "data": {
            "text/plain": [
              "array([[1.00000000e+00, 4.64429027e-02, 2.99832934e-01, 3.77925146e-02,\n",
              "        3.29906056e-01, 5.22743616e-04, 5.39097975e-03, 2.91757958e-02],\n",
              "       [4.64429027e-02, 1.00000000e+00, 1.31877227e-01, 6.40578938e-02,\n",
              "        7.35732133e-04, 0.00000000e+00, 4.86083828e-03, 2.86009713e-02],\n",
              "       [2.99832934e-01, 1.31877227e-01, 1.00000000e+00, 4.11294023e-02,\n",
              "        3.27347703e-01, 9.95255891e-04, 5.86349202e-03, 2.96350823e-02],\n",
              "       [3.77925146e-02, 6.40578938e-02, 4.11294023e-02, 1.00000000e+00,\n",
              "        0.00000000e+00, 2.02706398e-04, 5.07825650e-03, 2.87742241e-02],\n",
              "       [3.29906056e-01, 7.35732133e-04, 3.27347703e-01, 0.00000000e+00,\n",
              "        1.00000000e+00, 1.54136483e-03, 6.40960097e-03, 3.02286786e-02],\n",
              "       [5.22743616e-04, 0.00000000e+00, 9.95255891e-04, 2.02706398e-04,\n",
              "        1.54136483e-03, 1.00000000e+00, 8.59447718e-01, 6.61638371e-02],\n",
              "       [5.39097975e-03, 4.86083828e-03, 5.86349202e-03, 5.07825650e-03,\n",
              "        6.40960097e-03, 8.67043298e-01, 1.00000000e+00, 0.00000000e+00],\n",
              "       [2.91757958e-02, 2.86009713e-02, 2.96350823e-02, 2.87742241e-02,\n",
              "        3.02286786e-02, 7.30456047e-02, 8.97583317e-02, 1.00000000e+00]])"
            ]
          },
          "metadata": {},
          "execution_count": 46
        }
      ]
    },
    {
      "cell_type": "code",
      "source": [
        "def calculate_optimal_weights_output(corr_matrix):\n",
        "    P = 2 * corr_matrix\n",
        "    q = np.zeros_like(corr_matrix[:, :1])\n",
        "    A = np.ones((1, corr_matrix.shape[0]))\n",
        "    b = np.ones(1)\n",
        "    lb = np.zeros(corr_matrix.shape[0])\n",
        "    ub = np.ones(corr_matrix.shape[0])\n",
        "    x_sol = solve_qp(P, q, A=A, b=b, lb=lb, ub=ub, initvals=np.array([0.125] * 8), solver='cvxopt', verbose=True) #, kktsolver='ldl', options={'kktreg':1e-3})\n",
        "    return x_sol\n",
        "\n",
        "def weighted_prediction(single_predictions, weights):\n",
        "    weights = weights / weights.sum()\n",
        "    return np.vstack((np.dot(weights, np.array(single_predictions)[:, :, 0]), np.dot(weights, np.array(single_predictions)[:, :, 1]))).T\n",
        "\n",
        "ans = []\n",
        "weights = calculate_optimal_weights_output(total_corr_matrix)\n",
        "all_predictions = np.vstack([single_predictions, weak_single_predictions])\n",
        "weighted_predictions = weighted_prediction(all_predictions, weights)\n",
        "print(round(accuracy_score(np.argmax(weighted_predictions, axis=1), true_labels), 5))"
      ],
      "metadata": {
        "colab": {
          "base_uri": "https://localhost:8080/"
        },
        "id": "ESl4xyylFji_",
        "outputId": "c8ba1141-38d9-47d8-9ca4-9f51ee77f656"
      },
      "execution_count": null,
      "outputs": [
        {
          "output_type": "stream",
          "name": "stdout",
          "text": [
            "     pcost       dcost       gap    pres   dres\n",
            " 0:  2.0270e-01 -7.7973e+00  2e+01  9e-01  1e+00\n",
            " 1:  1.9540e-01 -6.8771e-01  9e-01  1e-16  3e-16\n",
            " 2:  1.9402e-01  1.6103e-01  3e-02  1e-16  2e-16\n",
            " 3:  1.9337e-01  1.9183e-01  2e-03  2e-16  1e-16\n",
            " 4:  1.9335e-01  1.9332e-01  3e-05  2e-16  9e-17\n",
            " 5:  1.9335e-01  1.9334e-01  3e-07  2e-16  1e-16\n",
            " 6:  1.9335e-01  1.9335e-01  3e-09  1e-16  1e-16\n",
            "Optimal solution found.\n",
            "0.9356\n"
          ]
        }
      ]
    },
    {
      "cell_type": "code",
      "source": [
        "print(weights)"
      ],
      "metadata": {
        "colab": {
          "base_uri": "https://localhost:8080/"
        },
        "id": "i32iehNpGKRT",
        "outputId": "c22315c4-9ff0-4a98-be16-261c951eaf12"
      },
      "execution_count": null,
      "outputs": [
        {
          "output_type": "stream",
          "name": "stdout",
          "text": [
            "[0.10735386 0.16095129 0.08712146 0.170416   0.12382564 0.11747113\n",
            " 0.07367309 0.15918752]\n"
          ]
        }
      ]
    },
    {
      "cell_type": "code",
      "source": [],
      "metadata": {
        "id": "PaNzQ1jOHJoM"
      },
      "execution_count": null,
      "outputs": []
    }
  ]
}