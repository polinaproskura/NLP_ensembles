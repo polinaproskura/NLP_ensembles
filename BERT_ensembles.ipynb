{
  "nbformat": 4,
  "nbformat_minor": 0,
  "metadata": {
    "colab": {
      "provenance": [],
      "include_colab_link": true
    },
    "kernelspec": {
      "name": "python3",
      "display_name": "Python 3"
    },
    "language_info": {
      "name": "python"
    }
  },
  "cells": [
    {
      "cell_type": "markdown",
      "metadata": {
        "id": "view-in-github",
        "colab_type": "text"
      },
      "source": [
        "<a href=\"https://colab.research.google.com/github/polinaproskura/NLP_ensembles/blob/main/BERT_ensembles.ipynb\" target=\"_parent\"><img src=\"https://colab.research.google.com/assets/colab-badge.svg\" alt=\"Open In Colab\"/></a>"
      ]
    },
    {
      "cell_type": "markdown",
      "source": [
        "# Загрузка моделей и данных"
      ],
      "metadata": {
        "id": "IwkNfJzzpTxb"
      }
    },
    {
      "cell_type": "code",
      "execution_count": null,
      "metadata": {
        "id": "NbWY7sgvRUnk"
      },
      "outputs": [],
      "source": [
        "from IPython.display import clear_output\n",
        "! pip install datasets\n",
        "! pip install transformers[torch]\n",
        "! pip install bayesian-optimization\n",
        "! pip install cvxopt\n",
        "! pip install qpsolvers==3.4.0\n",
        "! pip install accelerate==0.20.1 -U\n",
        "! pip install git+https://github.com/simonzhang00/ripser-plusplus.git\n",
        "! pip install git+https://github.com/IlyaTrofimov/RTD.git\n",
        "clear_output()"
      ]
    },
    {
      "cell_type": "code",
      "source": [
        "from transformers import AutoTokenizer, DataCollatorWithPadding, AutoModelForSequenceClassification, TrainingArguments, Trainer, set_seed\n",
        "from sklearn.metrics import accuracy_score\n",
        "from datasets import load_dataset\n",
        "import numpy as np\n",
        "from tqdm import tqdm\n",
        "import warnings\n",
        "warnings.filterwarnings(\"ignore\")"
      ],
      "metadata": {
        "id": "FL9mIe8DRoPA"
      },
      "execution_count": null,
      "outputs": []
    },
    {
      "cell_type": "code",
      "source": [
        "from google.colab import drive\n",
        "drive.mount('/content/gdrive')"
      ],
      "metadata": {
        "colab": {
          "base_uri": "https://localhost:8080/"
        },
        "id": "_VgX3OIjSEhq",
        "outputId": "ddb19e35-5b48-4b39-9e6c-b97946b787a2"
      },
      "execution_count": null,
      "outputs": [
        {
          "output_type": "stream",
          "name": "stdout",
          "text": [
            "Mounted at /content/gdrive\n"
          ]
        }
      ]
    },
    {
      "cell_type": "code",
      "source": [
        "# load the data\n",
        "set_seed(42)\n",
        "imdb = load_dataset(\"imdb\")\n",
        "tokenizer = AutoTokenizer.from_pretrained(\"distilbert-base-uncased\")\n",
        "def preprocess_function(examples):\n",
        "    return tokenizer(examples[\"text\"], truncation=True)\n",
        "tokenized_imdb = imdb.map(preprocess_function, batched=True)\n",
        "data_collator = DataCollatorWithPadding(tokenizer=tokenizer)\n",
        "clear_output()"
      ],
      "metadata": {
        "id": "DQR41fuASJLN"
      },
      "execution_count": null,
      "outputs": []
    },
    {
      "cell_type": "code",
      "source": [
        "def load_trainer(number, seed):\n",
        "    model = AutoModelForSequenceClassification.from_pretrained(\"gdrive/MyDrive/results_bert_\" + str(i + 1) + \"/\")\n",
        "    training_args = TrainingArguments(\n",
        "        output_dir=\"./results\",\n",
        "        learning_rate=2e-5,\n",
        "        per_device_train_batch_size=16,\n",
        "        per_device_eval_batch_size=16,\n",
        "        num_train_epochs=5,\n",
        "        weight_decay=0.01,\n",
        "        seed=seed,\n",
        "    )\n",
        "\n",
        "    trainer = Trainer(\n",
        "        model=model,\n",
        "        args=training_args,\n",
        "        train_dataset=tokenized_imdb[\"train\"],\n",
        "        eval_dataset=tokenized_imdb[\"test\"],\n",
        "        tokenizer=tokenizer,\n",
        "        data_collator=data_collator,\n",
        "    )\n",
        "    return trainer, model"
      ],
      "metadata": {
        "id": "EcCSiNvvWhRh"
      },
      "execution_count": null,
      "outputs": []
    },
    {
      "cell_type": "code",
      "source": [
        "seeds = [42, 109, 121, 122, 123]\n",
        "trainers = []\n",
        "models = []\n",
        "for i in range(5):\n",
        "    t, m = load_trainer(i, seeds[i])\n",
        "    trainers.append(t)\n",
        "    models.append(m)"
      ],
      "metadata": {
        "id": "mYbDpOU6V4uS"
      },
      "execution_count": null,
      "outputs": []
    },
    {
      "cell_type": "code",
      "source": [
        "dataset = tokenized_imdb[\"test\"].train_test_split(test_size=0.5)\n",
        "train, val, test = tokenized_imdb[\"train\"], dataset['train'], dataset['test']"
      ],
      "metadata": {
        "id": "yG3AVV6RgsHg"
      },
      "execution_count": null,
      "outputs": []
    },
    {
      "cell_type": "markdown",
      "source": [
        "## Подсчет корреляции для матрицы корреляции\n",
        "\n"
      ],
      "metadata": {
        "id": "vsRWHPJjXlis"
      }
    },
    {
      "cell_type": "code",
      "source": [
        "def calc_corr(one, two):\n",
        "    norm = (np.linalg.norm(one) * np.linalg.norm(two))\n",
        "    return np.correlate(one.T, two.T)[0] #/ norm\n",
        "\n",
        "def calculate_correlation(first, second):\n",
        "    first_predictions = trainers[first].predict(val)\n",
        "    second_predictions = trainers[second].predict(val)\n",
        "    return calc_corr(first_predictions.predictions[:, 0], second_predictions.predictions[:, 0])\n",
        "\n",
        "def calculate_correlation_precalc(first, second):\n",
        "    return calc_corr(single_predictions[first][:, 0], single_predictions[second][:, 0])"
      ],
      "metadata": {
        "id": "R2QGdEshXH25"
      },
      "execution_count": null,
      "outputs": []
    },
    {
      "cell_type": "code",
      "source": [
        "corr_matrix = np.zeros((5, 5))\n",
        "for i in range(5):\n",
        "    #corr_matrix[i, i] = 1.0\n",
        "    for j in range(i, 5):\n",
        "        current_corr = calculate_correlation(i, j)\n",
        "        print(i, j, current_corr)\n",
        "        corr_matrix[i, j] = current_corr\n",
        "        corr_matrix[j, i] = current_corr\n",
        "corr_matrix /= corr_matrix.max()"
      ],
      "metadata": {
        "colab": {
          "base_uri": "https://localhost:8080/",
          "height": 332
        },
        "id": "BD09v0S4aXMA",
        "outputId": "b9f0b9b5-b95d-440b-e530-f92d8c76e800"
      },
      "execution_count": null,
      "outputs": [
        {
          "output_type": "stream",
          "name": "stderr",
          "text": [
            "You're using a DistilBertTokenizerFast tokenizer. Please note that with a fast tokenizer, using the `__call__` method is faster than using a method to encode the text followed by a call to the `pad` method to get a padded encoding.\n"
          ]
        },
        {
          "output_type": "display_data",
          "data": {
            "text/plain": [
              "<IPython.core.display.HTML object>"
            ],
            "text/html": []
          },
          "metadata": {}
        },
        {
          "output_type": "display_data",
          "data": {
            "text/plain": [
              "<IPython.core.display.HTML object>"
            ],
            "text/html": []
          },
          "metadata": {}
        },
        {
          "output_type": "stream",
          "name": "stdout",
          "text": [
            "0 0 145116.27\n"
          ]
        },
        {
          "output_type": "display_data",
          "data": {
            "text/plain": [
              "<IPython.core.display.HTML object>"
            ],
            "text/html": []
          },
          "metadata": {}
        },
        {
          "output_type": "display_data",
          "data": {
            "text/plain": [
              "<IPython.core.display.HTML object>"
            ],
            "text/html": []
          },
          "metadata": {}
        },
        {
          "output_type": "stream",
          "name": "stdout",
          "text": [
            "0 1 150627.44\n"
          ]
        },
        {
          "output_type": "display_data",
          "data": {
            "text/plain": [
              "<IPython.core.display.HTML object>"
            ],
            "text/html": []
          },
          "metadata": {}
        },
        {
          "output_type": "display_data",
          "data": {
            "text/plain": [
              "<IPython.core.display.HTML object>"
            ],
            "text/html": []
          },
          "metadata": {}
        },
        {
          "output_type": "stream",
          "name": "stdout",
          "text": [
            "0 2 134623.42\n"
          ]
        },
        {
          "output_type": "display_data",
          "data": {
            "text/plain": [
              "<IPython.core.display.HTML object>"
            ],
            "text/html": []
          },
          "metadata": {}
        },
        {
          "output_type": "display_data",
          "data": {
            "text/plain": [
              "<IPython.core.display.HTML object>"
            ],
            "text/html": []
          },
          "metadata": {}
        },
        {
          "output_type": "stream",
          "name": "stdout",
          "text": [
            "0 3 143579.44\n"
          ]
        },
        {
          "output_type": "display_data",
          "data": {
            "text/plain": [
              "<IPython.core.display.HTML object>"
            ],
            "text/html": []
          },
          "metadata": {}
        },
        {
          "output_type": "display_data",
          "data": {
            "text/plain": [
              "<IPython.core.display.HTML object>"
            ],
            "text/html": []
          },
          "metadata": {}
        },
        {
          "output_type": "stream",
          "name": "stdout",
          "text": [
            "0 4 136262.28\n"
          ]
        },
        {
          "output_type": "display_data",
          "data": {
            "text/plain": [
              "<IPython.core.display.HTML object>"
            ],
            "text/html": []
          },
          "metadata": {}
        },
        {
          "output_type": "display_data",
          "data": {
            "text/plain": [
              "<IPython.core.display.HTML object>"
            ],
            "text/html": []
          },
          "metadata": {}
        },
        {
          "output_type": "stream",
          "name": "stdout",
          "text": [
            "1 1 162910.16\n"
          ]
        },
        {
          "output_type": "display_data",
          "data": {
            "text/plain": [
              "<IPython.core.display.HTML object>"
            ],
            "text/html": []
          },
          "metadata": {}
        },
        {
          "output_type": "display_data",
          "data": {
            "text/plain": [
              "<IPython.core.display.HTML object>"
            ],
            "text/html": []
          },
          "metadata": {}
        },
        {
          "output_type": "stream",
          "name": "stdout",
          "text": [
            "1 2 142640.44\n"
          ]
        },
        {
          "output_type": "display_data",
          "data": {
            "text/plain": [
              "<IPython.core.display.HTML object>"
            ],
            "text/html": []
          },
          "metadata": {}
        },
        {
          "output_type": "display_data",
          "data": {
            "text/plain": [
              "<IPython.core.display.HTML object>"
            ],
            "text/html": []
          },
          "metadata": {}
        },
        {
          "output_type": "stream",
          "name": "stdout",
          "text": [
            "1 3 152254.0\n"
          ]
        },
        {
          "output_type": "display_data",
          "data": {
            "text/plain": [
              "<IPython.core.display.HTML object>"
            ],
            "text/html": []
          },
          "metadata": {}
        },
        {
          "output_type": "display_data",
          "data": {
            "text/plain": [
              "<IPython.core.display.HTML object>"
            ],
            "text/html": []
          },
          "metadata": {}
        },
        {
          "output_type": "stream",
          "name": "stdout",
          "text": [
            "1 4 144533.56\n"
          ]
        },
        {
          "output_type": "display_data",
          "data": {
            "text/plain": [
              "<IPython.core.display.HTML object>"
            ],
            "text/html": []
          },
          "metadata": {}
        },
        {
          "output_type": "display_data",
          "data": {
            "text/plain": [
              "<IPython.core.display.HTML object>"
            ],
            "text/html": []
          },
          "metadata": {}
        },
        {
          "output_type": "stream",
          "name": "stdout",
          "text": [
            "2 2 132729.94\n"
          ]
        },
        {
          "output_type": "display_data",
          "data": {
            "text/plain": [
              "<IPython.core.display.HTML object>"
            ],
            "text/html": []
          },
          "metadata": {}
        },
        {
          "output_type": "display_data",
          "data": {
            "text/plain": [
              "<IPython.core.display.HTML object>"
            ],
            "text/html": []
          },
          "metadata": {}
        },
        {
          "output_type": "stream",
          "name": "stdout",
          "text": [
            "2 3 139508.92\n"
          ]
        },
        {
          "output_type": "display_data",
          "data": {
            "text/plain": [
              "<IPython.core.display.HTML object>"
            ],
            "text/html": []
          },
          "metadata": {}
        },
        {
          "output_type": "display_data",
          "data": {
            "text/plain": [
              "<IPython.core.display.HTML object>"
            ],
            "text/html": []
          },
          "metadata": {}
        },
        {
          "output_type": "stream",
          "name": "stdout",
          "text": [
            "2 4 130636.92\n"
          ]
        },
        {
          "output_type": "display_data",
          "data": {
            "text/plain": [
              "<IPython.core.display.HTML object>"
            ],
            "text/html": []
          },
          "metadata": {}
        },
        {
          "output_type": "display_data",
          "data": {
            "text/plain": [
              "<IPython.core.display.HTML object>"
            ],
            "text/html": []
          },
          "metadata": {}
        },
        {
          "output_type": "stream",
          "name": "stdout",
          "text": [
            "3 3 151301.08\n"
          ]
        },
        {
          "output_type": "display_data",
          "data": {
            "text/plain": [
              "<IPython.core.display.HTML object>"
            ],
            "text/html": []
          },
          "metadata": {}
        },
        {
          "output_type": "display_data",
          "data": {
            "text/plain": [
              "<IPython.core.display.HTML object>"
            ],
            "text/html": []
          },
          "metadata": {}
        },
        {
          "output_type": "stream",
          "name": "stdout",
          "text": [
            "3 4 139567.05\n"
          ]
        },
        {
          "output_type": "display_data",
          "data": {
            "text/plain": [
              "<IPython.core.display.HTML object>"
            ],
            "text/html": []
          },
          "metadata": {}
        },
        {
          "output_type": "display_data",
          "data": {
            "text/plain": [
              "<IPython.core.display.HTML object>"
            ],
            "text/html": []
          },
          "metadata": {}
        },
        {
          "output_type": "stream",
          "name": "stdout",
          "text": [
            "4 4 136744.81\n"
          ]
        }
      ]
    },
    {
      "cell_type": "code",
      "source": [
        "corr_matrix"
      ],
      "metadata": {
        "colab": {
          "base_uri": "https://localhost:8080/"
        },
        "id": "2hGDU3W9pw2t",
        "outputId": "0dcbd27e-dade-46b7-dd92-a7400501f770"
      },
      "execution_count": null,
      "outputs": [
        {
          "output_type": "execute_result",
          "data": {
            "text/plain": [
              "array([[0.89077482, 0.92460434, 0.82636605, 0.88134123, 0.83642594],\n",
              "       [0.92460434, 1.        , 0.87557732, 0.93458875, 0.88719799],\n",
              "       [0.82636605, 0.87557732, 0.81474317, 0.85635497, 0.8018955 ],\n",
              "       [0.88134123, 0.93458875, 0.85635497, 0.92873938, 0.85671176],\n",
              "       [0.83642594, 0.88719799, 0.8018955 , 0.85671176, 0.83938789]])"
            ]
          },
          "metadata": {},
          "execution_count": 10
        }
      ]
    },
    {
      "cell_type": "code",
      "source": [
        "np.savetxt(\"./gdrive/MyDrive/results_bert_1/correlation_big.csv\", corr_matrix, delimiter=\",\")"
      ],
      "metadata": {
        "id": "RzoHOpfbpyhu"
      },
      "execution_count": null,
      "outputs": []
    },
    {
      "cell_type": "markdown",
      "source": [
        "# Результаты предсказаний отдельных моделей"
      ],
      "metadata": {
        "id": "0R2XNGuQsNmT"
      }
    },
    {
      "cell_type": "code",
      "source": [
        "single_predictions = []\n",
        "true_labels = []\n",
        "for i in range(5):\n",
        "    curr_prediction = trainers[i].predict(val)\n",
        "    single_predictions.append(curr_prediction.predictions)\n",
        "    true_labels = curr_prediction.label_ids"
      ],
      "metadata": {
        "colab": {
          "base_uri": "https://localhost:8080/",
          "height": 17
        },
        "id": "o-1kBGMCKCCZ",
        "outputId": "4d854114-958e-4e42-e7de-b7ae2a2e10d9"
      },
      "execution_count": null,
      "outputs": [
        {
          "output_type": "display_data",
          "data": {
            "text/plain": [
              "<IPython.core.display.HTML object>"
            ],
            "text/html": []
          },
          "metadata": {}
        },
        {
          "output_type": "display_data",
          "data": {
            "text/plain": [
              "<IPython.core.display.HTML object>"
            ],
            "text/html": []
          },
          "metadata": {}
        },
        {
          "output_type": "display_data",
          "data": {
            "text/plain": [
              "<IPython.core.display.HTML object>"
            ],
            "text/html": []
          },
          "metadata": {}
        },
        {
          "output_type": "display_data",
          "data": {
            "text/plain": [
              "<IPython.core.display.HTML object>"
            ],
            "text/html": []
          },
          "metadata": {}
        },
        {
          "output_type": "display_data",
          "data": {
            "text/plain": [
              "<IPython.core.display.HTML object>"
            ],
            "text/html": []
          },
          "metadata": {}
        }
      ]
    },
    {
      "cell_type": "code",
      "source": [
        "#! mkdir ./gdrive/MyDrive/ens_predictions\n",
        "np.savetxt(\"./gdrive/MyDrive/ens_predictions/true_labels.csv\", true_labels, delimiter=\",\")"
      ],
      "metadata": {
        "id": "WSXc2Sh6PS4R"
      },
      "execution_count": null,
      "outputs": []
    },
    {
      "cell_type": "code",
      "source": [
        "for i in range(5):\n",
        "    np.savetxt(\"./gdrive/MyDrive/ens_predictions/prediction_\" + str(i + 1) + \".csv\", single_predictions[i], delimiter=\",\")"
      ],
      "metadata": {
        "id": "oPuXIHOGPkgl"
      },
      "execution_count": null,
      "outputs": []
    },
    {
      "cell_type": "markdown",
      "source": [
        "# Чтение данных: матрицы корреляции и предсказаний\n",
        "\n"
      ],
      "metadata": {
        "id": "aKdXwvTJq0W3"
      }
    },
    {
      "cell_type": "code",
      "source": [
        "import numpy as np\n",
        "corr_matrix = np.genfromtxt(\"./gdrive/MyDrive/results_bert_1/correlation_big.csv\", delimiter=',')\n",
        "ln = corr_matrix.shape[0]\n",
        "#corr_matrix[ln - 1, ln - 1] = 1.0"
      ],
      "metadata": {
        "id": "hFUwB5px4nZ2"
      },
      "execution_count": null,
      "outputs": []
    },
    {
      "cell_type": "code",
      "source": [
        "true_labels = np.genfromtxt(\"./gdrive/MyDrive/ens_predictions/true_labels.csv\", delimiter=',')\n",
        "single_predictions = []\n",
        "for i in range(5):\n",
        "    single_predictions.append(np.genfromtxt(\"./gdrive/MyDrive/ens_predictions/prediction_\" + str(i + 1) + \".csv\", delimiter=','))\n",
        "single_predictions = np.array(single_predictions)"
      ],
      "metadata": {
        "id": "zv5cXIqwPbMo"
      },
      "execution_count": null,
      "outputs": []
    },
    {
      "cell_type": "markdown",
      "source": [
        "# Результаты предсказания ансамбля с равными весами"
      ],
      "metadata": {
        "id": "nFg8IONotx_S"
      }
    },
    {
      "cell_type": "code",
      "source": [
        "def accuracy_rejection(N, step, probs, true_labels, predicted_labels):\n",
        "    idx = np.argsort(probs)[::-1]\n",
        "    r_rate = [0]\n",
        "    r_accuracy = [accuracy_score(true_labels, predicted_labels)]\n",
        "    for i in range(step, N, step):\n",
        "        idx = idx[:(N - i)]\n",
        "        r_rate.append(i / N)\n",
        "        r_accuracy.append(accuracy_score(true_labels[idx], predicted_labels[idx]))\n",
        "    return r_rate, r_accuracy"
      ],
      "metadata": {
        "id": "TkAkURCqzMvG"
      },
      "execution_count": null,
      "outputs": []
    },
    {
      "cell_type": "code",
      "source": [
        "arc = []\n",
        "qq_data = []\n",
        "for i in tqdm(range(5)):\n",
        "    sigmoid = 1 / (1 + np.exp(-single_predictions[i]))\n",
        "    predicted_labels = np.argmax(sigmoid, axis=1)\n",
        "    qq_data.append(sigmoid[:, 0])\n",
        "    arc.append(accuracy_rejection(N=len(sigmoid), step=int(len(sigmoid)/10000), probs=np.max(sigmoid, axis=1),\n",
        "                                  true_labels=true_labels, predicted_labels=predicted_labels))"
      ],
      "metadata": {
        "colab": {
          "base_uri": "https://localhost:8080/"
        },
        "id": "d60c1Ai3zbyD",
        "outputId": "555112d3-eb29-47c4-d5c4-c2ce2c548e6b"
      },
      "execution_count": null,
      "outputs": [
        {
          "output_type": "stream",
          "name": "stderr",
          "text": [
            "100%|██████████| 5/5 [01:01<00:00, 12.26s/it]\n"
          ]
        }
      ]
    },
    {
      "cell_type": "code",
      "source": [
        "import matplotlib.pyplot as plt\n",
        "plt.figure(figsize=(10, 10))\n",
        "for i in range(5):\n",
        "    sigmoid_i = 1 / (1 + np.exp(-single_predictions[i]))[:, 0]\n",
        "    inds = np.argsort(sigmoid_i)\n",
        "    for j in range(i, 5):\n",
        "        sigmoid_j = 1 / (1 + np.exp(-single_predictions[j]))[:, 0]\n",
        "        plt.scatter(np.sort(sigmoid_i), np.sort(sigmoid_j), label='{}+{}'.format(i, j))\n",
        "plt.legend()\n",
        "plt.show()"
      ],
      "metadata": {
        "colab": {
          "base_uri": "https://localhost:8080/",
          "height": 830
        },
        "id": "bnK3Tz9awvDb",
        "outputId": "be403b9d-446f-4c1b-95e2-0884db0a41af"
      },
      "execution_count": null,
      "outputs": [
        {
          "output_type": "display_data",
          "data": {
            "text/plain": [
              "<Figure size 1000x1000 with 1 Axes>"
            ],
            "image/png": "[encoded data removed]"
          },
          "metadata": {}
        }
      ]
    },
    {
      "cell_type": "code",
      "source": [
        "ensemble_predictions = np.array(single_predictions).sum(axis=0) / 5.0\n",
        "sigmoid = 1 / (1 + np.exp(-ensemble_predictions))\n",
        "eq_arc = accuracy_rejection(N=len(sigmoid), step=int(len(sigmoid)/10000), probs=np.max(sigmoid, axis=1), true_labels=true_labels, predicted_labels=predicted_labels)\n",
        "\n",
        "\n",
        "def weighted_prediction(single_predictions, weights):\n",
        "    weights = weights / weights.sum()\n",
        "    return np.vstack((np.dot(weights, np.array(single_predictions)[:, :, 0]), np.dot(weights, np.array(single_predictions)[:, :, 1]))).T\n",
        "\n",
        "weights = np.array([0.19009505, 0.19518455, 0.1502149 , 0.23677914, 0.22772636])\n",
        "wp = weighted_prediction(single_predictions, weights)\n",
        "sigmoid = 1 / (1 + np.exp(-wp))\n",
        "wp_arc = accuracy_rejection(N=len(sigmoid), step=int(len(sigmoid)/10000), probs=np.max(sigmoid, axis=1), true_labels=true_labels, predicted_labels=predicted_labels)"
      ],
      "metadata": {
        "id": "M7jWXe2Z6lw5"
      },
      "execution_count": null,
      "outputs": []
    },
    {
      "cell_type": "code",
      "source": [
        "import matplotlib.pyplot as plt\n",
        "plt.figure(figsize=(10, 10))\n",
        "for i in range(len(arc)):\n",
        "    plt.plot(arc[i][0], arc[i][1], color='blue')\n",
        "\n",
        "plt.plot(eq_arc[0], eq_arc[1], color='red', label='Equal weigths')\n",
        "plt.plot(wp_arc[0], wp_arc[1], color='green', label='Optimal weigths')\n",
        "plt.legend()\n",
        "plt.show()\n",
        "#plt.plot(range(len(arc[0])), arc[0])"
      ],
      "metadata": {
        "colab": {
          "base_uri": "https://localhost:8080/",
          "height": 830
        },
        "id": "HSBxZzAB0Qlg",
        "outputId": "b2257e7e-f368-4a10-faee-9b45ba6a81ce"
      },
      "execution_count": null,
      "outputs": [
        {
          "output_type": "display_data",
          "data": {
            "text/plain": [
              "<Figure size 1000x1000 with 1 Axes>"
            ],
            "image/png": "[encoded data removed]"
          },
          "metadata": {}
        }
      ]
    },
    {
      "cell_type": "code",
      "source": [
        "ensemble_predictions = np.array(single_predictions).sum(axis=0) / 5.0\n",
        "ens_acc = accuracy_score(np.argmax(ensemble_predictions, axis=1), true_labels)\n",
        "print('Ensemble accuracy equal weights', ens_acc)"
      ],
      "metadata": {
        "id": "jh9gNz7_PZzv",
        "colab": {
          "base_uri": "https://localhost:8080/"
        },
        "outputId": "2db899d6-4a7a-46d1-d93c-a3e5400040bb"
      },
      "execution_count": null,
      "outputs": [
        {
          "output_type": "stream",
          "name": "stdout",
          "text": [
            "Ensemble accuracy equal weights 0.9364\n"
          ]
        }
      ]
    },
    {
      "cell_type": "code",
      "source": [
        "weights = np.array([0.19009505, 0.19518455, 0.1502149 , 0.23677914, 0.22772636])\n",
        "weighted_predictions = weighted_prediction(single_predictions, weights)\n",
        "wp_ens_acc = accuracy_score(np.argmax(weighted_predictions, axis=1), true_labels)\n",
        "print('Ensemble accuracy optimal weights', wp_ens_acc)"
      ],
      "metadata": {
        "colab": {
          "base_uri": "https://localhost:8080/"
        },
        "id": "Cwa36Em8M3qL",
        "outputId": "48662180-8ff1-4bb8-8256-d93286e3f4df"
      },
      "execution_count": null,
      "outputs": [
        {
          "output_type": "stream",
          "name": "stdout",
          "text": [
            "Ensemble accuracy optimal weights 0.9364\n"
          ]
        }
      ]
    },
    {
      "cell_type": "code",
      "source": [
        "print('Accuracy of single models')\n",
        "for i in range(5):\n",
        "  sng_acc = accuracy_score(np.argmax(single_predictions[i], axis=1), true_labels)\n",
        "  print(sng_acc)"
      ],
      "metadata": {
        "colab": {
          "base_uri": "https://localhost:8080/"
        },
        "id": "NoHMNXvLNVxc",
        "outputId": "22c1d3b6-7f01-4c19-f7bb-b87fc608314f"
      },
      "execution_count": null,
      "outputs": [
        {
          "output_type": "stream",
          "name": "stdout",
          "text": [
            "Accuracy of single models\n",
            "0.93288\n",
            "0.93216\n",
            "0.93392\n",
            "0.93208\n",
            "0.9316\n"
          ]
        }
      ]
    },
    {
      "cell_type": "markdown",
      "source": [
        "## Прямой подсчет апостериорной дисперсии"
      ],
      "metadata": {
        "id": "dpnFcGA7stNT"
      }
    },
    {
      "cell_type": "code",
      "source": [
        "def posterior_variance(predictions, true_labels, classes=2, t=10):\n",
        "    pv = 0.0\n",
        "    for cls in range(classes):\n",
        "        preds = predictions[true_labels == cls]\n",
        "        ps = []\n",
        "        for i in range(t):\n",
        "            inds = np.random.choice(np.arange(len(preds)), t)\n",
        "            picked_preds = preds[inds, :]\n",
        "            p = (picked_preds[:, cls] > picked_preds[:, (cls + 1) % 2]).sum()\n",
        "            p /= float(t)\n",
        "            ps.append(p)\n",
        "        ps = np.array(ps)\n",
        "        p_av = (preds[:, cls] > preds[:, (cls + 1) % 2]).mean()\n",
        "        pv += ((p - p_av) ** 2).sum()\n",
        "    pv /= classes\n",
        "    return pv"
      ],
      "metadata": {
        "id": "NYV6eUppE_33"
      },
      "execution_count": null,
      "outputs": []
    },
    {
      "cell_type": "code",
      "source": [
        "def posterior_expectation(predictions, true_labels, classes=2, t=10):\n",
        "    pe = 0.0\n",
        "    t_len = 100\n",
        "    for i in range(t):\n",
        "        ps = []\n",
        "        for cls in range(classes):\n",
        "            #preds = predictions[true_labels == cls]\n",
        "            inds = np.random.choice(np.arange(len(predictions)), t_len)\n",
        "            picked_preds = predictions[inds, :]\n",
        "            p = picked_preds[:, cls].sum()\n",
        "            p /= t_len\n",
        "            ps.append(p)\n",
        "        ps = max(ps)\n",
        "        pe += (1 - ps)\n",
        "    pe /= float(t)\n",
        "    return pe"
      ],
      "metadata": {
        "id": "PdhdvZ-jWyNq"
      },
      "execution_count": null,
      "outputs": []
    },
    {
      "cell_type": "code",
      "source": [
        "sum_pe = 0.0\n",
        "for i in range(5):\n",
        "    print('Model', str(i + 1))\n",
        "    sigmoid = 1 / (1 + np.exp(-single_predictions[i]))\n",
        "    curr_pe = posterior_expectation(sigmoid, true_labels)\n",
        "    print('PE =', round(curr_pe, 5))\n",
        "    curr_acc = accuracy_score(np.argmax(single_predictions[i], axis=1), true_labels)\n",
        "    print('Accuracy=', curr_acc)\n",
        "    sum_pe += curr_pe\n",
        "sum_pe /= 5.0\n",
        "print('**************')\n",
        "print('Total PE =', round(sum_pe, 5))"
      ],
      "metadata": {
        "colab": {
          "base_uri": "https://localhost:8080/"
        },
        "id": "mYXdSHIXape4",
        "outputId": "a9efe523-daa3-4007-8a4c-45306606c18f"
      },
      "execution_count": null,
      "outputs": [
        {
          "output_type": "stream",
          "name": "stdout",
          "text": [
            "Model 1\n",
            "PE = 0.48905\n",
            "Accuracy= 0.93288\n",
            "Model 2\n",
            "PE = 0.50441\n",
            "Accuracy= 0.93216\n",
            "Model 3\n",
            "PE = 0.4878\n",
            "Accuracy= 0.93392\n",
            "Model 4\n",
            "PE = 0.4412\n",
            "Accuracy= 0.93208\n",
            "Model 5\n",
            "PE = 0.47164\n",
            "Accuracy= 0.9316\n",
            "**************\n",
            "Total PE = 0.47882\n"
          ]
        }
      ]
    },
    {
      "cell_type": "code",
      "source": [
        "sum_pv = 0.0\n",
        "for i in range(5):\n",
        "    print('Model', str(i + 1))\n",
        "    sigmoid = 1 / (1 + np.exp(-single_predictions[i]))\n",
        "    curr_pv = posterior_variance(sigmoid, true_labels)\n",
        "    print('PV =', round(curr_pv, 5))\n",
        "    curr_acc = accuracy_score(np.argmax(single_predictions[i], axis=1), true_labels)\n",
        "    print('Accuracy=', curr_acc)\n",
        "    sum_pv += curr_pv\n",
        "sum_pv /= 5.0\n",
        "print('**************')\n",
        "print('Total PV =', round(sum_pv, 5))"
      ],
      "metadata": {
        "colab": {
          "base_uri": "https://localhost:8080/"
        },
        "id": "BPmJDs9nRBg6",
        "outputId": "e6185c4c-9c6f-4705-f25b-8878f0ff4261"
      },
      "execution_count": null,
      "outputs": [
        {
          "output_type": "stream",
          "name": "stdout",
          "text": [
            "Model 1\n",
            "PV = 0.00166\n",
            "Accuracy= 0.93288\n",
            "Model 2\n",
            "PV = 0.00368\n",
            "Accuracy= 0.93216\n",
            "Model 3\n",
            "PV = 0.00369\n",
            "Accuracy= 0.93392\n",
            "Model 4\n",
            "PV = 0.00109\n",
            "Accuracy= 0.93208\n",
            "Model 5\n",
            "PV = 0.00337\n",
            "Accuracy= 0.9316\n",
            "**************\n",
            "Total PV = 0.0027\n"
          ]
        }
      ]
    },
    {
      "cell_type": "markdown",
      "source": [
        "# Подсчет апостериорной дисперсии через матрицу корреляции"
      ],
      "metadata": {
        "id": "aydk-aJVT_MN"
      }
    },
    {
      "cell_type": "code",
      "source": [
        "weights = np.array([0.19009505, 0.19518455, 0.1502149 , 0.23677914, 0.22772636])\n",
        "\n",
        "def corr_based_posterior_variance(corr_matrix, weights):\n",
        "    weights = np.expand_dims(weights, axis=0)\n",
        "    pv = np.dot(np.dot(weights, corr_matrix), weights.T)\n",
        "    return pv[0][0]\n",
        "\n",
        "print('Equal weights PV', corr_based_posterior_variance(corr_matrix, np.array([1.0, 1.0, 1.0, 1.0, 1.0])/5.0))\n",
        "print('Optimal weights PV', corr_based_posterior_variance(corr_matrix, weights))"
      ],
      "metadata": {
        "colab": {
          "base_uri": "https://localhost:8080/"
        },
        "id": "HRd5suo-ktKX",
        "outputId": "0268542e-874a-4004-fb90-cfaa813a2777"
      },
      "execution_count": null,
      "outputs": [
        {
          "output_type": "stream",
          "name": "stdout",
          "text": [
            "Equal weights PV 0.8734309190744516\n",
            "Optimal weights PV 0.8765992063195246\n"
          ]
        }
      ]
    },
    {
      "cell_type": "markdown",
      "source": [
        "# Оптимизация различными методами"
      ],
      "metadata": {
        "id": "4moDErnRscQL"
      }
    },
    {
      "cell_type": "markdown",
      "source": [
        "# Оптимизация через матрицу корреляции с ограничениями"
      ],
      "metadata": {
        "id": "GFIDaXsmUHns"
      }
    },
    {
      "cell_type": "code",
      "source": [
        "from cvxopt import matrix, solvers\n",
        "from qpsolvers import solve_qp"
      ],
      "metadata": {
        "id": "kpEaA27YUOI9"
      },
      "execution_count": null,
      "outputs": []
    },
    {
      "cell_type": "code",
      "source": [
        "corr_matrix"
      ],
      "metadata": {
        "colab": {
          "base_uri": "https://localhost:8080/"
        },
        "id": "xfMDMUD3tOw2",
        "outputId": "5167b0c0-9b80-4cb1-94ef-5fd119ff0a72"
      },
      "execution_count": null,
      "outputs": [
        {
          "output_type": "execute_result",
          "data": {
            "text/plain": [
              "array([[0.89077482, 0.92460434, 0.82636605, 0.88134123, 0.83642594],\n",
              "       [0.92460434, 1.        , 0.87557732, 0.93458875, 0.88719799],\n",
              "       [0.82636605, 0.87557732, 0.81474317, 0.85635497, 0.8018955 ],\n",
              "       [0.88134123, 0.93458875, 0.85635497, 0.92873938, 0.85671176],\n",
              "       [0.83642594, 0.88719799, 0.8018955 , 0.85671176, 0.83938789]])"
            ]
          },
          "metadata": {},
          "execution_count": 26
        }
      ]
    },
    {
      "cell_type": "code",
      "source": [
        "#P = matrix(2 * corr_matrix)\n",
        "#q = matrix(np.zeros_like(corr_matrix[:, :1]))\n",
        "#A = matrix(np.ones((1, corr_matrix.shape[0])))\n",
        "#b = matrix(np.ones(1))\n",
        "#lb = matrix(np.zeros(corr_matrix.shape[0]))\n",
        "#ub = matrix(np.ones(corr_matrix.shape[0]))\n",
        "P = 2 * corr_matrix\n",
        "q = np.zeros_like(corr_matrix[:, :1])\n",
        "A = np.ones((1, corr_matrix.shape[0]))\n",
        "b = np.ones(1)\n",
        "lb = np.zeros(corr_matrix.shape[0])\n",
        "ub = np.ones(corr_matrix.shape[0])\n",
        "x_sol = solve_qp(P, q, A=A, b=b, lb=lb, ub=ub, initvals=np.array([0.2, 0.2, 0.2, 0.2, 0.2]), solver='cvxopt', verbose=True)#, kktsolver='ldl', options={'kktreg':1e-3})\n",
        "primal_obj = 0.5 * np.dot(np.dot(x_sol.T, P), x_sol)\n",
        "eq_w = np.array([0.2, 0.2, 0.2, 0.2, 0.2])\n",
        "primal_obj_w = 0.5 * np.dot(np.dot(eq_w.T, P), eq_w)\n",
        "print(x_sol)\n",
        "print(primal_obj)\n",
        "print(primal_obj_w)\n",
        "#print(sol['x'], sol['primal objective'])"
      ],
      "metadata": {
        "colab": {
          "base_uri": "https://localhost:8080/"
        },
        "id": "SaR6qeccUTf2",
        "outputId": "1ad74ec7-3046-4eb3-e513-3a7defff0e20"
      },
      "execution_count": null,
      "outputs": [
        {
          "output_type": "stream",
          "name": "stdout",
          "text": [
            "     pcost       dcost       gap    pres   dres\n",
            " 0:  8.7343e-01 -4.1266e+00  1e+01  8e-01  4e+00\n",
            " 1:  8.6338e-01  4.8230e-02  8e-01  1e-16  5e-16\n",
            " 2:  8.5410e-01  7.7938e-01  7e-02  1e-16  3e-16\n",
            " 3:  8.1404e-01  7.9755e-01  2e-02  2e-16  4e-16\n",
            " 4:  8.1158e-01  8.1124e-01  3e-04  1e-16  5e-16\n",
            " 5:  8.1147e-01  8.1146e-01  3e-06  2e-16  4e-16\n",
            " 6:  8.1146e-01  8.1146e-01  3e-08  1e-16  7e-16\n",
            "Optimal solution found.\n",
            "[2.59442592e-07 1.37871995e-08 7.44782013e-01 5.38494732e-09\n",
            " 2.55217709e-01]\n",
            "0.811464232628519\n",
            "0.8734309190744516\n"
          ]
        }
      ]
    },
    {
      "cell_type": "code",
      "source": [
        "optimal_weights = x_sol\n",
        "ensemble_predictions = weighted_prediction(single_predictions, optimal_weights)\n",
        "ens_acc = accuracy_score(np.argmax(ensemble_predictions, axis=1), true_labels)\n",
        "print(round(ens_acc, 8))"
      ],
      "metadata": {
        "colab": {
          "base_uri": "https://localhost:8080/"
        },
        "id": "oGdCpkRa1te2",
        "outputId": "05e0ad8a-aacc-465e-a7e1-fbbf20195a3f"
      },
      "execution_count": null,
      "outputs": [
        {
          "output_type": "stream",
          "name": "stdout",
          "text": [
            "0.93528\n"
          ]
        }
      ]
    },
    {
      "cell_type": "code",
      "source": [
        "optimal_weights"
      ],
      "metadata": {
        "colab": {
          "base_uri": "https://localhost:8080/"
        },
        "id": "s1WxRwo1H_Eu",
        "outputId": "96993b43-b03a-42d4-811f-c50b47da22d3"
      },
      "execution_count": null,
      "outputs": [
        {
          "output_type": "execute_result",
          "data": {
            "text/plain": [
              "array([2.59442592e-07, 1.37871995e-08, 7.44782013e-01, 5.38494732e-09,\n",
              "       2.55217709e-01])"
            ]
          },
          "metadata": {},
          "execution_count": 49
        }
      ]
    },
    {
      "cell_type": "code",
      "source": [
        "w = np.array([1., 1., 1., 1., 1.])\n",
        "w = w / w.sum() #np.array([0.19009504, 0.19518454, 0.15021495, 0.23677912, 0.22772634])\n",
        "np.dot(np.dot(w.T, corr_matrix), w)"
      ],
      "metadata": {
        "colab": {
          "base_uri": "https://localhost:8080/"
        },
        "id": "iDPM5vW3W1MJ",
        "outputId": "0d024159-ee45-409c-9269-7852f94b1ca5"
      },
      "execution_count": null,
      "outputs": [
        {
          "output_type": "execute_result",
          "data": {
            "text/plain": [
              "0.8734309190744516"
            ]
          },
          "metadata": {},
          "execution_count": 50
        }
      ]
    },
    {
      "cell_type": "markdown",
      "source": [
        "## Минимизация апостериорной дисперсии"
      ],
      "metadata": {
        "id": "nO1Q2yFP0Wq2"
      }
    },
    {
      "cell_type": "code",
      "source": [
        "from bayes_opt import BayesianOptimization, UtilityFunction"
      ],
      "metadata": {
        "id": "RzSVlUoGU8On"
      },
      "execution_count": null,
      "outputs": []
    },
    {
      "cell_type": "code",
      "source": [
        "def black_box_function(w1, w2, w3, w4, w5):\n",
        "    w = np.array([w1, w2, w3, w4, w5])\n",
        "    if (w.sum() == 0):\n",
        "        return -1\n",
        "    w = w / w.sum()\n",
        "    return -corr_based_posterior_variance(corr_matrix, w)\n",
        "\n",
        "pbounds = {\"w1\": [0.0, 1.0], \"w2\": [0.0, 1.0], \"w3\": [0.0, 1.0], \"w4\": [0.0, 1.0], \"w5\": [0.0, 1.0]}\n",
        "optimizer = BayesianOptimization(f = black_box_function,\n",
        "                                 pbounds = pbounds, verbose = 5,\n",
        "                                 random_state = 4)"
      ],
      "metadata": {
        "id": "zGGUxUA_0kJb"
      },
      "execution_count": null,
      "outputs": []
    },
    {
      "cell_type": "code",
      "source": [
        "optimizer.maximize(init_points = 5, n_iter = 100)\n",
        "print(\"Best result: {}; f(x) = {}.\".format(optimizer.max[\"params\"], optimizer.max[\"target\"]))"
      ],
      "metadata": {
        "colab": {
          "base_uri": "https://localhost:8080/"
        },
        "id": "Nue-qU3v0kBV",
        "outputId": "71a6476c-e764-4016-b00b-41f2dc924649"
      },
      "execution_count": null,
      "outputs": [
        {
          "output_type": "stream",
          "name": "stdout",
          "text": [
            "|   iter    |  target   |    w1     |    w2     |    w3     |    w4     |    w5     |\n",
            "-------------------------------------------------------------------------------------\n",
            "| \u001b[0m1        \u001b[0m | \u001b[0m-0.8642  \u001b[0m | \u001b[0m0.967    \u001b[0m | \u001b[0m0.5472   \u001b[0m | \u001b[0m0.9727   \u001b[0m | \u001b[0m0.7148   \u001b[0m | \u001b[0m0.6977   \u001b[0m |\n",
            "| \u001b[0m2        \u001b[0m | \u001b[0m-0.9217  \u001b[0m | \u001b[0m0.2161   \u001b[0m | \u001b[0m0.9763   \u001b[0m | \u001b[0m0.00623  \u001b[0m | \u001b[0m0.253    \u001b[0m | \u001b[0m0.4348   \u001b[0m |\n",
            "| \u001b[0m3        \u001b[0m | \u001b[0m-0.8679  \u001b[0m | \u001b[0m0.7794   \u001b[0m | \u001b[0m0.1977   \u001b[0m | \u001b[0m0.863    \u001b[0m | \u001b[0m0.9834   \u001b[0m | \u001b[0m0.1638   \u001b[0m |\n",
            "| \u001b[95m4        \u001b[0m | \u001b[95m-0.8354  \u001b[0m | \u001b[95m0.5973   \u001b[0m | \u001b[95m0.008986 \u001b[0m | \u001b[95m0.3866   \u001b[0m | \u001b[95m0.04416  \u001b[0m | \u001b[95m0.9567   \u001b[0m |\n",
            "| \u001b[0m5        \u001b[0m | \u001b[0m-0.8921  \u001b[0m | \u001b[0m0.4361   \u001b[0m | \u001b[0m0.949    \u001b[0m | \u001b[0m0.7863   \u001b[0m | \u001b[0m0.8663   \u001b[0m | \u001b[0m0.1732   \u001b[0m |\n",
            "| \u001b[95m6        \u001b[0m | \u001b[95m-0.8331  \u001b[0m | \u001b[95m1.0      \u001b[0m | \u001b[95m0.0      \u001b[0m | \u001b[95m0.7855   \u001b[0m | \u001b[95m0.0      \u001b[0m | \u001b[95m1.0      \u001b[0m |\n",
            "| \u001b[95m7        \u001b[0m | \u001b[95m-0.8145  \u001b[0m | \u001b[95m0.0      \u001b[0m | \u001b[95m0.0      \u001b[0m | \u001b[95m1.0      \u001b[0m | \u001b[95m0.0      \u001b[0m | \u001b[95m1.0      \u001b[0m |\n",
            "| \u001b[0m8        \u001b[0m | \u001b[0m-0.8459  \u001b[0m | \u001b[0m0.0      \u001b[0m | \u001b[0m0.0      \u001b[0m | \u001b[0m1.0      \u001b[0m | \u001b[0m1.0      \u001b[0m | \u001b[0m1.0      \u001b[0m |\n",
            "| \u001b[95m9        \u001b[0m | \u001b[95m-0.8144  \u001b[0m | \u001b[95m0.0      \u001b[0m | \u001b[95m0.0      \u001b[0m | \u001b[95m1.0      \u001b[0m | \u001b[95m0.0      \u001b[0m | \u001b[95m0.01338  \u001b[0m |\n",
            "| \u001b[0m10       \u001b[0m | \u001b[0m-0.8396  \u001b[0m | \u001b[0m1.0      \u001b[0m | \u001b[0m0.0      \u001b[0m | \u001b[0m1.0      \u001b[0m | \u001b[0m0.0      \u001b[0m | \u001b[0m0.0      \u001b[0m |\n",
            "| \u001b[0m11       \u001b[0m | \u001b[0m-0.8186  \u001b[0m | \u001b[0m0.2853   \u001b[0m | \u001b[0m0.0      \u001b[0m | \u001b[0m1.0      \u001b[0m | \u001b[0m0.0      \u001b[0m | \u001b[0m0.5369   \u001b[0m |\n",
            "| \u001b[95m12       \u001b[0m | \u001b[95m-0.8117  \u001b[0m | \u001b[95m0.0      \u001b[0m | \u001b[95m0.0      \u001b[0m | \u001b[95m1.0      \u001b[0m | \u001b[95m0.0      \u001b[0m | \u001b[95m0.4933   \u001b[0m |\n",
            "| \u001b[95m13       \u001b[0m | \u001b[95m-0.8117  \u001b[0m | \u001b[95m0.0      \u001b[0m | \u001b[95m0.0      \u001b[0m | \u001b[95m0.6248   \u001b[0m | \u001b[95m0.0      \u001b[0m | \u001b[95m0.3056   \u001b[0m |\n",
            "| \u001b[0m14       \u001b[0m | \u001b[0m-0.8331  \u001b[0m | \u001b[0m0.0      \u001b[0m | \u001b[0m0.0      \u001b[0m | \u001b[0m0.8399   \u001b[0m | \u001b[0m0.3167   \u001b[0m | \u001b[0m0.2515   \u001b[0m |\n",
            "| \u001b[0m15       \u001b[0m | \u001b[0m-0.8442  \u001b[0m | \u001b[0m0.0      \u001b[0m | \u001b[0m0.5183   \u001b[0m | \u001b[0m1.0      \u001b[0m | \u001b[0m0.0      \u001b[0m | \u001b[0m1.0      \u001b[0m |\n",
            "| \u001b[0m16       \u001b[0m | \u001b[0m-1.0     \u001b[0m | \u001b[0m0.0      \u001b[0m | \u001b[0m0.0      \u001b[0m | \u001b[0m0.0      \u001b[0m | \u001b[0m0.0      \u001b[0m | \u001b[0m0.0      \u001b[0m |\n",
            "| \u001b[0m17       \u001b[0m | \u001b[0m-0.8813  \u001b[0m | \u001b[0m0.1295   \u001b[0m | \u001b[0m0.8198   \u001b[0m | \u001b[0m0.9645   \u001b[0m | \u001b[0m0.4365   \u001b[0m | \u001b[0m0.1668   \u001b[0m |\n",
            "| \u001b[0m18       \u001b[0m | \u001b[0m-0.8616  \u001b[0m | \u001b[0m0.3193   \u001b[0m | \u001b[0m0.147    \u001b[0m | \u001b[0m0.2064   \u001b[0m | \u001b[0m0.5364   \u001b[0m | \u001b[0m0.7652   \u001b[0m |\n",
            "| \u001b[0m19       \u001b[0m | \u001b[0m-0.8675  \u001b[0m | \u001b[0m1.0      \u001b[0m | \u001b[0m0.0      \u001b[0m | \u001b[0m0.0      \u001b[0m | \u001b[0m1.0      \u001b[0m | \u001b[0m1.0      \u001b[0m |\n",
            "| \u001b[0m20       \u001b[0m | \u001b[0m-0.8438  \u001b[0m | \u001b[0m0.03015  \u001b[0m | \u001b[0m0.0876   \u001b[0m | \u001b[0m0.8493   \u001b[0m | \u001b[0m0.3719   \u001b[0m | \u001b[0m0.199    \u001b[0m |\n",
            "| \u001b[0m21       \u001b[0m | \u001b[0m-0.8201  \u001b[0m | \u001b[0m0.0      \u001b[0m | \u001b[0m0.0      \u001b[0m | \u001b[0m0.4914   \u001b[0m | \u001b[0m0.0      \u001b[0m | \u001b[0m1.0      \u001b[0m |\n",
            "| \u001b[0m22       \u001b[0m | \u001b[0m-0.8656  \u001b[0m | \u001b[0m1.0      \u001b[0m | \u001b[0m1.0      \u001b[0m | \u001b[0m1.0      \u001b[0m | \u001b[0m0.0      \u001b[0m | \u001b[0m1.0      \u001b[0m |\n",
            "| \u001b[0m23       \u001b[0m | \u001b[0m-0.8495  \u001b[0m | \u001b[0m1.0      \u001b[0m | \u001b[0m0.0      \u001b[0m | \u001b[0m1.0      \u001b[0m | \u001b[0m1.0      \u001b[0m | \u001b[0m1.0      \u001b[0m |\n",
            "| \u001b[0m24       \u001b[0m | \u001b[0m-0.8342  \u001b[0m | \u001b[0m0.4012   \u001b[0m | \u001b[0m0.0      \u001b[0m | \u001b[0m0.8751   \u001b[0m | \u001b[0m0.3838   \u001b[0m | \u001b[0m1.0      \u001b[0m |\n",
            "| \u001b[0m25       \u001b[0m | \u001b[0m-0.8843  \u001b[0m | \u001b[0m1.0      \u001b[0m | \u001b[0m1.0      \u001b[0m | \u001b[0m1.0      \u001b[0m | \u001b[0m0.0      \u001b[0m | \u001b[0m0.0      \u001b[0m |\n",
            "| \u001b[0m26       \u001b[0m | \u001b[0m-0.8755  \u001b[0m | \u001b[0m0.0      \u001b[0m | \u001b[0m1.0      \u001b[0m | \u001b[0m1.0      \u001b[0m | \u001b[0m1.0      \u001b[0m | \u001b[0m1.0      \u001b[0m |\n",
            "| \u001b[0m27       \u001b[0m | \u001b[0m-0.8938  \u001b[0m | \u001b[0m1.0      \u001b[0m | \u001b[0m1.0      \u001b[0m | \u001b[0m0.0      \u001b[0m | \u001b[0m1.0      \u001b[0m | \u001b[0m1.0      \u001b[0m |\n",
            "| \u001b[0m28       \u001b[0m | \u001b[0m-0.8142  \u001b[0m | \u001b[0m0.0      \u001b[0m | \u001b[0m0.0      \u001b[0m | \u001b[0m0.698    \u001b[0m | \u001b[0m0.0      \u001b[0m | \u001b[0m0.6644   \u001b[0m |\n",
            "| \u001b[0m29       \u001b[0m | \u001b[0m-0.8239  \u001b[0m | \u001b[0m0.3596   \u001b[0m | \u001b[0m0.0      \u001b[0m | \u001b[0m0.8287   \u001b[0m | \u001b[0m0.0      \u001b[0m | \u001b[0m0.154    \u001b[0m |\n",
            "| \u001b[0m30       \u001b[0m | \u001b[0m-0.8233  \u001b[0m | \u001b[0m0.5236   \u001b[0m | \u001b[0m0.0      \u001b[0m | \u001b[0m1.0      \u001b[0m | \u001b[0m0.0      \u001b[0m | \u001b[0m1.0      \u001b[0m |\n",
            "| \u001b[0m31       \u001b[0m | \u001b[0m-0.8704  \u001b[0m | \u001b[0m0.0      \u001b[0m | \u001b[0m0.0      \u001b[0m | \u001b[0m0.0      \u001b[0m | \u001b[0m1.0      \u001b[0m | \u001b[0m1.0      \u001b[0m |\n",
            "| \u001b[0m32       \u001b[0m | \u001b[0m-0.8358  \u001b[0m | \u001b[0m0.0      \u001b[0m | \u001b[0m0.2343   \u001b[0m | \u001b[0m0.8507   \u001b[0m | \u001b[0m0.0      \u001b[0m | \u001b[0m0.2985   \u001b[0m |\n",
            "| \u001b[0m33       \u001b[0m | \u001b[0m-0.8397  \u001b[0m | \u001b[0m1.0      \u001b[0m | \u001b[0m0.0      \u001b[0m | \u001b[0m1.0      \u001b[0m | \u001b[0m0.2871   \u001b[0m | \u001b[0m0.5522   \u001b[0m |\n",
            "| \u001b[0m34       \u001b[0m | \u001b[0m-0.8508  \u001b[0m | \u001b[0m1.0      \u001b[0m | \u001b[0m0.0      \u001b[0m | \u001b[0m0.0      \u001b[0m | \u001b[0m0.0      \u001b[0m | \u001b[0m1.0      \u001b[0m |\n",
            "| \u001b[0m35       \u001b[0m | \u001b[0m-0.864   \u001b[0m | \u001b[0m0.0      \u001b[0m | \u001b[0m0.0      \u001b[0m | \u001b[0m1.0      \u001b[0m | \u001b[0m1.0      \u001b[0m | \u001b[0m0.0      \u001b[0m |\n",
            "| \u001b[0m36       \u001b[0m | \u001b[0m-0.8425  \u001b[0m | \u001b[0m1.0      \u001b[0m | \u001b[0m0.0      \u001b[0m | \u001b[0m0.5176   \u001b[0m | \u001b[0m0.0      \u001b[0m | \u001b[0m0.4375   \u001b[0m |\n",
            "| \u001b[0m37       \u001b[0m | \u001b[0m-0.8338  \u001b[0m | \u001b[0m0.0      \u001b[0m | \u001b[0m0.0      \u001b[0m | \u001b[0m0.642    \u001b[0m | \u001b[0m0.387    \u001b[0m | \u001b[0m1.0      \u001b[0m |\n",
            "| \u001b[95m38       \u001b[0m | \u001b[95m-0.8115  \u001b[0m | \u001b[95m0.0      \u001b[0m | \u001b[95m0.0      \u001b[0m | \u001b[95m0.8352   \u001b[0m | \u001b[95m0.0      \u001b[0m | \u001b[95m0.2906   \u001b[0m |\n",
            "| \u001b[0m39       \u001b[0m | \u001b[0m-0.8955  \u001b[0m | \u001b[0m1.0      \u001b[0m | \u001b[0m0.0      \u001b[0m | \u001b[0m0.0      \u001b[0m | \u001b[0m1.0      \u001b[0m | \u001b[0m0.0      \u001b[0m |\n",
            "| \u001b[0m40       \u001b[0m | \u001b[0m-0.8223  \u001b[0m | \u001b[0m0.2847   \u001b[0m | \u001b[0m0.0      \u001b[0m | \u001b[0m0.6125   \u001b[0m | \u001b[0m0.0      \u001b[0m | \u001b[0m0.5234   \u001b[0m |\n",
            "| \u001b[0m41       \u001b[0m | \u001b[0m-0.8642  \u001b[0m | \u001b[0m1.0      \u001b[0m | \u001b[0m0.5392   \u001b[0m | \u001b[0m0.3672   \u001b[0m | \u001b[0m0.0      \u001b[0m | \u001b[0m1.0      \u001b[0m |\n",
            "| \u001b[0m42       \u001b[0m | \u001b[0m-0.8208  \u001b[0m | \u001b[0m0.2322   \u001b[0m | \u001b[0m0.0      \u001b[0m | \u001b[0m0.7417   \u001b[0m | \u001b[0m0.0      \u001b[0m | \u001b[0m1.0      \u001b[0m |\n",
            "| \u001b[0m43       \u001b[0m | \u001b[0m-0.828   \u001b[0m | \u001b[0m0.7223   \u001b[0m | \u001b[0m0.0      \u001b[0m | \u001b[0m1.0      \u001b[0m | \u001b[0m0.0      \u001b[0m | \u001b[0m0.4943   \u001b[0m |\n",
            "| \u001b[0m44       \u001b[0m | \u001b[0m-0.8472  \u001b[0m | \u001b[0m1.0      \u001b[0m | \u001b[0m0.0      \u001b[0m | \u001b[0m0.5292   \u001b[0m | \u001b[0m0.4774   \u001b[0m | \u001b[0m1.0      \u001b[0m |\n",
            "| \u001b[0m45       \u001b[0m | \u001b[0m-0.8516  \u001b[0m | \u001b[0m0.0      \u001b[0m | \u001b[0m0.379    \u001b[0m | \u001b[0m0.3778   \u001b[0m | \u001b[0m0.0      \u001b[0m | \u001b[0m1.0      \u001b[0m |\n",
            "| \u001b[0m46       \u001b[0m | \u001b[0m-0.813   \u001b[0m | \u001b[0m0.0      \u001b[0m | \u001b[0m0.0      \u001b[0m | \u001b[0m1.0      \u001b[0m | \u001b[0m0.0      \u001b[0m | \u001b[0m0.7501   \u001b[0m |\n",
            "| \u001b[0m47       \u001b[0m | \u001b[0m-0.8223  \u001b[0m | \u001b[0m0.2776   \u001b[0m | \u001b[0m0.0      \u001b[0m | \u001b[0m1.0      \u001b[0m | \u001b[0m0.0      \u001b[0m | \u001b[0m0.0      \u001b[0m |\n",
            "| \u001b[0m48       \u001b[0m | \u001b[0m-0.8255  \u001b[0m | \u001b[0m0.0      \u001b[0m | \u001b[0m0.0      \u001b[0m | \u001b[0m1.0      \u001b[0m | \u001b[0m0.2819   \u001b[0m | \u001b[0m0.7852   \u001b[0m |\n",
            "| \u001b[0m49       \u001b[0m | \u001b[0m-0.8123  \u001b[0m | \u001b[0m0.0      \u001b[0m | \u001b[0m0.0      \u001b[0m | \u001b[0m0.7086   \u001b[0m | \u001b[0m0.0      \u001b[0m | \u001b[0m0.4392   \u001b[0m |\n",
            "| \u001b[0m50       \u001b[0m | \u001b[0m-0.8163  \u001b[0m | \u001b[0m0.0      \u001b[0m | \u001b[0m0.0      \u001b[0m | \u001b[0m0.7671   \u001b[0m | \u001b[0m0.0      \u001b[0m | \u001b[0m1.0      \u001b[0m |\n",
            "| \u001b[0m51       \u001b[0m | \u001b[0m-0.8161  \u001b[0m | \u001b[0m0.0      \u001b[0m | \u001b[0m0.0      \u001b[0m | \u001b[0m0.4948   \u001b[0m | \u001b[0m0.0      \u001b[0m | \u001b[0m0.6273   \u001b[0m |\n",
            "| \u001b[0m52       \u001b[0m | \u001b[0m-0.8431  \u001b[0m | \u001b[0m1.0      \u001b[0m | \u001b[0m0.3105   \u001b[0m | \u001b[0m1.0      \u001b[0m | \u001b[0m0.0      \u001b[0m | \u001b[0m1.0      \u001b[0m |\n",
            "| \u001b[0m53       \u001b[0m | \u001b[0m-0.8117  \u001b[0m | \u001b[0m0.0      \u001b[0m | \u001b[0m0.0      \u001b[0m | \u001b[0m1.0      \u001b[0m | \u001b[0m0.0      \u001b[0m | \u001b[0m0.2258   \u001b[0m |\n",
            "| \u001b[0m54       \u001b[0m | \u001b[0m-0.8115  \u001b[0m | \u001b[0m0.0      \u001b[0m | \u001b[0m0.0      \u001b[0m | \u001b[0m1.0      \u001b[0m | \u001b[0m0.0      \u001b[0m | \u001b[0m0.3594   \u001b[0m |\n",
            "| \u001b[0m55       \u001b[0m | \u001b[0m-0.8156  \u001b[0m | \u001b[0m0.1479   \u001b[0m | \u001b[0m0.0      \u001b[0m | \u001b[0m1.0      \u001b[0m | \u001b[0m0.0      \u001b[0m | \u001b[0m0.2715   \u001b[0m |\n",
            "| \u001b[0m56       \u001b[0m | \u001b[0m-0.8172  \u001b[0m | \u001b[0m0.1853   \u001b[0m | \u001b[0m0.0      \u001b[0m | \u001b[0m1.0      \u001b[0m | \u001b[0m0.0      \u001b[0m | \u001b[0m0.8782   \u001b[0m |\n",
            "| \u001b[0m57       \u001b[0m | \u001b[0m-0.8183  \u001b[0m | \u001b[0m0.08183  \u001b[0m | \u001b[0m0.006409 \u001b[0m | \u001b[0m0.8018   \u001b[0m | \u001b[0m0.02011  \u001b[0m | \u001b[0m0.07894  \u001b[0m |\n",
            "| \u001b[0m58       \u001b[0m | \u001b[0m-0.8122  \u001b[0m | \u001b[0m0.0      \u001b[0m | \u001b[0m0.0      \u001b[0m | \u001b[0m1.0      \u001b[0m | \u001b[0m0.0      \u001b[0m | \u001b[0m0.613    \u001b[0m |\n",
            "| \u001b[0m59       \u001b[0m | \u001b[0m-0.8166  \u001b[0m | \u001b[0m0.0      \u001b[0m | \u001b[0m0.0      \u001b[0m | \u001b[0m0.5986   \u001b[0m | \u001b[0m0.0      \u001b[0m | \u001b[0m0.8117   \u001b[0m |\n",
            "| \u001b[0m60       \u001b[0m | \u001b[0m-0.8115  \u001b[0m | \u001b[0m0.0      \u001b[0m | \u001b[0m0.0      \u001b[0m | \u001b[0m0.7302   \u001b[0m | \u001b[0m0.0      \u001b[0m | \u001b[0m0.2361   \u001b[0m |\n",
            "| \u001b[0m61       \u001b[0m | \u001b[0m-0.8186  \u001b[0m | \u001b[0m0.0      \u001b[0m | \u001b[0m0.0      \u001b[0m | \u001b[0m0.6121   \u001b[0m | \u001b[0m0.07382  \u001b[0m | \u001b[0m0.4213   \u001b[0m |\n",
            "| \u001b[0m62       \u001b[0m | \u001b[0m-0.8199  \u001b[0m | \u001b[0m0.0      \u001b[0m | \u001b[0m0.0      \u001b[0m | \u001b[0m1.0      \u001b[0m | \u001b[0m0.09921  \u001b[0m | \u001b[0m0.1212   \u001b[0m |\n",
            "| \u001b[0m63       \u001b[0m | \u001b[0m-0.8256  \u001b[0m | \u001b[0m0.5354   \u001b[0m | \u001b[0m0.0      \u001b[0m | \u001b[0m0.8035   \u001b[0m | \u001b[0m0.0      \u001b[0m | \u001b[0m0.7641   \u001b[0m |\n",
            "| \u001b[0m64       \u001b[0m | \u001b[0m-0.8115  \u001b[0m | \u001b[0m0.0      \u001b[0m | \u001b[0m0.0      \u001b[0m | \u001b[0m1.0      \u001b[0m | \u001b[0m0.0      \u001b[0m | \u001b[0m0.2952   \u001b[0m |\n",
            "| \u001b[0m65       \u001b[0m | \u001b[0m-0.8145  \u001b[0m | \u001b[0m0.08006  \u001b[0m | \u001b[0m0.0      \u001b[0m | \u001b[0m0.6956   \u001b[0m | \u001b[0m0.0      \u001b[0m | \u001b[0m0.3085   \u001b[0m |\n",
            "| \u001b[0m66       \u001b[0m | \u001b[0m-0.8117  \u001b[0m | \u001b[0m0.0      \u001b[0m | \u001b[0m0.0      \u001b[0m | \u001b[0m0.6959   \u001b[0m | \u001b[0m0.0      \u001b[0m | \u001b[0m0.3264   \u001b[0m |\n",
            "| \u001b[0m67       \u001b[0m | \u001b[0m-0.8134  \u001b[0m | \u001b[0m0.06536  \u001b[0m | \u001b[0m0.0      \u001b[0m | \u001b[0m1.0      \u001b[0m | \u001b[0m0.0      \u001b[0m | \u001b[0m0.5211   \u001b[0m |\n",
            "| \u001b[0m68       \u001b[0m | \u001b[0m-0.8202  \u001b[0m | \u001b[0m0.0      \u001b[0m | \u001b[0m0.0      \u001b[0m | \u001b[0m1.0      \u001b[0m | \u001b[0m0.1421   \u001b[0m | \u001b[0m1.0      \u001b[0m |\n",
            "| \u001b[0m69       \u001b[0m | \u001b[0m-0.812   \u001b[0m | \u001b[0m0.0      \u001b[0m | \u001b[0m0.0      \u001b[0m | \u001b[0m0.8713   \u001b[0m | \u001b[0m0.0      \u001b[0m | \u001b[0m0.1563   \u001b[0m |\n",
            "| \u001b[0m70       \u001b[0m | \u001b[0m-0.8137  \u001b[0m | \u001b[0m0.0      \u001b[0m | \u001b[0m0.0      \u001b[0m | \u001b[0m1.0      \u001b[0m | \u001b[0m0.0      \u001b[0m | \u001b[0m0.8746   \u001b[0m |\n",
            "| \u001b[0m71       \u001b[0m | \u001b[0m-0.8211  \u001b[0m | \u001b[0m0.0      \u001b[0m | \u001b[0m0.1027   \u001b[0m | \u001b[0m1.0      \u001b[0m | \u001b[0m0.0      \u001b[0m | \u001b[0m1.0      \u001b[0m |\n",
            "| \u001b[0m72       \u001b[0m | \u001b[0m-0.812   \u001b[0m | \u001b[0m0.0      \u001b[0m | \u001b[0m0.0      \u001b[0m | \u001b[0m0.8887   \u001b[0m | \u001b[0m0.0      \u001b[0m | \u001b[0m0.5043   \u001b[0m |\n",
            "| \u001b[0m73       \u001b[0m | \u001b[0m-0.8162  \u001b[0m | \u001b[0m0.09898  \u001b[0m | \u001b[0m0.0      \u001b[0m | \u001b[0m1.0      \u001b[0m | \u001b[0m0.0      \u001b[0m | \u001b[0m1.0      \u001b[0m |\n",
            "| \u001b[0m74       \u001b[0m | \u001b[0m-0.8124  \u001b[0m | \u001b[0m0.0      \u001b[0m | \u001b[0m0.0      \u001b[0m | \u001b[0m1.0      \u001b[0m | \u001b[0m0.0      \u001b[0m | \u001b[0m0.6514   \u001b[0m |\n",
            "| \u001b[0m75       \u001b[0m | \u001b[0m-0.8131  \u001b[0m | \u001b[0m0.0      \u001b[0m | \u001b[0m0.0      \u001b[0m | \u001b[0m0.8914   \u001b[0m | \u001b[0m0.0      \u001b[0m | \u001b[0m0.6901   \u001b[0m |\n",
            "| \u001b[0m76       \u001b[0m | \u001b[0m-0.8115  \u001b[0m | \u001b[0m0.0      \u001b[0m | \u001b[0m0.0      \u001b[0m | \u001b[0m0.9266   \u001b[0m | \u001b[0m0.0      \u001b[0m | \u001b[0m0.3324   \u001b[0m |\n",
            "| \u001b[0m77       \u001b[0m | \u001b[0m-0.8116  \u001b[0m | \u001b[0m0.0      \u001b[0m | \u001b[0m0.0      \u001b[0m | \u001b[0m0.9022   \u001b[0m | \u001b[0m0.0      \u001b[0m | \u001b[0m0.2453   \u001b[0m |\n",
            "| \u001b[0m78       \u001b[0m | \u001b[0m-0.8116  \u001b[0m | \u001b[0m0.0      \u001b[0m | \u001b[0m0.0      \u001b[0m | \u001b[0m0.9438   \u001b[0m | \u001b[0m0.0      \u001b[0m | \u001b[0m0.4149   \u001b[0m |\n",
            "| \u001b[0m79       \u001b[0m | \u001b[0m-0.8115  \u001b[0m | \u001b[0m0.0      \u001b[0m | \u001b[0m0.0      \u001b[0m | \u001b[0m0.8025   \u001b[0m | \u001b[0m0.0      \u001b[0m | \u001b[0m0.2228   \u001b[0m |\n",
            "| \u001b[0m80       \u001b[0m | \u001b[0m-0.8115  \u001b[0m | \u001b[0m0.0      \u001b[0m | \u001b[0m0.0      \u001b[0m | \u001b[0m1.0      \u001b[0m | \u001b[0m0.0      \u001b[0m | \u001b[0m0.4127   \u001b[0m |\n",
            "| \u001b[0m81       \u001b[0m | \u001b[0m-0.8155  \u001b[0m | \u001b[0m0.0611   \u001b[0m | \u001b[0m0.007443 \u001b[0m | \u001b[0m0.8801   \u001b[0m | \u001b[0m0.02054  \u001b[0m | \u001b[0m0.4775   \u001b[0m |\n",
            "| \u001b[0m82       \u001b[0m | \u001b[0m-0.8116  \u001b[0m | \u001b[0m0.0      \u001b[0m | \u001b[0m0.0      \u001b[0m | \u001b[0m0.8532   \u001b[0m | \u001b[0m0.0      \u001b[0m | \u001b[0m0.3804   \u001b[0m |\n",
            "| \u001b[0m83       \u001b[0m | \u001b[0m-0.8115  \u001b[0m | \u001b[0m0.0      \u001b[0m | \u001b[0m0.0      \u001b[0m | \u001b[0m0.9555   \u001b[0m | \u001b[0m0.0      \u001b[0m | \u001b[0m0.2888   \u001b[0m |\n",
            "| \u001b[0m84       \u001b[0m | \u001b[0m-0.8115  \u001b[0m | \u001b[0m0.0      \u001b[0m | \u001b[0m0.0      \u001b[0m | \u001b[0m1.0      \u001b[0m | \u001b[0m0.0      \u001b[0m | \u001b[0m0.3334   \u001b[0m |\n",
            "| \u001b[0m85       \u001b[0m | \u001b[0m-0.8115  \u001b[0m | \u001b[0m0.0      \u001b[0m | \u001b[0m0.0      \u001b[0m | \u001b[0m0.7596   \u001b[0m | \u001b[0m0.0      \u001b[0m | \u001b[0m0.2687   \u001b[0m |\n",
            "| \u001b[0m86       \u001b[0m | \u001b[0m-0.8115  \u001b[0m | \u001b[0m0.0      \u001b[0m | \u001b[0m0.0      \u001b[0m | \u001b[0m1.0      \u001b[0m | \u001b[0m0.0      \u001b[0m | \u001b[0m0.3646   \u001b[0m |\n",
            "| \u001b[0m87       \u001b[0m | \u001b[0m-0.8115  \u001b[0m | \u001b[0m0.0      \u001b[0m | \u001b[0m0.0      \u001b[0m | \u001b[0m1.0      \u001b[0m | \u001b[0m0.0      \u001b[0m | \u001b[0m0.3294   \u001b[0m |\n",
            "| \u001b[0m88       \u001b[0m | \u001b[0m-0.8115  \u001b[0m | \u001b[0m0.0      \u001b[0m | \u001b[0m0.0      \u001b[0m | \u001b[0m0.965    \u001b[0m | \u001b[0m0.0      \u001b[0m | \u001b[0m0.3485   \u001b[0m |\n",
            "| \u001b[0m89       \u001b[0m | \u001b[0m-0.8126  \u001b[0m | \u001b[0m0.0      \u001b[0m | \u001b[0m0.0      \u001b[0m | \u001b[0m0.6016   \u001b[0m | \u001b[0m0.0      \u001b[0m | \u001b[0m0.4153   \u001b[0m |\n",
            "| \u001b[0m90       \u001b[0m | \u001b[0m-0.8115  \u001b[0m | \u001b[0m0.0      \u001b[0m | \u001b[0m0.0      \u001b[0m | \u001b[0m1.0      \u001b[0m | \u001b[0m0.0      \u001b[0m | \u001b[0m0.3337   \u001b[0m |\n",
            "| \u001b[0m91       \u001b[0m | \u001b[0m-0.8115  \u001b[0m | \u001b[0m0.0      \u001b[0m | \u001b[0m0.0      \u001b[0m | \u001b[0m1.0      \u001b[0m | \u001b[0m0.0      \u001b[0m | \u001b[0m0.3695   \u001b[0m |\n",
            "| \u001b[0m92       \u001b[0m | \u001b[0m-0.8115  \u001b[0m | \u001b[0m0.0      \u001b[0m | \u001b[0m0.0      \u001b[0m | \u001b[0m1.0      \u001b[0m | \u001b[0m0.0      \u001b[0m | \u001b[0m0.3277   \u001b[0m |\n",
            "| \u001b[0m93       \u001b[0m | \u001b[0m-0.8115  \u001b[0m | \u001b[0m0.0      \u001b[0m | \u001b[0m0.0      \u001b[0m | \u001b[0m1.0      \u001b[0m | \u001b[0m0.0      \u001b[0m | \u001b[0m0.3484   \u001b[0m |\n",
            "| \u001b[0m94       \u001b[0m | \u001b[0m-0.8115  \u001b[0m | \u001b[0m0.0      \u001b[0m | \u001b[0m0.0      \u001b[0m | \u001b[0m0.8818   \u001b[0m | \u001b[0m0.0      \u001b[0m | \u001b[0m0.3084   \u001b[0m |\n",
            "| \u001b[0m95       \u001b[0m | \u001b[0m-0.8139  \u001b[0m | \u001b[0m0.0      \u001b[0m | \u001b[0m0.0      \u001b[0m | \u001b[0m0.9024   \u001b[0m | \u001b[0m0.0      \u001b[0m | \u001b[0m0.8232   \u001b[0m |\n",
            "| \u001b[95m96       \u001b[0m | \u001b[95m-0.8115  \u001b[0m | \u001b[95m0.0      \u001b[0m | \u001b[95m0.0      \u001b[0m | \u001b[95m1.0      \u001b[0m | \u001b[95m0.0      \u001b[0m | \u001b[95m0.3462   \u001b[0m |\n",
            "| \u001b[0m97       \u001b[0m | \u001b[0m-0.8115  \u001b[0m | \u001b[0m0.0      \u001b[0m | \u001b[0m0.0      \u001b[0m | \u001b[0m0.6783   \u001b[0m | \u001b[0m0.0      \u001b[0m | \u001b[0m0.2679   \u001b[0m |\n",
            "| \u001b[0m98       \u001b[0m | \u001b[0m-0.8115  \u001b[0m | \u001b[0m0.0      \u001b[0m | \u001b[0m0.0      \u001b[0m | \u001b[0m0.7185   \u001b[0m | \u001b[0m0.0      \u001b[0m | \u001b[0m0.2659   \u001b[0m |\n",
            "| \u001b[0m99       \u001b[0m | \u001b[0m-0.8115  \u001b[0m | \u001b[0m0.0      \u001b[0m | \u001b[0m0.0      \u001b[0m | \u001b[0m0.9646   \u001b[0m | \u001b[0m0.0      \u001b[0m | \u001b[0m0.3232   \u001b[0m |\n",
            "| \u001b[0m100      \u001b[0m | \u001b[0m-0.8115  \u001b[0m | \u001b[0m0.0      \u001b[0m | \u001b[0m0.0      \u001b[0m | \u001b[0m0.7689   \u001b[0m | \u001b[0m0.0      \u001b[0m | \u001b[0m0.2471   \u001b[0m |\n",
            "| \u001b[0m101      \u001b[0m | \u001b[0m-0.8115  \u001b[0m | \u001b[0m0.0      \u001b[0m | \u001b[0m0.0      \u001b[0m | \u001b[0m0.8997   \u001b[0m | \u001b[0m0.0      \u001b[0m | \u001b[0m0.3514   \u001b[0m |\n",
            "| \u001b[0m102      \u001b[0m | \u001b[0m-0.8115  \u001b[0m | \u001b[0m0.0      \u001b[0m | \u001b[0m0.0      \u001b[0m | \u001b[0m1.0      \u001b[0m | \u001b[0m0.0      \u001b[0m | \u001b[0m0.3172   \u001b[0m |\n",
            "| \u001b[0m103      \u001b[0m | \u001b[0m-0.8116  \u001b[0m | \u001b[0m0.0      \u001b[0m | \u001b[0m0.0      \u001b[0m | \u001b[0m0.6673   \u001b[0m | \u001b[0m0.0      \u001b[0m | \u001b[0m0.2977   \u001b[0m |\n",
            "| \u001b[0m104      \u001b[0m | \u001b[0m-0.8115  \u001b[0m | \u001b[0m0.0      \u001b[0m | \u001b[0m0.0      \u001b[0m | \u001b[0m1.0      \u001b[0m | \u001b[0m0.0      \u001b[0m | \u001b[0m0.371    \u001b[0m |\n",
            "| \u001b[95m105      \u001b[0m | \u001b[95m-0.8115  \u001b[0m | \u001b[95m0.0      \u001b[0m | \u001b[95m0.0      \u001b[0m | \u001b[95m1.0      \u001b[0m | \u001b[95m0.0      \u001b[0m | \u001b[95m0.3435   \u001b[0m |\n",
            "=====================================================================================\n",
            "Best result: {'w1': 0.0, 'w2': 0.0, 'w3': 1.0, 'w4': 0.0, 'w5': 0.34350920812624114}; f(x) = -0.8114642320199948.\n"
          ]
        }
      ]
    },
    {
      "cell_type": "code",
      "source": [
        "bayes = [0.0, 0.0, 1.0, 0.0, 0.34350920812624114]\n",
        "#[0.6582128439035856, 0.8485724339736505, 0.5743632400093872, 0.9784273250515602, 0.7811624230287056]\n",
        "bayes = np.array(bayes)\n",
        "#np.array([0.7709616475639604, 0.7862128499691512, 0.6094084689849317, 0.9583737271302607, 0.9241483879188706])\n",
        "bayes = bayes / bayes.sum()\n",
        "print('Weights', bayes)\n",
        "print('Uncertainty', corr_based_posterior_variance(corr_matrix, bayes))\n",
        "ensemble_predictions = weighted_prediction(single_predictions, bayes)\n",
        "ens_acc = accuracy_score(np.argmax(ensemble_predictions, axis=1), true_labels)\n",
        "print('Accuracy', round(ens_acc, 8))"
      ],
      "metadata": {
        "colab": {
          "base_uri": "https://localhost:8080/"
        },
        "id": "uDElBYez0j50",
        "outputId": "1f09b398-b36c-4383-c343-140f4d078422"
      },
      "execution_count": null,
      "outputs": [
        {
          "output_type": "stream",
          "name": "stdout",
          "text": [
            "Weights [0.         0.         0.74431942 0.         0.25568058]\n",
            "Uncertainty 0.8114642320199948\n",
            "Accuracy 0.93528\n"
          ]
        }
      ]
    },
    {
      "cell_type": "code",
      "source": [],
      "metadata": {
        "id": "nOiNEBR20jxX"
      },
      "execution_count": null,
      "outputs": []
    },
    {
      "cell_type": "code",
      "source": [],
      "metadata": {
        "id": "zHahvHCl0jmH"
      },
      "execution_count": null,
      "outputs": []
    },
    {
      "cell_type": "code",
      "source": [
        "def black_box_function(w1, w2, w3, w4, w5):\n",
        "    weights = np.array([w1, w2, w3, w4, w5])\n",
        "    weights = weights / weights.sum()\n",
        "    ensemble_predictions = np.vstack((np.dot(weights, np.array(single_predictions)[:, :, 0]), np.dot(weights, np.array(single_predictions)[:, :, 1]))).T\n",
        "    ens_acc = accuracy_score(np.argmax(ensemble_predictions, axis=1), true_labels)\n",
        "    return ens_acc"
      ],
      "metadata": {
        "id": "7ntgNzWoWCZI"
      },
      "execution_count": null,
      "outputs": []
    },
    {
      "cell_type": "code",
      "source": [
        "pbounds = {\"w1\": [0.0, 1.0], \"w2\": [0.0, 1.0], \"w3\": [0.0, 1.0], \"w4\": [0.0, 1.0], \"w5\": [0.0, 1.0]}\n",
        "optimizer = BayesianOptimization(f = black_box_function,\n",
        "                                 pbounds = pbounds, verbose = 5,\n",
        "                                 random_state = 4)"
      ],
      "metadata": {
        "id": "ubuj2lzWXBXv"
      },
      "execution_count": null,
      "outputs": []
    },
    {
      "cell_type": "code",
      "source": [
        "optimizer.maximize(init_points = 5, n_iter = 100)\n",
        "print(\"Best result: {}; f(x) = {}.\".format(optimizer.max[\"params\"], optimizer.max[\"target\"]))"
      ],
      "metadata": {
        "colab": {
          "base_uri": "https://localhost:8080/"
        },
        "id": "GRvEEtW6XOAd",
        "outputId": "c7d0b5ef-d2c0-4d47-d3f7-1e89ede35804"
      },
      "execution_count": null,
      "outputs": [
        {
          "output_type": "stream",
          "name": "stdout",
          "text": [
            "|   iter    |  target   |    w1     |    w2     |    w3     |    w4     |    w5     |\n",
            "-------------------------------------------------------------------------------------\n",
            "| \u001b[0m1        \u001b[0m | \u001b[0m0.9362   \u001b[0m | \u001b[0m0.967    \u001b[0m | \u001b[0m0.5472   \u001b[0m | \u001b[0m0.9727   \u001b[0m | \u001b[0m0.7148   \u001b[0m | \u001b[0m0.6977   \u001b[0m |\n",
            "| \u001b[0m2        \u001b[0m | \u001b[0m0.9354   \u001b[0m | \u001b[0m0.2161   \u001b[0m | \u001b[0m0.9763   \u001b[0m | \u001b[0m0.00623  \u001b[0m | \u001b[0m0.253    \u001b[0m | \u001b[0m0.4348   \u001b[0m |\n",
            "| \u001b[0m3        \u001b[0m | \u001b[0m0.936    \u001b[0m | \u001b[0m0.7794   \u001b[0m | \u001b[0m0.1977   \u001b[0m | \u001b[0m0.863    \u001b[0m | \u001b[0m0.9834   \u001b[0m | \u001b[0m0.1638   \u001b[0m |\n",
            "| \u001b[0m4        \u001b[0m | \u001b[0m0.9357   \u001b[0m | \u001b[0m0.5973   \u001b[0m | \u001b[0m0.008986 \u001b[0m | \u001b[0m0.3866   \u001b[0m | \u001b[0m0.04416  \u001b[0m | \u001b[0m0.9567   \u001b[0m |\n",
            "| \u001b[95m5        \u001b[0m | \u001b[95m0.9363   \u001b[0m | \u001b[95m0.4361   \u001b[0m | \u001b[95m0.949    \u001b[0m | \u001b[95m0.7863   \u001b[0m | \u001b[95m0.8663   \u001b[0m | \u001b[95m0.1732   \u001b[0m |\n",
            "| \u001b[95m6        \u001b[0m | \u001b[95m0.9368   \u001b[0m | \u001b[95m0.4742   \u001b[0m | \u001b[95m0.9403   \u001b[0m | \u001b[95m0.7261   \u001b[0m | \u001b[95m0.8331   \u001b[0m | \u001b[95m0.2002   \u001b[0m |\n",
            "| \u001b[0m7        \u001b[0m | \u001b[0m0.9368   \u001b[0m | \u001b[0m0.5343   \u001b[0m | \u001b[0m0.9347   \u001b[0m | \u001b[0m0.6816   \u001b[0m | \u001b[0m0.7988   \u001b[0m | \u001b[0m0.1633   \u001b[0m |\n",
            "| \u001b[0m8        \u001b[0m | \u001b[0m0.9366   \u001b[0m | \u001b[0m0.498    \u001b[0m | \u001b[0m0.9248   \u001b[0m | \u001b[0m0.626    \u001b[0m | \u001b[0m0.7913   \u001b[0m | \u001b[0m0.3155   \u001b[0m |\n",
            "| \u001b[0m9        \u001b[0m | \u001b[0m0.9364   \u001b[0m | \u001b[0m0.1908   \u001b[0m | \u001b[0m0.9133   \u001b[0m | \u001b[0m0.6885   \u001b[0m | \u001b[0m0.4513   \u001b[0m | \u001b[0m0.2203   \u001b[0m |\n",
            "| \u001b[0m10       \u001b[0m | \u001b[0m0.9361   \u001b[0m | \u001b[0m0.6486   \u001b[0m | \u001b[0m0.2326   \u001b[0m | \u001b[0m0.5245   \u001b[0m | \u001b[0m0.8381   \u001b[0m | \u001b[0m0.6563   \u001b[0m |\n",
            "| \u001b[95m11       \u001b[0m | \u001b[95m0.9374   \u001b[0m | \u001b[95m0.2618   \u001b[0m | \u001b[95m0.9995   \u001b[0m | \u001b[95m0.4522   \u001b[0m | \u001b[95m0.3004   \u001b[0m | \u001b[95m0.9152   \u001b[0m |\n",
            "| \u001b[95m12       \u001b[0m | \u001b[95m0.9375   \u001b[0m | \u001b[95m0.3403   \u001b[0m | \u001b[95m0.9762   \u001b[0m | \u001b[95m0.5424   \u001b[0m | \u001b[95m0.3359   \u001b[0m | \u001b[95m0.9628   \u001b[0m |\n",
            "| \u001b[0m13       \u001b[0m | \u001b[0m0.9368   \u001b[0m | \u001b[0m0.187    \u001b[0m | \u001b[0m1.0      \u001b[0m | \u001b[0m0.6129   \u001b[0m | \u001b[0m0.3389   \u001b[0m | \u001b[0m1.0      \u001b[0m |\n",
            "| \u001b[0m14       \u001b[0m | \u001b[0m0.9372   \u001b[0m | \u001b[0m0.8284   \u001b[0m | \u001b[0m0.6943   \u001b[0m | \u001b[0m0.7797   \u001b[0m | \u001b[0m0.3608   \u001b[0m | \u001b[0m0.2728   \u001b[0m |\n",
            "| \u001b[0m15       \u001b[0m | \u001b[0m0.9371   \u001b[0m | \u001b[0m0.4416   \u001b[0m | \u001b[0m0.998    \u001b[0m | \u001b[0m0.4192   \u001b[0m | \u001b[0m0.2856   \u001b[0m | \u001b[0m0.9913   \u001b[0m |\n",
            "| \u001b[0m16       \u001b[0m | \u001b[0m0.937    \u001b[0m | \u001b[0m0.3863   \u001b[0m | \u001b[0m0.9126   \u001b[0m | \u001b[0m0.5288   \u001b[0m | \u001b[0m0.3493   \u001b[0m | \u001b[0m0.8076   \u001b[0m |\n",
            "| \u001b[0m17       \u001b[0m | \u001b[0m0.9362   \u001b[0m | \u001b[0m0.1295   \u001b[0m | \u001b[0m0.8198   \u001b[0m | \u001b[0m0.9645   \u001b[0m | \u001b[0m0.4365   \u001b[0m | \u001b[0m0.1668   \u001b[0m |\n",
            "| \u001b[0m18       \u001b[0m | \u001b[0m0.9354   \u001b[0m | \u001b[0m0.3193   \u001b[0m | \u001b[0m0.147    \u001b[0m | \u001b[0m0.2064   \u001b[0m | \u001b[0m0.5364   \u001b[0m | \u001b[0m0.7652   \u001b[0m |\n",
            "| \u001b[0m19       \u001b[0m | \u001b[0m0.937    \u001b[0m | \u001b[0m0.931    \u001b[0m | \u001b[0m0.5505   \u001b[0m | \u001b[0m0.285    \u001b[0m | \u001b[0m0.8443   \u001b[0m | \u001b[0m0.3037   \u001b[0m |\n",
            "| \u001b[0m20       \u001b[0m | \u001b[0m0.9361   \u001b[0m | \u001b[0m0.6828   \u001b[0m | \u001b[0m0.4203   \u001b[0m | \u001b[0m0.1475   \u001b[0m | \u001b[0m0.8247   \u001b[0m | \u001b[0m0.9794   \u001b[0m |\n",
            "| \u001b[95m21       \u001b[0m | \u001b[95m0.9376   \u001b[0m | \u001b[95m0.3376   \u001b[0m | \u001b[95m0.9977   \u001b[0m | \u001b[95m0.446    \u001b[0m | \u001b[95m0.4942   \u001b[0m | \u001b[95m0.9759   \u001b[0m |\n",
            "| \u001b[0m22       \u001b[0m | \u001b[0m0.9364   \u001b[0m | \u001b[0m0.205    \u001b[0m | \u001b[0m0.6082   \u001b[0m | \u001b[0m0.3724   \u001b[0m | \u001b[0m0.4919   \u001b[0m | \u001b[0m0.3993   \u001b[0m |\n",
            "| \u001b[0m23       \u001b[0m | \u001b[0m0.937    \u001b[0m | \u001b[0m0.3032   \u001b[0m | \u001b[0m0.8286   \u001b[0m | \u001b[0m0.4291   \u001b[0m | \u001b[0m0.4232   \u001b[0m | \u001b[0m1.0      \u001b[0m |\n",
            "| \u001b[0m24       \u001b[0m | \u001b[0m0.9359   \u001b[0m | \u001b[0m0.2601   \u001b[0m | \u001b[0m0.9112   \u001b[0m | \u001b[0m0.9703   \u001b[0m | \u001b[0m0.3819   \u001b[0m | \u001b[0m0.009365 \u001b[0m |\n",
            "| \u001b[0m25       \u001b[0m | \u001b[0m0.9371   \u001b[0m | \u001b[0m0.389    \u001b[0m | \u001b[0m0.9966   \u001b[0m | \u001b[0m0.6041   \u001b[0m | \u001b[0m0.545    \u001b[0m | \u001b[0m0.9211   \u001b[0m |\n",
            "| \u001b[0m26       \u001b[0m | \u001b[0m0.9366   \u001b[0m | \u001b[0m0.9738   \u001b[0m | \u001b[0m0.6569   \u001b[0m | \u001b[0m0.5493   \u001b[0m | \u001b[0m0.4559   \u001b[0m | \u001b[0m0.2161   \u001b[0m |\n",
            "| \u001b[0m27       \u001b[0m | \u001b[0m0.9367   \u001b[0m | \u001b[0m0.8516   \u001b[0m | \u001b[0m0.8248   \u001b[0m | \u001b[0m0.374    \u001b[0m | \u001b[0m0.7099   \u001b[0m | \u001b[0m0.9122   \u001b[0m |\n",
            "| \u001b[0m28       \u001b[0m | \u001b[0m0.937    \u001b[0m | \u001b[0m0.4375   \u001b[0m | \u001b[0m1.0      \u001b[0m | \u001b[0m0.3147   \u001b[0m | \u001b[0m0.6394   \u001b[0m | \u001b[0m1.0      \u001b[0m |\n",
            "| \u001b[0m29       \u001b[0m | \u001b[0m0.9365   \u001b[0m | \u001b[0m0.1592   \u001b[0m | \u001b[0m0.06806  \u001b[0m | \u001b[0m0.9004   \u001b[0m | \u001b[0m0.2486   \u001b[0m | \u001b[0m0.4924   \u001b[0m |\n",
            "| \u001b[0m30       \u001b[0m | \u001b[0m0.9366   \u001b[0m | \u001b[0m0.8862   \u001b[0m | \u001b[0m0.7248   \u001b[0m | \u001b[0m0.9161   \u001b[0m | \u001b[0m0.1435   \u001b[0m | \u001b[0m0.3048   \u001b[0m |\n",
            "| \u001b[0m31       \u001b[0m | \u001b[0m0.9369   \u001b[0m | \u001b[0m0.2051   \u001b[0m | \u001b[0m1.0      \u001b[0m | \u001b[0m0.3775   \u001b[0m | \u001b[0m0.5588   \u001b[0m | \u001b[0m0.8675   \u001b[0m |\n",
            "| \u001b[0m32       \u001b[0m | \u001b[0m0.9354   \u001b[0m | \u001b[0m0.8359   \u001b[0m | \u001b[0m0.9002   \u001b[0m | \u001b[0m0.6997   \u001b[0m | \u001b[0m0.01456  \u001b[0m | \u001b[0m0.1891   \u001b[0m |\n",
            "| \u001b[0m33       \u001b[0m | \u001b[0m0.9362   \u001b[0m | \u001b[0m0.2683   \u001b[0m | \u001b[0m0.1798   \u001b[0m | \u001b[0m0.6065   \u001b[0m | \u001b[0m0.8255   \u001b[0m | \u001b[0m0.5724   \u001b[0m |\n",
            "| \u001b[0m34       \u001b[0m | \u001b[0m0.9372   \u001b[0m | \u001b[0m0.5215   \u001b[0m | \u001b[0m1.0      \u001b[0m | \u001b[0m0.4967   \u001b[0m | \u001b[0m0.4758   \u001b[0m | \u001b[0m1.0      \u001b[0m |\n",
            "| \u001b[0m35       \u001b[0m | \u001b[0m0.9368   \u001b[0m | \u001b[0m0.8143   \u001b[0m | \u001b[0m0.5599   \u001b[0m | \u001b[0m0.9579   \u001b[0m | \u001b[0m0.4538   \u001b[0m | \u001b[0m0.2115   \u001b[0m |\n",
            "| \u001b[0m36       \u001b[0m | \u001b[0m0.9358   \u001b[0m | \u001b[0m0.1631   \u001b[0m | \u001b[0m0.7596   \u001b[0m | \u001b[0m0.4728   \u001b[0m | \u001b[0m0.4353   \u001b[0m | \u001b[0m0.08163  \u001b[0m |\n",
            "| \u001b[0m37       \u001b[0m | \u001b[0m0.9367   \u001b[0m | \u001b[0m0.8112   \u001b[0m | \u001b[0m0.8467   \u001b[0m | \u001b[0m0.866    \u001b[0m | \u001b[0m0.5077   \u001b[0m | \u001b[0m0.3907   \u001b[0m |\n",
            "| \u001b[0m38       \u001b[0m | \u001b[0m0.9363   \u001b[0m | \u001b[0m0.7327   \u001b[0m | \u001b[0m0.5332   \u001b[0m | \u001b[0m0.7496   \u001b[0m | \u001b[0m0.3333   \u001b[0m | \u001b[0m0.4339   \u001b[0m |\n",
            "| \u001b[0m39       \u001b[0m | \u001b[0m0.9357   \u001b[0m | \u001b[0m0.3472   \u001b[0m | \u001b[0m0.2714   \u001b[0m | \u001b[0m0.4654   \u001b[0m | \u001b[0m0.9571   \u001b[0m | \u001b[0m0.9474   \u001b[0m |\n",
            "| \u001b[0m40       \u001b[0m | \u001b[0m0.9368   \u001b[0m | \u001b[0m0.4637   \u001b[0m | \u001b[0m0.902    \u001b[0m | \u001b[0m0.7818   \u001b[0m | \u001b[0m0.3877   \u001b[0m | \u001b[0m0.8984   \u001b[0m |\n",
            "| \u001b[0m41       \u001b[0m | \u001b[0m0.9366   \u001b[0m | \u001b[0m0.6904   \u001b[0m | \u001b[0m0.7326   \u001b[0m | \u001b[0m0.7007   \u001b[0m | \u001b[0m0.379    \u001b[0m | \u001b[0m0.6544   \u001b[0m |\n",
            "| \u001b[0m42       \u001b[0m | \u001b[0m0.9358   \u001b[0m | \u001b[0m0.2885   \u001b[0m | \u001b[0m0.09037  \u001b[0m | \u001b[0m0.4789   \u001b[0m | \u001b[0m0.8253   \u001b[0m | \u001b[0m0.432    \u001b[0m |\n",
            "| \u001b[0m43       \u001b[0m | \u001b[0m0.9368   \u001b[0m | \u001b[0m0.3037   \u001b[0m | \u001b[0m1.0      \u001b[0m | \u001b[0m0.283    \u001b[0m | \u001b[0m0.4165   \u001b[0m | \u001b[0m1.0      \u001b[0m |\n",
            "| \u001b[0m44       \u001b[0m | \u001b[0m0.937    \u001b[0m | \u001b[0m0.3657   \u001b[0m | \u001b[0m1.0      \u001b[0m | \u001b[0m0.5951   \u001b[0m | \u001b[0m0.07169  \u001b[0m | \u001b[0m0.9223   \u001b[0m |\n",
            "| \u001b[0m45       \u001b[0m | \u001b[0m0.9362   \u001b[0m | \u001b[0m0.8921   \u001b[0m | \u001b[0m0.1692   \u001b[0m | \u001b[0m0.4547   \u001b[0m | \u001b[0m0.9815   \u001b[0m | \u001b[0m0.1102   \u001b[0m |\n",
            "| \u001b[0m46       \u001b[0m | \u001b[0m0.9366   \u001b[0m | \u001b[0m1.0      \u001b[0m | \u001b[0m0.7627   \u001b[0m | \u001b[0m0.0856   \u001b[0m | \u001b[0m0.9925   \u001b[0m | \u001b[0m0.3192   \u001b[0m |\n",
            "| \u001b[0m47       \u001b[0m | \u001b[0m0.9374   \u001b[0m | \u001b[0m0.6626   \u001b[0m | \u001b[0m1.0      \u001b[0m | \u001b[0m0.6963   \u001b[0m | \u001b[0m0.1385   \u001b[0m | \u001b[0m1.0      \u001b[0m |\n",
            "| \u001b[0m48       \u001b[0m | \u001b[0m0.9362   \u001b[0m | \u001b[0m0.5728   \u001b[0m | \u001b[0m0.2755   \u001b[0m | \u001b[0m0.8816   \u001b[0m | \u001b[0m0.8453   \u001b[0m | \u001b[0m0.8345   \u001b[0m |\n",
            "| \u001b[0m49       \u001b[0m | \u001b[0m0.9373   \u001b[0m | \u001b[0m0.6095   \u001b[0m | \u001b[0m1.0      \u001b[0m | \u001b[0m0.8938   \u001b[0m | \u001b[0m0.0      \u001b[0m | \u001b[0m1.0      \u001b[0m |\n",
            "| \u001b[0m50       \u001b[0m | \u001b[0m0.9374   \u001b[0m | \u001b[0m0.6612   \u001b[0m | \u001b[0m0.789    \u001b[0m | \u001b[0m0.7346   \u001b[0m | \u001b[0m0.0      \u001b[0m | \u001b[0m1.0      \u001b[0m |\n",
            "| \u001b[0m51       \u001b[0m | \u001b[0m0.936    \u001b[0m | \u001b[0m0.4524   \u001b[0m | \u001b[0m0.3687   \u001b[0m | \u001b[0m0.577    \u001b[0m | \u001b[0m0.5685   \u001b[0m | \u001b[0m0.3226   \u001b[0m |\n",
            "| \u001b[0m52       \u001b[0m | \u001b[0m0.9364   \u001b[0m | \u001b[0m0.6639   \u001b[0m | \u001b[0m0.7005   \u001b[0m | \u001b[0m0.8755   \u001b[0m | \u001b[0m0.6453   \u001b[0m | \u001b[0m0.6773   \u001b[0m |\n",
            "| \u001b[0m53       \u001b[0m | \u001b[0m0.9369   \u001b[0m | \u001b[0m0.8848   \u001b[0m | \u001b[0m0.9161   \u001b[0m | \u001b[0m0.8268   \u001b[0m | \u001b[0m0.03905  \u001b[0m | \u001b[0m1.0      \u001b[0m |\n",
            "| \u001b[0m54       \u001b[0m | \u001b[0m0.9358   \u001b[0m | \u001b[0m0.2346   \u001b[0m | \u001b[0m0.0923   \u001b[0m | \u001b[0m0.329    \u001b[0m | \u001b[0m0.6001   \u001b[0m | \u001b[0m0.5962   \u001b[0m |\n",
            "| \u001b[0m55       \u001b[0m | \u001b[0m0.9363   \u001b[0m | \u001b[0m0.3349   \u001b[0m | \u001b[0m0.8773   \u001b[0m | \u001b[0m0.004005 \u001b[0m | \u001b[0m0.7373   \u001b[0m | \u001b[0m0.2819   \u001b[0m |\n",
            "| \u001b[0m56       \u001b[0m | \u001b[0m0.9367   \u001b[0m | \u001b[0m0.672    \u001b[0m | \u001b[0m0.7804   \u001b[0m | \u001b[0m0.3527   \u001b[0m | \u001b[0m0.646    \u001b[0m | \u001b[0m0.9519   \u001b[0m |\n",
            "| \u001b[0m57       \u001b[0m | \u001b[0m0.937    \u001b[0m | \u001b[0m0.9635   \u001b[0m | \u001b[0m0.9142   \u001b[0m | \u001b[0m0.702    \u001b[0m | \u001b[0m0.6864   \u001b[0m | \u001b[0m0.6642   \u001b[0m |\n",
            "| \u001b[0m58       \u001b[0m | \u001b[0m0.9358   \u001b[0m | \u001b[0m0.1303   \u001b[0m | \u001b[0m0.1406   \u001b[0m | \u001b[0m0.489    \u001b[0m | \u001b[0m0.8091   \u001b[0m | \u001b[0m0.6217   \u001b[0m |\n",
            "| \u001b[0m59       \u001b[0m | \u001b[0m0.9358   \u001b[0m | \u001b[0m0.1018   \u001b[0m | \u001b[0m0.8899   \u001b[0m | \u001b[0m0.8869   \u001b[0m | \u001b[0m0.8613   \u001b[0m | \u001b[0m0.9667   \u001b[0m |\n",
            "| \u001b[0m60       \u001b[0m | \u001b[0m0.9354   \u001b[0m | \u001b[0m0.1528   \u001b[0m | \u001b[0m0.226    \u001b[0m | \u001b[0m0.0794   \u001b[0m | \u001b[0m0.6481   \u001b[0m | \u001b[0m0.5217   \u001b[0m |\n",
            "| \u001b[0m61       \u001b[0m | \u001b[0m0.9361   \u001b[0m | \u001b[0m0.821    \u001b[0m | \u001b[0m0.08091  \u001b[0m | \u001b[0m0.6742   \u001b[0m | \u001b[0m0.457    \u001b[0m | \u001b[0m0.5582   \u001b[0m |\n",
            "| \u001b[0m62       \u001b[0m | \u001b[0m0.9367   \u001b[0m | \u001b[0m0.6704   \u001b[0m | \u001b[0m0.7033   \u001b[0m | \u001b[0m0.1917   \u001b[0m | \u001b[0m0.7315   \u001b[0m | \u001b[0m0.6519   \u001b[0m |\n",
            "| \u001b[0m63       \u001b[0m | \u001b[0m0.9354   \u001b[0m | \u001b[0m0.2435   \u001b[0m | \u001b[0m0.243    \u001b[0m | \u001b[0m0.1425   \u001b[0m | \u001b[0m0.8964   \u001b[0m | \u001b[0m0.7513   \u001b[0m |\n",
            "| \u001b[0m64       \u001b[0m | \u001b[0m0.9363   \u001b[0m | \u001b[0m0.0567   \u001b[0m | \u001b[0m0.2053   \u001b[0m | \u001b[0m0.8884   \u001b[0m | \u001b[0m0.9017   \u001b[0m | \u001b[0m0.3387   \u001b[0m |\n",
            "| \u001b[0m65       \u001b[0m | \u001b[0m0.9371   \u001b[0m | \u001b[0m0.9438   \u001b[0m | \u001b[0m0.4959   \u001b[0m | \u001b[0m0.3834   \u001b[0m | \u001b[0m0.5894   \u001b[0m | \u001b[0m0.3449   \u001b[0m |\n",
            "| \u001b[0m66       \u001b[0m | \u001b[0m0.9373   \u001b[0m | \u001b[0m0.4707   \u001b[0m | \u001b[0m0.727    \u001b[0m | \u001b[0m0.9408   \u001b[0m | \u001b[0m0.0      \u001b[0m | \u001b[0m1.0      \u001b[0m |\n",
            "| \u001b[0m67       \u001b[0m | \u001b[0m0.9366   \u001b[0m | \u001b[0m0.6552   \u001b[0m | \u001b[0m0.7848   \u001b[0m | \u001b[0m0.9264   \u001b[0m | \u001b[0m0.1773   \u001b[0m | \u001b[0m1.0      \u001b[0m |\n",
            "| \u001b[0m68       \u001b[0m | \u001b[0m0.9374   \u001b[0m | \u001b[0m0.4006   \u001b[0m | \u001b[0m0.7083   \u001b[0m | \u001b[0m0.6857   \u001b[0m | \u001b[0m0.0      \u001b[0m | \u001b[0m1.0      \u001b[0m |\n",
            "| \u001b[0m69       \u001b[0m | \u001b[0m0.9365   \u001b[0m | \u001b[0m0.3818   \u001b[0m | \u001b[0m0.4757   \u001b[0m | \u001b[0m0.9519   \u001b[0m | \u001b[0m0.9008   \u001b[0m | \u001b[0m0.08406  \u001b[0m |\n",
            "| \u001b[0m70       \u001b[0m | \u001b[0m0.9371   \u001b[0m | \u001b[0m0.4577   \u001b[0m | \u001b[0m0.5367   \u001b[0m | \u001b[0m0.2642   \u001b[0m | \u001b[0m0.2568   \u001b[0m | \u001b[0m0.6036   \u001b[0m |\n",
            "| \u001b[0m71       \u001b[0m | \u001b[0m0.937    \u001b[0m | \u001b[0m0.5634   \u001b[0m | \u001b[0m0.6881   \u001b[0m | \u001b[0m0.4809   \u001b[0m | \u001b[0m0.0      \u001b[0m | \u001b[0m0.8593   \u001b[0m |\n",
            "| \u001b[0m72       \u001b[0m | \u001b[0m0.9369   \u001b[0m | \u001b[0m0.9833   \u001b[0m | \u001b[0m0.609    \u001b[0m | \u001b[0m0.2254   \u001b[0m | \u001b[0m0.5601   \u001b[0m | \u001b[0m0.3176   \u001b[0m |\n",
            "| \u001b[0m73       \u001b[0m | \u001b[0m0.9362   \u001b[0m | \u001b[0m0.8715   \u001b[0m | \u001b[0m0.9826   \u001b[0m | \u001b[0m0.9636   \u001b[0m | \u001b[0m0.4708   \u001b[0m | \u001b[0m0.06623  \u001b[0m |\n",
            "| \u001b[0m74       \u001b[0m | \u001b[0m0.9367   \u001b[0m | \u001b[0m0.6521   \u001b[0m | \u001b[0m0.3381   \u001b[0m | \u001b[0m0.1228   \u001b[0m | \u001b[0m0.6038   \u001b[0m | \u001b[0m0.05109  \u001b[0m |\n",
            "| \u001b[0m75       \u001b[0m | \u001b[0m0.9367   \u001b[0m | \u001b[0m0.4812   \u001b[0m | \u001b[0m0.8227   \u001b[0m | \u001b[0m0.7857   \u001b[0m | \u001b[0m0.0      \u001b[0m | \u001b[0m0.8185   \u001b[0m |\n",
            "| \u001b[0m76       \u001b[0m | \u001b[0m0.9365   \u001b[0m | \u001b[0m0.2685   \u001b[0m | \u001b[0m0.5077   \u001b[0m | \u001b[0m0.852    \u001b[0m | \u001b[0m0.0      \u001b[0m | \u001b[0m1.0      \u001b[0m |\n",
            "| \u001b[0m77       \u001b[0m | \u001b[0m0.9359   \u001b[0m | \u001b[0m0.6517   \u001b[0m | \u001b[0m0.2537   \u001b[0m | \u001b[0m0.6497   \u001b[0m | \u001b[0m0.2276   \u001b[0m | \u001b[0m0.175    \u001b[0m |\n",
            "| \u001b[0m78       \u001b[0m | \u001b[0m0.937    \u001b[0m | \u001b[0m0.7212   \u001b[0m | \u001b[0m0.9522   \u001b[0m | \u001b[0m0.67     \u001b[0m | \u001b[0m0.9867   \u001b[0m | \u001b[0m0.1321   \u001b[0m |\n",
            "| \u001b[0m79       \u001b[0m | \u001b[0m0.9359   \u001b[0m | \u001b[0m0.5894   \u001b[0m | \u001b[0m0.04559  \u001b[0m | \u001b[0m0.1632   \u001b[0m | \u001b[0m0.4614   \u001b[0m | \u001b[0m0.5782   \u001b[0m |\n",
            "| \u001b[0m80       \u001b[0m | \u001b[0m0.9362   \u001b[0m | \u001b[0m0.1018   \u001b[0m | \u001b[0m0.4319   \u001b[0m | \u001b[0m0.403    \u001b[0m | \u001b[0m0.5057   \u001b[0m | \u001b[0m0.2733   \u001b[0m |\n",
            "| \u001b[0m81       \u001b[0m | \u001b[0m0.9368   \u001b[0m | \u001b[0m0.7318   \u001b[0m | \u001b[0m0.9653   \u001b[0m | \u001b[0m0.5108   \u001b[0m | \u001b[0m0.0      \u001b[0m | \u001b[0m1.0      \u001b[0m |\n",
            "| \u001b[0m82       \u001b[0m | \u001b[0m0.9358   \u001b[0m | \u001b[0m0.723    \u001b[0m | \u001b[0m0.1974   \u001b[0m | \u001b[0m0.5129   \u001b[0m | \u001b[0m0.8177   \u001b[0m | \u001b[0m0.6919   \u001b[0m |\n",
            "| \u001b[0m83       \u001b[0m | \u001b[0m0.937    \u001b[0m | \u001b[0m0.292    \u001b[0m | \u001b[0m0.7115   \u001b[0m | \u001b[0m0.4328   \u001b[0m | \u001b[0m0.0      \u001b[0m | \u001b[0m1.0      \u001b[0m |\n",
            "| \u001b[0m84       \u001b[0m | \u001b[0m0.9363   \u001b[0m | \u001b[0m0.3682   \u001b[0m | \u001b[0m0.8274   \u001b[0m | \u001b[0m0.9807   \u001b[0m | \u001b[0m0.8609   \u001b[0m | \u001b[0m0.5779   \u001b[0m |\n",
            "| \u001b[0m85       \u001b[0m | \u001b[0m0.9362   \u001b[0m | \u001b[0m0.3827   \u001b[0m | \u001b[0m0.2023   \u001b[0m | \u001b[0m0.8002   \u001b[0m | \u001b[0m0.02089  \u001b[0m | \u001b[0m0.4145   \u001b[0m |\n",
            "| \u001b[0m86       \u001b[0m | \u001b[0m0.9373   \u001b[0m | \u001b[0m0.9936   \u001b[0m | \u001b[0m0.9242   \u001b[0m | \u001b[0m0.6145   \u001b[0m | \u001b[0m1.0      \u001b[0m | \u001b[0m0.3894   \u001b[0m |\n",
            "| \u001b[0m87       \u001b[0m | \u001b[0m0.937    \u001b[0m | \u001b[0m1.0      \u001b[0m | \u001b[0m0.7377   \u001b[0m | \u001b[0m0.4924   \u001b[0m | \u001b[0m0.8087   \u001b[0m | \u001b[0m0.4837   \u001b[0m |\n",
            "| \u001b[0m88       \u001b[0m | \u001b[0m0.9369   \u001b[0m | \u001b[0m0.9483   \u001b[0m | \u001b[0m0.9934   \u001b[0m | \u001b[0m0.9305   \u001b[0m | \u001b[0m0.9715   \u001b[0m | \u001b[0m0.4968   \u001b[0m |\n",
            "| \u001b[0m89       \u001b[0m | \u001b[0m0.936    \u001b[0m | \u001b[0m0.6913   \u001b[0m | \u001b[0m0.01186  \u001b[0m | \u001b[0m0.6497   \u001b[0m | \u001b[0m0.3406   \u001b[0m | \u001b[0m0.2249   \u001b[0m |\n",
            "| \u001b[0m90       \u001b[0m | \u001b[0m0.9372   \u001b[0m | \u001b[0m1.0      \u001b[0m | \u001b[0m1.0      \u001b[0m | \u001b[0m0.512    \u001b[0m | \u001b[0m1.0      \u001b[0m | \u001b[0m0.1165   \u001b[0m |\n",
            "| \u001b[0m91       \u001b[0m | \u001b[0m0.9369   \u001b[0m | \u001b[0m1.0      \u001b[0m | \u001b[0m0.7808   \u001b[0m | \u001b[0m0.7145   \u001b[0m | \u001b[0m1.0      \u001b[0m | \u001b[0m0.1629   \u001b[0m |\n",
            "| \u001b[0m92       \u001b[0m | \u001b[0m0.9376   \u001b[0m | \u001b[0m0.5776   \u001b[0m | \u001b[0m0.5732   \u001b[0m | \u001b[0m0.6726   \u001b[0m | \u001b[0m0.0      \u001b[0m | \u001b[0m1.0      \u001b[0m |\n",
            "| \u001b[0m93       \u001b[0m | \u001b[0m0.9362   \u001b[0m | \u001b[0m0.7358   \u001b[0m | \u001b[0m0.5145   \u001b[0m | \u001b[0m0.6601   \u001b[0m | \u001b[0m0.7552   \u001b[0m | \u001b[0m0.4529   \u001b[0m |\n",
            "| \u001b[0m94       \u001b[0m | \u001b[0m0.9372   \u001b[0m | \u001b[0m0.8092   \u001b[0m | \u001b[0m0.5361   \u001b[0m | \u001b[0m0.5978   \u001b[0m | \u001b[0m0.0      \u001b[0m | \u001b[0m1.0      \u001b[0m |\n",
            "| \u001b[0m95       \u001b[0m | \u001b[0m0.9371   \u001b[0m | \u001b[0m1.0      \u001b[0m | \u001b[0m1.0      \u001b[0m | \u001b[0m0.5158   \u001b[0m | \u001b[0m1.0      \u001b[0m | \u001b[0m0.6819   \u001b[0m |\n",
            "| \u001b[0m96       \u001b[0m | \u001b[0m0.9373   \u001b[0m | \u001b[0m0.8275   \u001b[0m | \u001b[0m1.0      \u001b[0m | \u001b[0m0.4152   \u001b[0m | \u001b[0m1.0      \u001b[0m | \u001b[0m0.3743   \u001b[0m |\n",
            "| \u001b[0m97       \u001b[0m | \u001b[0m0.9372   \u001b[0m | \u001b[0m0.5556   \u001b[0m | \u001b[0m0.6422   \u001b[0m | \u001b[0m0.5859   \u001b[0m | \u001b[0m0.1703   \u001b[0m | \u001b[0m1.0      \u001b[0m |\n",
            "| \u001b[0m98       \u001b[0m | \u001b[0m0.9371   \u001b[0m | \u001b[0m0.8219   \u001b[0m | \u001b[0m0.7335   \u001b[0m | \u001b[0m0.7939   \u001b[0m | \u001b[0m0.3665   \u001b[0m | \u001b[0m0.287    \u001b[0m |\n",
            "| \u001b[0m99       \u001b[0m | \u001b[0m0.9366   \u001b[0m | \u001b[0m0.7481   \u001b[0m | \u001b[0m1.0      \u001b[0m | \u001b[0m0.2838   \u001b[0m | \u001b[0m1.0      \u001b[0m | \u001b[0m0.0      \u001b[0m |\n",
            "| \u001b[0m100      \u001b[0m | \u001b[0m0.9371   \u001b[0m | \u001b[0m1.0      \u001b[0m | \u001b[0m1.0      \u001b[0m | \u001b[0m0.461    \u001b[0m | \u001b[0m0.8006   \u001b[0m | \u001b[0m0.3787   \u001b[0m |\n",
            "| \u001b[0m101      \u001b[0m | \u001b[0m0.9371   \u001b[0m | \u001b[0m0.805    \u001b[0m | \u001b[0m0.5661   \u001b[0m | \u001b[0m0.1445   \u001b[0m | \u001b[0m0.225    \u001b[0m | \u001b[0m0.6338   \u001b[0m |\n",
            "| \u001b[0m102      \u001b[0m | \u001b[0m0.9342   \u001b[0m | \u001b[0m1.0      \u001b[0m | \u001b[0m0.3614   \u001b[0m | \u001b[0m0.0      \u001b[0m | \u001b[0m0.1649   \u001b[0m | \u001b[0m0.3829   \u001b[0m |\n",
            "| \u001b[0m103      \u001b[0m | \u001b[0m0.9374   \u001b[0m | \u001b[0m0.8359   \u001b[0m | \u001b[0m0.7168   \u001b[0m | \u001b[0m0.2946   \u001b[0m | \u001b[0m0.3436   \u001b[0m | \u001b[0m0.7282   \u001b[0m |\n",
            "| \u001b[0m104      \u001b[0m | \u001b[0m0.9367   \u001b[0m | \u001b[0m0.7226   \u001b[0m | \u001b[0m0.6265   \u001b[0m | \u001b[0m0.1329   \u001b[0m | \u001b[0m0.2112   \u001b[0m | \u001b[0m0.8927   \u001b[0m |\n",
            "| \u001b[0m105      \u001b[0m | \u001b[0m0.9371   \u001b[0m | \u001b[0m0.7015   \u001b[0m | \u001b[0m0.6669   \u001b[0m | \u001b[0m0.2716   \u001b[0m | \u001b[0m0.3847   \u001b[0m | \u001b[0m0.5424   \u001b[0m |\n",
            "=====================================================================================\n",
            "Best result: {'w1': 0.3375944650789793, 'w2': 0.9977460761947159, 'w3': 0.4459910431596003, 'w4': 0.4941768890565836, 'w5': 0.9759401950591953}; f(x) = 0.9376.\n"
          ]
        }
      ]
    },
    {
      "cell_type": "code",
      "source": [
        "bayes_acc = [0.3375944650789793, 0.9977460761947159, 0.4459910431596003, 0.4941768890565836, 0.9759401950591953]\n",
        "# [0.5522155886070212, 0.814647765291938, 0.6594294004704345, 0.24886182964945547, 0.1841315041980888]\n",
        "bayes_acc = np.array(bayes_acc) #[1.0, 1.0, 1.0, 0.16441734337821873, 0.31083513379670263])\n",
        "bayes_acc /= bayes_acc.sum()\n",
        "print('Weights', bayes_acc)\n",
        "print('Uncertainty', corr_based_posterior_variance(corr_matrix, bayes_acc))\n",
        "ensemble_predictions = weighted_prediction(single_predictions, bayes_acc)\n",
        "ens_acc = accuracy_score(np.argmax(ensemble_predictions, axis=1), true_labels)\n",
        "print('Accuracy', round(ens_acc, 8))"
      ],
      "metadata": {
        "colab": {
          "base_uri": "https://localhost:8080/"
        },
        "id": "65ajyTnRJfqT",
        "outputId": "44b2e5e9-3a71-4418-f7ec-c277315d3762"
      },
      "execution_count": null,
      "outputs": [
        {
          "output_type": "stream",
          "name": "stdout",
          "text": [
            "Weights [0.10382894 0.30686201 0.13716687 0.15198668 0.3001555 ]\n",
            "Uncertainty 0.8827995935394732\n",
            "Accuracy 0.9376\n"
          ]
        }
      ]
    },
    {
      "cell_type": "markdown",
      "source": [
        "### Оптимизируем целевую функцию апостериорная дисперсия"
      ],
      "metadata": {
        "id": "h-dM7cr1YGcX"
      }
    },
    {
      "cell_type": "code",
      "source": [
        "for i in range(5):\n",
        "  print(posterior_variance(single_predictions[i], true_labels))"
      ],
      "metadata": {
        "colab": {
          "base_uri": "https://localhost:8080/"
        },
        "id": "Npg1AqPYYxN2",
        "outputId": "a0bb9d18-c32d-43fa-b28c-0d773e04a884"
      },
      "execution_count": null,
      "outputs": [
        {
          "output_type": "stream",
          "name": "stdout",
          "text": [
            "0.004706512701782091\n",
            "0.02590257122083417\n",
            "0.0019786596786228123\n",
            "0.0020723535209777807\n",
            "0.0023651083595907663\n"
          ]
        }
      ]
    },
    {
      "cell_type": "code",
      "source": [
        "posterior_variance(ensemble_predictions, true_labels)"
      ],
      "metadata": {
        "colab": {
          "base_uri": "https://localhost:8080/"
        },
        "id": "8lQsB9Y3Y5Wx",
        "outputId": "64d8590e-48a3-44ea-9b47-add3e7aedaa5"
      },
      "execution_count": null,
      "outputs": [
        {
          "output_type": "execute_result",
          "data": {
            "text/plain": [
              "0.0036830590257122047"
            ]
          },
          "metadata": {},
          "execution_count": 64
        }
      ]
    },
    {
      "cell_type": "code",
      "source": [
        "def black_box_function(w1, w2, w3, w4, w5):\n",
        "    weights = np.array([w1, w2, w3, w4, w5])\n",
        "    weights = weights / weights.sum()\n",
        "    ensemble_predictions = np.vstack((np.dot(weights, np.array(single_predictions)[:, :, 0]), np.dot(weights, np.array(single_predictions)[:, :, 1]))).T\n",
        "    pv = -posterior_variance(ensemble_predictions, true_labels)\n",
        "    return pv\n",
        "\n",
        "pbounds = {\"w1\": [0.0, 1.0], \"w2\": [0.0, 1.0], \"w3\": [0.0, 1.0], \"w4\": [0.0, 1.0], \"w5\": [0.0, 1.0]}\n",
        "optimizer = BayesianOptimization(f = black_box_function,\n",
        "                                 pbounds = pbounds, verbose = 5,\n",
        "                                 random_state = 4)"
      ],
      "metadata": {
        "id": "q-RHLXPLY9m0"
      },
      "execution_count": null,
      "outputs": []
    },
    {
      "cell_type": "code",
      "source": [
        "optimizer.maximize(init_points = 5, n_iter = 100)\n",
        "print(\"Best result: {}; f(x) = {}.\".format(optimizer.max[\"params\"], optimizer.max[\"target\"]))"
      ],
      "metadata": {
        "colab": {
          "base_uri": "https://localhost:8080/"
        },
        "id": "RgUij2XwZZfB",
        "outputId": "10cd6c5e-aae1-4e7c-c68f-40a3b302486c"
      },
      "execution_count": null,
      "outputs": [
        {
          "output_type": "stream",
          "name": "stdout",
          "text": [
            "|   iter    |  target   |    w1     |    w2     |    w3     |    w4     |    w5     |\n",
            "-------------------------------------------------------------------------------------\n",
            "| \u001b[0m1        \u001b[0m | \u001b[0m-0.0108  \u001b[0m | \u001b[0m0.967    \u001b[0m | \u001b[0m0.5472   \u001b[0m | \u001b[0m0.9727   \u001b[0m | \u001b[0m0.7148   \u001b[0m | \u001b[0m0.6977   \u001b[0m |\n",
            "| \u001b[95m2        \u001b[0m | \u001b[95m-0.004241\u001b[0m | \u001b[95m0.2161   \u001b[0m | \u001b[95m0.9763   \u001b[0m | \u001b[95m0.00623  \u001b[0m | \u001b[95m0.253    \u001b[0m | \u001b[95m0.4348   \u001b[0m |\n",
            "| \u001b[0m3        \u001b[0m | \u001b[0m-0.01853 \u001b[0m | \u001b[0m0.7794   \u001b[0m | \u001b[0m0.1977   \u001b[0m | \u001b[0m0.863    \u001b[0m | \u001b[0m0.9834   \u001b[0m | \u001b[0m0.1638   \u001b[0m |\n",
            "| \u001b[95m4        \u001b[0m | \u001b[95m-0.003488\u001b[0m | \u001b[95m0.5973   \u001b[0m | \u001b[95m0.008986 \u001b[0m | \u001b[95m0.3866   \u001b[0m | \u001b[95m0.04416  \u001b[0m | \u001b[95m0.9567   \u001b[0m |\n",
            "| \u001b[0m5        \u001b[0m | \u001b[0m-0.004125\u001b[0m | \u001b[0m0.4361   \u001b[0m | \u001b[0m0.949    \u001b[0m | \u001b[0m0.7863   \u001b[0m | \u001b[0m0.8663   \u001b[0m | \u001b[0m0.1732   \u001b[0m |\n",
            "| \u001b[95m6        \u001b[0m | \u001b[95m-0.0014  \u001b[0m | \u001b[95m0.4742   \u001b[0m | \u001b[95m0.9403   \u001b[0m | \u001b[95m0.7261   \u001b[0m | \u001b[95m0.8331   \u001b[0m | \u001b[95m0.2002   \u001b[0m |\n",
            "| \u001b[0m7        \u001b[0m | \u001b[0m-0.001951\u001b[0m | \u001b[0m0.5044   \u001b[0m | \u001b[0m0.9775   \u001b[0m | \u001b[0m0.4971   \u001b[0m | \u001b[0m0.6918   \u001b[0m | \u001b[0m0.2738   \u001b[0m |\n",
            "| \u001b[0m8        \u001b[0m | \u001b[0m-0.003502\u001b[0m | \u001b[0m0.7627   \u001b[0m | \u001b[0m1.0      \u001b[0m | \u001b[0m0.559    \u001b[0m | \u001b[0m0.9272   \u001b[0m | \u001b[0m0.1848   \u001b[0m |\n",
            "| \u001b[0m9        \u001b[0m | \u001b[0m-0.004073\u001b[0m | \u001b[0m0.6645   \u001b[0m | \u001b[0m1.0      \u001b[0m | \u001b[0m0.7643   \u001b[0m | \u001b[0m0.5203   \u001b[0m | \u001b[0m0.1513   \u001b[0m |\n",
            "| \u001b[0m10       \u001b[0m | \u001b[0m-0.004166\u001b[0m | \u001b[0m0.6486   \u001b[0m | \u001b[0m0.2326   \u001b[0m | \u001b[0m0.5245   \u001b[0m | \u001b[0m0.8381   \u001b[0m | \u001b[0m0.6563   \u001b[0m |\n",
            "| \u001b[0m11       \u001b[0m | \u001b[0m-0.001403\u001b[0m | \u001b[0m0.4824   \u001b[0m | \u001b[0m0.8859   \u001b[0m | \u001b[0m0.6055   \u001b[0m | \u001b[0m0.8998   \u001b[0m | \u001b[0m0.5009   \u001b[0m |\n",
            "| \u001b[0m12       \u001b[0m | \u001b[0m-0.002   \u001b[0m | \u001b[0m0.3455   \u001b[0m | \u001b[0m0.7692   \u001b[0m | \u001b[0m0.3981   \u001b[0m | \u001b[0m0.9569   \u001b[0m | \u001b[0m0.2351   \u001b[0m |\n",
            "| \u001b[0m13       \u001b[0m | \u001b[0m-0.001985\u001b[0m | \u001b[0m0.2158   \u001b[0m | \u001b[0m0.7018   \u001b[0m | \u001b[0m0.5806   \u001b[0m | \u001b[0m0.6259   \u001b[0m | \u001b[0m0.4372   \u001b[0m |\n",
            "| \u001b[0m14       \u001b[0m | \u001b[0m-0.004018\u001b[0m | \u001b[0m0.8284   \u001b[0m | \u001b[0m0.6943   \u001b[0m | \u001b[0m0.7797   \u001b[0m | \u001b[0m0.3608   \u001b[0m | \u001b[0m0.2728   \u001b[0m |\n",
            "| \u001b[0m15       \u001b[0m | \u001b[0m-0.001995\u001b[0m | \u001b[0m0.3134   \u001b[0m | \u001b[0m0.6418   \u001b[0m | \u001b[0m0.2455   \u001b[0m | \u001b[0m0.8314   \u001b[0m | \u001b[0m0.6867   \u001b[0m |\n",
            "| \u001b[0m16       \u001b[0m | \u001b[0m-0.002021\u001b[0m | \u001b[0m0.0634   \u001b[0m | \u001b[0m1.0      \u001b[0m | \u001b[0m0.3956   \u001b[0m | \u001b[0m0.8976   \u001b[0m | \u001b[0m0.5796   \u001b[0m |\n",
            "| \u001b[0m17       \u001b[0m | \u001b[0m-0.002012\u001b[0m | \u001b[0m0.1295   \u001b[0m | \u001b[0m0.8198   \u001b[0m | \u001b[0m0.9645   \u001b[0m | \u001b[0m0.4365   \u001b[0m | \u001b[0m0.1668   \u001b[0m |\n",
            "| \u001b[0m18       \u001b[0m | \u001b[0m-0.009209\u001b[0m | \u001b[0m0.3321   \u001b[0m | \u001b[0m0.6732   \u001b[0m | \u001b[0m0.2598   \u001b[0m | \u001b[0m0.7815   \u001b[0m | \u001b[0m0.6914   \u001b[0m |\n",
            "| \u001b[0m19       \u001b[0m | \u001b[0m-0.004055\u001b[0m | \u001b[0m0.931    \u001b[0m | \u001b[0m0.5505   \u001b[0m | \u001b[0m0.285    \u001b[0m | \u001b[0m0.8443   \u001b[0m | \u001b[0m0.3037   \u001b[0m |\n",
            "| \u001b[0m20       \u001b[0m | \u001b[0m-0.003467\u001b[0m | \u001b[0m0.6828   \u001b[0m | \u001b[0m0.4203   \u001b[0m | \u001b[0m0.1475   \u001b[0m | \u001b[0m0.8247   \u001b[0m | \u001b[0m0.9794   \u001b[0m |\n",
            "| \u001b[95m21       \u001b[0m | \u001b[95m-0.001318\u001b[0m | \u001b[95m0.2732   \u001b[0m | \u001b[95m0.1576   \u001b[0m | \u001b[95m0.5301   \u001b[0m | \u001b[95m0.2336   \u001b[0m | \u001b[95m0.8227   \u001b[0m |\n",
            "| \u001b[0m22       \u001b[0m | \u001b[0m-0.003513\u001b[0m | \u001b[0m0.205    \u001b[0m | \u001b[0m0.6082   \u001b[0m | \u001b[0m0.3724   \u001b[0m | \u001b[0m0.4919   \u001b[0m | \u001b[0m0.3993   \u001b[0m |\n",
            "| \u001b[0m23       \u001b[0m | \u001b[0m-0.003541\u001b[0m | \u001b[0m0.8289   \u001b[0m | \u001b[0m0.8376   \u001b[0m | \u001b[0m0.2484   \u001b[0m | \u001b[0m0.1022   \u001b[0m | \u001b[0m0.7304   \u001b[0m |\n",
            "| \u001b[0m24       \u001b[0m | \u001b[0m-0.004175\u001b[0m | \u001b[0m0.2601   \u001b[0m | \u001b[0m0.9112   \u001b[0m | \u001b[0m0.9703   \u001b[0m | \u001b[0m0.3819   \u001b[0m | \u001b[0m0.009365 \u001b[0m |\n",
            "| \u001b[0m25       \u001b[0m | \u001b[0m-0.004052\u001b[0m | \u001b[0m0.1546   \u001b[0m | \u001b[0m0.3859   \u001b[0m | \u001b[0m0.2965   \u001b[0m | \u001b[0m0.2655   \u001b[0m | \u001b[0m0.3112   \u001b[0m |\n",
            "| \u001b[0m26       \u001b[0m | \u001b[0m-0.02756 \u001b[0m | \u001b[0m0.6154   \u001b[0m | \u001b[0m0.1273   \u001b[0m | \u001b[0m0.2478   \u001b[0m | \u001b[0m0.7089   \u001b[0m | \u001b[0m0.7287   \u001b[0m |\n",
            "| \u001b[0m27       \u001b[0m | \u001b[0m-0.001403\u001b[0m | \u001b[0m0.8516   \u001b[0m | \u001b[0m0.8248   \u001b[0m | \u001b[0m0.374    \u001b[0m | \u001b[0m0.7099   \u001b[0m | \u001b[0m0.9122   \u001b[0m |\n",
            "| \u001b[0m28       \u001b[0m | \u001b[0m-0.013   \u001b[0m | \u001b[0m0.7413   \u001b[0m | \u001b[0m0.1595   \u001b[0m | \u001b[0m0.6833   \u001b[0m | \u001b[0m0.4743   \u001b[0m | \u001b[0m0.3192   \u001b[0m |\n",
            "| \u001b[0m29       \u001b[0m | \u001b[0m-0.001919\u001b[0m | \u001b[0m0.1592   \u001b[0m | \u001b[0m0.06806  \u001b[0m | \u001b[0m0.9004   \u001b[0m | \u001b[0m0.2486   \u001b[0m | \u001b[0m0.4924   \u001b[0m |\n",
            "| \u001b[0m30       \u001b[0m | \u001b[0m-0.003469\u001b[0m | \u001b[0m0.5613   \u001b[0m | \u001b[0m0.8475   \u001b[0m | \u001b[0m0.04235  \u001b[0m | \u001b[0m0.9225   \u001b[0m | \u001b[0m0.2618   \u001b[0m |\n",
            "| \u001b[0m31       \u001b[0m | \u001b[0m-0.001963\u001b[0m | \u001b[0m0.442    \u001b[0m | \u001b[0m0.8427   \u001b[0m | \u001b[0m0.6854   \u001b[0m | \u001b[0m0.2872   \u001b[0m | \u001b[0m0.006722 \u001b[0m |\n",
            "| \u001b[0m32       \u001b[0m | \u001b[0m-0.00194 \u001b[0m | \u001b[0m0.8359   \u001b[0m | \u001b[0m0.9002   \u001b[0m | \u001b[0m0.6997   \u001b[0m | \u001b[0m0.01456  \u001b[0m | \u001b[0m0.1891   \u001b[0m |\n",
            "| \u001b[0m33       \u001b[0m | \u001b[0m-0.001945\u001b[0m | \u001b[0m0.2683   \u001b[0m | \u001b[0m0.1798   \u001b[0m | \u001b[0m0.6065   \u001b[0m | \u001b[0m0.8255   \u001b[0m | \u001b[0m0.5724   \u001b[0m |\n",
            "| \u001b[0m34       \u001b[0m | \u001b[0m-0.00416 \u001b[0m | \u001b[0m0.7525   \u001b[0m | \u001b[0m0.2607   \u001b[0m | \u001b[0m0.9547   \u001b[0m | \u001b[0m0.8944   \u001b[0m | \u001b[0m0.2446   \u001b[0m |\n",
            "| \u001b[0m35       \u001b[0m | \u001b[0m-0.004255\u001b[0m | \u001b[0m0.2104   \u001b[0m | \u001b[0m0.1861   \u001b[0m | \u001b[0m0.4735   \u001b[0m | \u001b[0m0.804    \u001b[0m | \u001b[0m0.358    \u001b[0m |\n",
            "| \u001b[0m36       \u001b[0m | \u001b[0m-0.0129  \u001b[0m | \u001b[0m0.1631   \u001b[0m | \u001b[0m0.7596   \u001b[0m | \u001b[0m0.4728   \u001b[0m | \u001b[0m0.4353   \u001b[0m | \u001b[0m0.08163  \u001b[0m |\n",
            "| \u001b[0m37       \u001b[0m | \u001b[0m-0.02679 \u001b[0m | \u001b[0m0.9002   \u001b[0m | \u001b[0m0.2717   \u001b[0m | \u001b[0m0.3671   \u001b[0m | \u001b[0m0.3627   \u001b[0m | \u001b[0m0.5509   \u001b[0m |\n",
            "| \u001b[0m38       \u001b[0m | \u001b[0m-0.009673\u001b[0m | \u001b[0m0.1108   \u001b[0m | \u001b[0m0.02178  \u001b[0m | \u001b[0m0.8232   \u001b[0m | \u001b[0m0.1539   \u001b[0m | \u001b[0m0.7314   \u001b[0m |\n",
            "| \u001b[0m39       \u001b[0m | \u001b[0m-0.009685\u001b[0m | \u001b[0m0.3472   \u001b[0m | \u001b[0m0.2714   \u001b[0m | \u001b[0m0.4654   \u001b[0m | \u001b[0m0.9571   \u001b[0m | \u001b[0m0.9474   \u001b[0m |\n",
            "| \u001b[0m40       \u001b[0m | \u001b[0m-0.001937\u001b[0m | \u001b[0m0.4637   \u001b[0m | \u001b[0m0.902    \u001b[0m | \u001b[0m0.7818   \u001b[0m | \u001b[0m0.3877   \u001b[0m | \u001b[0m0.8984   \u001b[0m |\n",
            "| \u001b[0m41       \u001b[0m | \u001b[0m-0.004096\u001b[0m | \u001b[0m0.6904   \u001b[0m | \u001b[0m0.7326   \u001b[0m | \u001b[0m0.7007   \u001b[0m | \u001b[0m0.379    \u001b[0m | \u001b[0m0.6544   \u001b[0m |\n",
            "| \u001b[0m42       \u001b[0m | \u001b[0m-0.003551\u001b[0m | \u001b[0m0.2885   \u001b[0m | \u001b[0m0.09037  \u001b[0m | \u001b[0m0.4789   \u001b[0m | \u001b[0m0.8253   \u001b[0m | \u001b[0m0.432    \u001b[0m |\n",
            "| \u001b[0m43       \u001b[0m | \u001b[0m-0.00419 \u001b[0m | \u001b[0m0.2233   \u001b[0m | \u001b[0m0.0354   \u001b[0m | \u001b[0m0.3309   \u001b[0m | \u001b[0m0.2198   \u001b[0m | \u001b[0m0.2037   \u001b[0m |\n",
            "| \u001b[0m44       \u001b[0m | \u001b[0m-0.002005\u001b[0m | \u001b[0m0.3111   \u001b[0m | \u001b[0m0.8654   \u001b[0m | \u001b[0m0.3204   \u001b[0m | \u001b[0m0.2828   \u001b[0m | \u001b[0m0.6553   \u001b[0m |\n",
            "| \u001b[0m45       \u001b[0m | \u001b[0m-0.009624\u001b[0m | \u001b[0m0.8921   \u001b[0m | \u001b[0m0.1692   \u001b[0m | \u001b[0m0.4547   \u001b[0m | \u001b[0m0.9815   \u001b[0m | \u001b[0m0.1102   \u001b[0m |\n",
            "| \u001b[0m46       \u001b[0m | \u001b[0m-0.004113\u001b[0m | \u001b[0m0.245    \u001b[0m | \u001b[0m0.1917   \u001b[0m | \u001b[0m0.961    \u001b[0m | \u001b[0m0.3196   \u001b[0m | \u001b[0m0.3843   \u001b[0m |\n",
            "| \u001b[0m47       \u001b[0m | \u001b[0m-0.001327\u001b[0m | \u001b[0m0.1433   \u001b[0m | \u001b[0m0.2868   \u001b[0m | \u001b[0m0.3227   \u001b[0m | \u001b[0m0.9452   \u001b[0m | \u001b[0m0.7201   \u001b[0m |\n",
            "| \u001b[0m48       \u001b[0m | \u001b[0m-0.00363 \u001b[0m | \u001b[0m0.5728   \u001b[0m | \u001b[0m0.2755   \u001b[0m | \u001b[0m0.8816   \u001b[0m | \u001b[0m0.8453   \u001b[0m | \u001b[0m0.8345   \u001b[0m |\n",
            "| \u001b[0m49       \u001b[0m | \u001b[0m-0.001999\u001b[0m | \u001b[0m0.1925   \u001b[0m | \u001b[0m0.3459   \u001b[0m | \u001b[0m0.05472  \u001b[0m | \u001b[0m0.2993   \u001b[0m | \u001b[0m0.3845   \u001b[0m |\n",
            "| \u001b[0m50       \u001b[0m | \u001b[0m-0.001372\u001b[0m | \u001b[0m0.004032 \u001b[0m | \u001b[0m0.7407   \u001b[0m | \u001b[0m0.6959   \u001b[0m | \u001b[0m0.2236   \u001b[0m | \u001b[0m0.3651   \u001b[0m |\n",
            "| \u001b[0m51       \u001b[0m | \u001b[0m-0.004169\u001b[0m | \u001b[0m0.4524   \u001b[0m | \u001b[0m0.3687   \u001b[0m | \u001b[0m0.577    \u001b[0m | \u001b[0m0.5685   \u001b[0m | \u001b[0m0.3226   \u001b[0m |\n",
            "| \u001b[0m52       \u001b[0m | \u001b[0m-0.009813\u001b[0m | \u001b[0m0.6639   \u001b[0m | \u001b[0m0.7005   \u001b[0m | \u001b[0m0.8755   \u001b[0m | \u001b[0m0.6453   \u001b[0m | \u001b[0m0.6773   \u001b[0m |\n",
            "| \u001b[0m53       \u001b[0m | \u001b[0m-0.001748\u001b[0m | \u001b[0m0.6863   \u001b[0m | \u001b[0m0.08799  \u001b[0m | \u001b[0m0.284    \u001b[0m | \u001b[0m0.03367  \u001b[0m | \u001b[0m0.07079  \u001b[0m |\n",
            "| \u001b[0m54       \u001b[0m | \u001b[0m-0.004219\u001b[0m | \u001b[0m0.2346   \u001b[0m | \u001b[0m0.0923   \u001b[0m | \u001b[0m0.329    \u001b[0m | \u001b[0m0.6001   \u001b[0m | \u001b[0m0.5962   \u001b[0m |\n",
            "| \u001b[0m55       \u001b[0m | \u001b[0m-0.01275 \u001b[0m | \u001b[0m0.3349   \u001b[0m | \u001b[0m0.8773   \u001b[0m | \u001b[0m0.004005 \u001b[0m | \u001b[0m0.7373   \u001b[0m | \u001b[0m0.2819   \u001b[0m |\n",
            "| \u001b[0m56       \u001b[0m | \u001b[0m-0.003559\u001b[0m | \u001b[0m0.672    \u001b[0m | \u001b[0m0.7804   \u001b[0m | \u001b[0m0.3527   \u001b[0m | \u001b[0m0.646    \u001b[0m | \u001b[0m0.9519   \u001b[0m |\n",
            "| \u001b[0m57       \u001b[0m | \u001b[0m-0.004055\u001b[0m | \u001b[0m0.9635   \u001b[0m | \u001b[0m0.9142   \u001b[0m | \u001b[0m0.702    \u001b[0m | \u001b[0m0.6864   \u001b[0m | \u001b[0m0.6642   \u001b[0m |\n",
            "| \u001b[0m58       \u001b[0m | \u001b[0m-0.001343\u001b[0m | \u001b[0m0.1303   \u001b[0m | \u001b[0m0.1406   \u001b[0m | \u001b[0m0.489    \u001b[0m | \u001b[0m0.8091   \u001b[0m | \u001b[0m0.6217   \u001b[0m |\n",
            "| \u001b[0m59       \u001b[0m | \u001b[0m-0.00134 \u001b[0m | \u001b[0m0.1018   \u001b[0m | \u001b[0m0.8899   \u001b[0m | \u001b[0m0.8869   \u001b[0m | \u001b[0m0.8613   \u001b[0m | \u001b[0m0.9667   \u001b[0m |\n",
            "| \u001b[0m60       \u001b[0m | \u001b[0m-0.002034\u001b[0m | \u001b[0m0.1528   \u001b[0m | \u001b[0m0.226    \u001b[0m | \u001b[0m0.0794   \u001b[0m | \u001b[0m0.6481   \u001b[0m | \u001b[0m0.5217   \u001b[0m |\n",
            "| \u001b[0m61       \u001b[0m | \u001b[0m-0.004169\u001b[0m | \u001b[0m0.821    \u001b[0m | \u001b[0m0.08091  \u001b[0m | \u001b[0m0.6742   \u001b[0m | \u001b[0m0.457    \u001b[0m | \u001b[0m0.5582   \u001b[0m |\n",
            "| \u001b[0m62       \u001b[0m | \u001b[0m-0.009837\u001b[0m | \u001b[0m0.6704   \u001b[0m | \u001b[0m0.7033   \u001b[0m | \u001b[0m0.1917   \u001b[0m | \u001b[0m0.7315   \u001b[0m | \u001b[0m0.6519   \u001b[0m |\n",
            "| \u001b[0m63       \u001b[0m | \u001b[0m-0.009056\u001b[0m | \u001b[0m0.2435   \u001b[0m | \u001b[0m0.243    \u001b[0m | \u001b[0m0.1425   \u001b[0m | \u001b[0m0.8964   \u001b[0m | \u001b[0m0.7513   \u001b[0m |\n",
            "| \u001b[0m64       \u001b[0m | \u001b[0m-0.004134\u001b[0m | \u001b[0m0.0567   \u001b[0m | \u001b[0m0.2053   \u001b[0m | \u001b[0m0.8884   \u001b[0m | \u001b[0m0.9017   \u001b[0m | \u001b[0m0.3387   \u001b[0m |\n",
            "| \u001b[0m65       \u001b[0m | \u001b[0m-0.001428\u001b[0m | \u001b[0m0.9438   \u001b[0m | \u001b[0m0.4959   \u001b[0m | \u001b[0m0.3834   \u001b[0m | \u001b[0m0.5894   \u001b[0m | \u001b[0m0.3449   \u001b[0m |\n",
            "| \u001b[0m66       \u001b[0m | \u001b[0m-0.004093\u001b[0m | \u001b[0m0.6231   \u001b[0m | \u001b[0m0.8378   \u001b[0m | \u001b[0m0.5946   \u001b[0m | \u001b[0m0.2881   \u001b[0m | \u001b[0m0.2831   \u001b[0m |\n",
            "| \u001b[0m67       \u001b[0m | \u001b[0m-0.004128\u001b[0m | \u001b[0m0.5516   \u001b[0m | \u001b[0m0.6392   \u001b[0m | \u001b[0m0.5589   \u001b[0m | \u001b[0m0.6213   \u001b[0m | \u001b[0m0.9996   \u001b[0m |\n",
            "| \u001b[0m68       \u001b[0m | \u001b[0m-0.001923\u001b[0m | \u001b[0m0.1684   \u001b[0m | \u001b[0m0.08099  \u001b[0m | \u001b[0m0.7918   \u001b[0m | \u001b[0m0.5468   \u001b[0m | \u001b[0m0.9009   \u001b[0m |\n",
            "| \u001b[0m69       \u001b[0m | \u001b[0m-0.004108\u001b[0m | \u001b[0m0.3818   \u001b[0m | \u001b[0m0.4757   \u001b[0m | \u001b[0m0.9519   \u001b[0m | \u001b[0m0.9008   \u001b[0m | \u001b[0m0.08406  \u001b[0m |\n",
            "| \u001b[0m70       \u001b[0m | \u001b[0m-0.009794\u001b[0m | \u001b[0m0.4577   \u001b[0m | \u001b[0m0.5367   \u001b[0m | \u001b[0m0.2642   \u001b[0m | \u001b[0m0.2568   \u001b[0m | \u001b[0m0.6036   \u001b[0m |\n",
            "| \u001b[0m71       \u001b[0m | \u001b[0m-0.002049\u001b[0m | \u001b[0m0.3835   \u001b[0m | \u001b[0m0.8579   \u001b[0m | \u001b[0m0.2058   \u001b[0m | \u001b[0m0.01595  \u001b[0m | \u001b[0m0.978    \u001b[0m |\n",
            "| \u001b[0m72       \u001b[0m | \u001b[0m-0.00985 \u001b[0m | \u001b[0m0.9833   \u001b[0m | \u001b[0m0.609    \u001b[0m | \u001b[0m0.2254   \u001b[0m | \u001b[0m0.5601   \u001b[0m | \u001b[0m0.3176   \u001b[0m |\n",
            "| \u001b[0m73       \u001b[0m | \u001b[0m-0.001368\u001b[0m | \u001b[0m0.8715   \u001b[0m | \u001b[0m0.9826   \u001b[0m | \u001b[0m0.9636   \u001b[0m | \u001b[0m0.4708   \u001b[0m | \u001b[0m0.06623  \u001b[0m |\n",
            "| \u001b[0m74       \u001b[0m | \u001b[0m-0.004084\u001b[0m | \u001b[0m0.6521   \u001b[0m | \u001b[0m0.3381   \u001b[0m | \u001b[0m0.1228   \u001b[0m | \u001b[0m0.6038   \u001b[0m | \u001b[0m0.05109  \u001b[0m |\n",
            "| \u001b[0m75       \u001b[0m | \u001b[0m-0.004161\u001b[0m | \u001b[0m0.5537   \u001b[0m | \u001b[0m0.6756   \u001b[0m | \u001b[0m0.03939  \u001b[0m | \u001b[0m0.1125   \u001b[0m | \u001b[0m0.7366   \u001b[0m |\n",
            "| \u001b[0m76       \u001b[0m | \u001b[0m-0.00359 \u001b[0m | \u001b[0m0.0009204\u001b[0m | \u001b[0m0.2541   \u001b[0m | \u001b[0m0.737    \u001b[0m | \u001b[0m0.1999   \u001b[0m | \u001b[0m0.4737   \u001b[0m |\n",
            "| \u001b[0m77       \u001b[0m | \u001b[0m-0.009057\u001b[0m | \u001b[0m0.6517   \u001b[0m | \u001b[0m0.2537   \u001b[0m | \u001b[0m0.6497   \u001b[0m | \u001b[0m0.2276   \u001b[0m | \u001b[0m0.175    \u001b[0m |\n",
            "| \u001b[0m78       \u001b[0m | \u001b[0m-0.009862\u001b[0m | \u001b[0m0.7212   \u001b[0m | \u001b[0m0.9522   \u001b[0m | \u001b[0m0.67     \u001b[0m | \u001b[0m0.9867   \u001b[0m | \u001b[0m0.1321   \u001b[0m |\n",
            "| \u001b[0m79       \u001b[0m | \u001b[0m-0.004184\u001b[0m | \u001b[0m0.5894   \u001b[0m | \u001b[0m0.04559  \u001b[0m | \u001b[0m0.1632   \u001b[0m | \u001b[0m0.4614   \u001b[0m | \u001b[0m0.5782   \u001b[0m |\n",
            "| \u001b[0m80       \u001b[0m | \u001b[0m-0.009237\u001b[0m | \u001b[0m0.1018   \u001b[0m | \u001b[0m0.4319   \u001b[0m | \u001b[0m0.403    \u001b[0m | \u001b[0m0.5057   \u001b[0m | \u001b[0m0.2733   \u001b[0m |\n",
            "| \u001b[0m81       \u001b[0m | \u001b[0m-0.001941\u001b[0m | \u001b[0m0.2308   \u001b[0m | \u001b[0m0.8999   \u001b[0m | \u001b[0m0.362    \u001b[0m | \u001b[0m0.6237   \u001b[0m | \u001b[0m0.3788   \u001b[0m |\n",
            "| \u001b[0m82       \u001b[0m | \u001b[0m-0.001923\u001b[0m | \u001b[0m0.723    \u001b[0m | \u001b[0m0.1974   \u001b[0m | \u001b[0m0.5129   \u001b[0m | \u001b[0m0.8177   \u001b[0m | \u001b[0m0.6919   \u001b[0m |\n",
            "| \u001b[0m83       \u001b[0m | \u001b[0m-0.003578\u001b[0m | \u001b[0m0.5488   \u001b[0m | \u001b[0m0.1626   \u001b[0m | \u001b[0m0.4621   \u001b[0m | \u001b[0m0.3573   \u001b[0m | \u001b[0m0.8862   \u001b[0m |\n",
            "| \u001b[0m84       \u001b[0m | \u001b[0m-0.00923 \u001b[0m | \u001b[0m0.3682   \u001b[0m | \u001b[0m0.8274   \u001b[0m | \u001b[0m0.9807   \u001b[0m | \u001b[0m0.8609   \u001b[0m | \u001b[0m0.5779   \u001b[0m |\n",
            "| \u001b[0m85       \u001b[0m | \u001b[0m-0.004157\u001b[0m | \u001b[0m0.3827   \u001b[0m | \u001b[0m0.2023   \u001b[0m | \u001b[0m0.8002   \u001b[0m | \u001b[0m0.02089  \u001b[0m | \u001b[0m0.4145   \u001b[0m |\n",
            "| \u001b[0m86       \u001b[0m | \u001b[0m-0.004052\u001b[0m | \u001b[0m0.9921   \u001b[0m | \u001b[0m0.8313   \u001b[0m | \u001b[0m0.5253   \u001b[0m | \u001b[0m0.9643   \u001b[0m | \u001b[0m0.5172   \u001b[0m |\n",
            "| \u001b[0m87       \u001b[0m | \u001b[0m-0.003581\u001b[0m | \u001b[0m0.3481   \u001b[0m | \u001b[0m0.1877   \u001b[0m | \u001b[0m0.4694   \u001b[0m | \u001b[0m0.7065   \u001b[0m | \u001b[0m0.1913   \u001b[0m |\n",
            "| \u001b[0m88       \u001b[0m | \u001b[0m-0.004113\u001b[0m | \u001b[0m0.1173   \u001b[0m | \u001b[0m0.4262   \u001b[0m | \u001b[0m0.4772   \u001b[0m | \u001b[0m0.1588   \u001b[0m | \u001b[0m0.5647   \u001b[0m |\n",
            "| \u001b[0m89       \u001b[0m | \u001b[0m-0.001357\u001b[0m | \u001b[0m0.6913   \u001b[0m | \u001b[0m0.01186  \u001b[0m | \u001b[0m0.6497   \u001b[0m | \u001b[0m0.3406   \u001b[0m | \u001b[0m0.2249   \u001b[0m |\n",
            "| \u001b[0m90       \u001b[0m | \u001b[0m-0.003538\u001b[0m | \u001b[0m0.7451   \u001b[0m | \u001b[0m0.5702   \u001b[0m | \u001b[0m0.0001416\u001b[0m | \u001b[0m0.7278   \u001b[0m | \u001b[0m0.06221  \u001b[0m |\n",
            "| \u001b[0m91       \u001b[0m | \u001b[0m-0.0186  \u001b[0m | \u001b[0m0.3255   \u001b[0m | \u001b[0m0.6169   \u001b[0m | \u001b[0m0.8348   \u001b[0m | \u001b[0m0.355    \u001b[0m | \u001b[0m0.1709   \u001b[0m |\n",
            "| \u001b[0m92       \u001b[0m | \u001b[0m-0.03216 \u001b[0m | \u001b[0m0.4493   \u001b[0m | \u001b[0m0.1092   \u001b[0m | \u001b[0m0.1178   \u001b[0m | \u001b[0m0.947    \u001b[0m | \u001b[0m0.6112   \u001b[0m |\n",
            "| \u001b[0m93       \u001b[0m | \u001b[0m-0.003555\u001b[0m | \u001b[0m0.7358   \u001b[0m | \u001b[0m0.5145   \u001b[0m | \u001b[0m0.6601   \u001b[0m | \u001b[0m0.7552   \u001b[0m | \u001b[0m0.4529   \u001b[0m |\n",
            "| \u001b[0m94       \u001b[0m | \u001b[0m-0.004061\u001b[0m | \u001b[0m0.9964   \u001b[0m | \u001b[0m0.6379   \u001b[0m | \u001b[0m0.2674   \u001b[0m | \u001b[0m0.04498  \u001b[0m | \u001b[0m0.8382   \u001b[0m |\n",
            "| \u001b[0m95       \u001b[0m | \u001b[0m-0.001945\u001b[0m | \u001b[0m0.9551   \u001b[0m | \u001b[0m0.485    \u001b[0m | \u001b[0m0.91     \u001b[0m | \u001b[0m0.8674   \u001b[0m | \u001b[0m0.9056   \u001b[0m |\n",
            "| \u001b[0m96       \u001b[0m | \u001b[0m-0.004052\u001b[0m | \u001b[0m0.05914  \u001b[0m | \u001b[0m0.5226   \u001b[0m | \u001b[0m0.8855   \u001b[0m | \u001b[0m0.5629   \u001b[0m | \u001b[0m0.517    \u001b[0m |\n",
            "| \u001b[0m97       \u001b[0m | \u001b[0m-0.003487\u001b[0m | \u001b[0m0.1745   \u001b[0m | \u001b[0m0.4649   \u001b[0m | \u001b[0m0.2567   \u001b[0m | \u001b[0m0.8271   \u001b[0m | \u001b[0m0.5767   \u001b[0m |\n",
            "| \u001b[0m98       \u001b[0m | \u001b[0m-0.001972\u001b[0m | \u001b[0m0.2204   \u001b[0m | \u001b[0m0.6318   \u001b[0m | \u001b[0m0.9629   \u001b[0m | \u001b[0m0.4813   \u001b[0m | \u001b[0m0.8869   \u001b[0m |\n",
            "| \u001b[0m99       \u001b[0m | \u001b[0m-0.004076\u001b[0m | \u001b[0m0.3832   \u001b[0m | \u001b[0m0.4364   \u001b[0m | \u001b[0m0.3917   \u001b[0m | \u001b[0m0.1449   \u001b[0m | \u001b[0m0.8953   \u001b[0m |\n",
            "| \u001b[0m100      \u001b[0m | \u001b[0m-0.009736\u001b[0m | \u001b[0m0.9139   \u001b[0m | \u001b[0m0.6083   \u001b[0m | \u001b[0m0.6553   \u001b[0m | \u001b[0m0.5527   \u001b[0m | \u001b[0m0.685    \u001b[0m |\n",
            "| \u001b[0m101      \u001b[0m | \u001b[0m-0.001999\u001b[0m | \u001b[0m0.0852   \u001b[0m | \u001b[0m0.725    \u001b[0m | \u001b[0m0.7511   \u001b[0m | \u001b[0m0.9282   \u001b[0m | \u001b[0m0.1719   \u001b[0m |\n",
            "| \u001b[0m102      \u001b[0m | \u001b[0m-0.009721\u001b[0m | \u001b[0m0.6554   \u001b[0m | \u001b[0m0.3726   \u001b[0m | \u001b[0m0.377    \u001b[0m | \u001b[0m0.9508   \u001b[0m | \u001b[0m0.9692   \u001b[0m |\n",
            "| \u001b[0m103      \u001b[0m | \u001b[0m-0.001946\u001b[0m | \u001b[0m0.5738   \u001b[0m | \u001b[0m0.6513   \u001b[0m | \u001b[0m0.3663   \u001b[0m | \u001b[0m0.9488   \u001b[0m | \u001b[0m0.4712   \u001b[0m |\n",
            "| \u001b[0m104      \u001b[0m | \u001b[0m-0.004131\u001b[0m | \u001b[0m0.1304   \u001b[0m | \u001b[0m0.602    \u001b[0m | \u001b[0m0.9387   \u001b[0m | \u001b[0m0.4437   \u001b[0m | \u001b[0m0.5494   \u001b[0m |\n",
            "| \u001b[0m105      \u001b[0m | \u001b[0m-0.009695\u001b[0m | \u001b[0m0.4165   \u001b[0m | \u001b[0m0.8936   \u001b[0m | \u001b[0m0.823    \u001b[0m | \u001b[0m0.4643   \u001b[0m | \u001b[0m0.4985   \u001b[0m |\n",
            "=====================================================================================\n",
            "Best result: {'w1': 0.27322247335255545, 'w2': 0.15757316181576198, 'w3': 0.5300519859825109, 'w4': 0.23363660668592545, 'w5': 0.8227101885137785}; f(x) = -0.0013176413884059166.\n"
          ]
        }
      ]
    },
    {
      "cell_type": "code",
      "source": [
        "weights = [0.27322247335255545, 0.15757316181576198, 0.5300519859825109, 0.23363660668592545, 0.8227101885137785]\n",
        "weights = np.array(weights)#[0.0, 1.0, 1.0, 1.0, 0.9974180288485169])\n",
        "weights = weights / weights.sum()\n",
        "print(weights)\n",
        "print(corr_based_posterior_variance(corr_matrix, weights))\n",
        "ensemble_predictions = np.vstack((np.dot(weights, np.array(single_predictions)[:, :, 0]), np.dot(weights, np.array(single_predictions)[:, :, 1]))).T\n",
        "ens_acc = accuracy_score(np.argmax(ensemble_predictions, axis=1), true_labels)\n",
        "ens_acc"
      ],
      "metadata": {
        "colab": {
          "base_uri": "https://localhost:8080/"
        },
        "id": "MV7IgSBqZgxj",
        "outputId": "614cd501-1e64-4dee-edc1-aea110af3918"
      },
      "execution_count": null,
      "outputs": [
        {
          "output_type": "stream",
          "name": "stdout",
          "text": [
            "[0.13544677 0.07811501 0.26276693 0.11582255 0.40784873]\n",
            "0.8435611617808152\n"
          ]
        },
        {
          "output_type": "execute_result",
          "data": {
            "text/plain": [
              "0.93568"
            ]
          },
          "metadata": {},
          "execution_count": 70
        }
      ]
    },
    {
      "cell_type": "code",
      "source": [],
      "metadata": {
        "id": "TZCeQhPELBIq"
      },
      "execution_count": null,
      "outputs": []
    }
  ]
}